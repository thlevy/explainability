{
 "cells": [
  {
   "cell_type": "markdown",
   "metadata": {},
   "source": [
    "# Comparison of multiple SHAP explainers\n",
    "We compare Kernel and Tree SHAP explainers applied for a classification model.\n",
    "\n",
    "The data used is the Titanic dataset already used in a previous notebook for which we build a Random Forest classification (i.e a Tree based ensemble model).\n",
    "\n",
    "The explainers used are:\n",
    "* Tree Explainer: provides a fast and exact SHAP algorithm for tree ensemble methods. Fast C++ implementations are supported for XGBoost, LightGBM, CatBoost, scikit-learn and pyspark tree models.\n",
    "* Kernel Explainer: it uses a specially-weighted local linear regression to estimate SHAP values for any model (i.e model agnostic)\n",
    "\n",
    "    \n",
    "## Building Classification model"
   ]
  },
  {
   "cell_type": "code",
   "execution_count": 2,
   "metadata": {},
   "outputs": [
    {
     "data": {
      "text/html": [
       "<div>\n",
       "<style scoped>\n",
       "    .dataframe tbody tr th:only-of-type {\n",
       "        vertical-align: middle;\n",
       "    }\n",
       "\n",
       "    .dataframe tbody tr th {\n",
       "        vertical-align: top;\n",
       "    }\n",
       "\n",
       "    .dataframe thead th {\n",
       "        text-align: right;\n",
       "    }\n",
       "</style>\n",
       "<table border=\"1\" class=\"dataframe\">\n",
       "  <thead>\n",
       "    <tr style=\"text-align: right;\">\n",
       "      <th></th>\n",
       "      <th>pclass</th>\n",
       "      <th>name</th>\n",
       "      <th>sex</th>\n",
       "      <th>age</th>\n",
       "      <th>sibsp</th>\n",
       "      <th>parch</th>\n",
       "      <th>ticket</th>\n",
       "      <th>fare</th>\n",
       "      <th>cabin</th>\n",
       "      <th>embarked</th>\n",
       "      <th>boat</th>\n",
       "      <th>body</th>\n",
       "      <th>home.dest</th>\n",
       "    </tr>\n",
       "  </thead>\n",
       "  <tbody>\n",
       "    <tr>\n",
       "      <td>0</td>\n",
       "      <td>1</td>\n",
       "      <td>Allen, Miss. Elisabeth Walton</td>\n",
       "      <td>female</td>\n",
       "      <td>29.0000</td>\n",
       "      <td>0.0</td>\n",
       "      <td>0.0</td>\n",
       "      <td>24160</td>\n",
       "      <td>211.3375</td>\n",
       "      <td>B5</td>\n",
       "      <td>S</td>\n",
       "      <td>2</td>\n",
       "      <td>NaN</td>\n",
       "      <td>St Louis, MO</td>\n",
       "    </tr>\n",
       "    <tr>\n",
       "      <td>1</td>\n",
       "      <td>1</td>\n",
       "      <td>Allison, Master. Hudson Trevor</td>\n",
       "      <td>male</td>\n",
       "      <td>0.9167</td>\n",
       "      <td>1.0</td>\n",
       "      <td>2.0</td>\n",
       "      <td>113781</td>\n",
       "      <td>151.5500</td>\n",
       "      <td>C22 C26</td>\n",
       "      <td>S</td>\n",
       "      <td>11</td>\n",
       "      <td>NaN</td>\n",
       "      <td>Montreal, PQ / Chesterville, ON</td>\n",
       "    </tr>\n",
       "    <tr>\n",
       "      <td>2</td>\n",
       "      <td>1</td>\n",
       "      <td>Allison, Miss. Helen Loraine</td>\n",
       "      <td>female</td>\n",
       "      <td>2.0000</td>\n",
       "      <td>1.0</td>\n",
       "      <td>2.0</td>\n",
       "      <td>113781</td>\n",
       "      <td>151.5500</td>\n",
       "      <td>C22 C26</td>\n",
       "      <td>S</td>\n",
       "      <td>None</td>\n",
       "      <td>NaN</td>\n",
       "      <td>Montreal, PQ / Chesterville, ON</td>\n",
       "    </tr>\n",
       "    <tr>\n",
       "      <td>3</td>\n",
       "      <td>1</td>\n",
       "      <td>Allison, Mr. Hudson Joshua Creighton</td>\n",
       "      <td>male</td>\n",
       "      <td>30.0000</td>\n",
       "      <td>1.0</td>\n",
       "      <td>2.0</td>\n",
       "      <td>113781</td>\n",
       "      <td>151.5500</td>\n",
       "      <td>C22 C26</td>\n",
       "      <td>S</td>\n",
       "      <td>None</td>\n",
       "      <td>135.0</td>\n",
       "      <td>Montreal, PQ / Chesterville, ON</td>\n",
       "    </tr>\n",
       "    <tr>\n",
       "      <td>4</td>\n",
       "      <td>1</td>\n",
       "      <td>Allison, Mrs. Hudson J C (Bessie Waldo Daniels)</td>\n",
       "      <td>female</td>\n",
       "      <td>25.0000</td>\n",
       "      <td>1.0</td>\n",
       "      <td>2.0</td>\n",
       "      <td>113781</td>\n",
       "      <td>151.5500</td>\n",
       "      <td>C22 C26</td>\n",
       "      <td>S</td>\n",
       "      <td>None</td>\n",
       "      <td>NaN</td>\n",
       "      <td>Montreal, PQ / Chesterville, ON</td>\n",
       "    </tr>\n",
       "  </tbody>\n",
       "</table>\n",
       "</div>"
      ],
      "text/plain": [
       "   pclass                                             name     sex      age  \\\n",
       "0       1                    Allen, Miss. Elisabeth Walton  female  29.0000   \n",
       "1       1                   Allison, Master. Hudson Trevor    male   0.9167   \n",
       "2       1                     Allison, Miss. Helen Loraine  female   2.0000   \n",
       "3       1             Allison, Mr. Hudson Joshua Creighton    male  30.0000   \n",
       "4       1  Allison, Mrs. Hudson J C (Bessie Waldo Daniels)  female  25.0000   \n",
       "\n",
       "   sibsp  parch  ticket      fare    cabin embarked  boat   body  \\\n",
       "0    0.0    0.0   24160  211.3375       B5        S     2    NaN   \n",
       "1    1.0    2.0  113781  151.5500  C22 C26        S    11    NaN   \n",
       "2    1.0    2.0  113781  151.5500  C22 C26        S  None    NaN   \n",
       "3    1.0    2.0  113781  151.5500  C22 C26        S  None  135.0   \n",
       "4    1.0    2.0  113781  151.5500  C22 C26        S  None    NaN   \n",
       "\n",
       "                         home.dest  \n",
       "0                     St Louis, MO  \n",
       "1  Montreal, PQ / Chesterville, ON  \n",
       "2  Montreal, PQ / Chesterville, ON  \n",
       "3  Montreal, PQ / Chesterville, ON  \n",
       "4  Montreal, PQ / Chesterville, ON  "
      ]
     },
     "execution_count": 2,
     "metadata": {},
     "output_type": "execute_result"
    }
   ],
   "source": [
    "import matplotlib.pyplot as plt\n",
    "import numpy as np\n",
    "import pandas as pd\n",
    "from sklearn.datasets import fetch_openml\n",
    "from sklearn.ensemble import RandomForestClassifier\n",
    "\n",
    "from sklearn.model_selection import train_test_split\n",
    "\n",
    "\n",
    "X_orig, y = fetch_openml(\"titanic\", version=1, as_frame=True, return_X_y=True)\n",
    "X_orig['pclass'] = X_orig['pclass'].astype('int')\n",
    "X_orig.head()\n",
    "#X_orig.tail(50)\n",
    "#X_orig.shape"
   ]
  },
  {
   "cell_type": "markdown",
   "metadata": {},
   "source": [
    "## Features\n",
    "We will use 7 variables (3 categorical features, 4 numerical features) to predict if a passenger will survive.\n"
   ]
  },
  {
   "cell_type": "code",
   "execution_count": 3,
   "metadata": {},
   "outputs": [
    {
     "name": "stdout",
     "output_type": "stream",
     "text": [
      "<class 'pandas.core.frame.DataFrame'>\n",
      "RangeIndex: 1309 entries, 0 to 1308\n",
      "Data columns (total 7 columns):\n",
      "pclass      1309 non-null int32\n",
      "sex         1309 non-null category\n",
      "embarked    1307 non-null category\n",
      "age         1046 non-null float64\n",
      "sibsp       1309 non-null float64\n",
      "parch       1309 non-null float64\n",
      "fare        1308 non-null float64\n",
      "dtypes: category(2), float64(4), int32(1)\n",
      "memory usage: 48.9 KB\n"
     ]
    }
   ],
   "source": [
    "categorical_columns = ['pclass', 'sex', 'embarked']\n",
    "numerical_columns = ['age', 'sibsp', 'parch', 'fare']\n",
    "\n",
    "X = X_orig[categorical_columns + numerical_columns].copy()\n",
    "X.head()\n",
    "X.info()"
   ]
  },
  {
   "cell_type": "markdown",
   "metadata": {},
   "source": [
    "## Features transformation\n",
    "We fill NA values and convert categorical features to one hot encoding (with dummies value)"
   ]
  },
  {
   "cell_type": "code",
   "execution_count": 4,
   "metadata": {},
   "outputs": [],
   "source": [
    "#Replace na by median for numerical features\n",
    "for c in numerical_columns:\n",
    "    X[c] = X[c].fillna(X[c].median())\n",
    "#Replace na by mode for categorical features\n",
    "for c in categorical_columns:\n",
    "    X[c] = X[c].astype('category')\n",
    "    X[c] = X[c].fillna(X[c].mode().iloc[0])"
   ]
  },
  {
   "cell_type": "code",
   "execution_count": 5,
   "metadata": {},
   "outputs": [
    {
     "data": {
      "text/html": [
       "<div>\n",
       "<style scoped>\n",
       "    .dataframe tbody tr th:only-of-type {\n",
       "        vertical-align: middle;\n",
       "    }\n",
       "\n",
       "    .dataframe tbody tr th {\n",
       "        vertical-align: top;\n",
       "    }\n",
       "\n",
       "    .dataframe thead th {\n",
       "        text-align: right;\n",
       "    }\n",
       "</style>\n",
       "<table border=\"1\" class=\"dataframe\">\n",
       "  <thead>\n",
       "    <tr style=\"text-align: right;\">\n",
       "      <th></th>\n",
       "      <th>pclass_2</th>\n",
       "      <th>pclass_3</th>\n",
       "      <th>sex_male</th>\n",
       "      <th>embarked_Q</th>\n",
       "      <th>embarked_S</th>\n",
       "    </tr>\n",
       "  </thead>\n",
       "  <tbody>\n",
       "    <tr>\n",
       "      <td>0</td>\n",
       "      <td>0</td>\n",
       "      <td>0</td>\n",
       "      <td>0</td>\n",
       "      <td>0</td>\n",
       "      <td>1</td>\n",
       "    </tr>\n",
       "    <tr>\n",
       "      <td>1</td>\n",
       "      <td>0</td>\n",
       "      <td>0</td>\n",
       "      <td>1</td>\n",
       "      <td>0</td>\n",
       "      <td>1</td>\n",
       "    </tr>\n",
       "    <tr>\n",
       "      <td>2</td>\n",
       "      <td>0</td>\n",
       "      <td>0</td>\n",
       "      <td>0</td>\n",
       "      <td>0</td>\n",
       "      <td>1</td>\n",
       "    </tr>\n",
       "    <tr>\n",
       "      <td>3</td>\n",
       "      <td>0</td>\n",
       "      <td>0</td>\n",
       "      <td>1</td>\n",
       "      <td>0</td>\n",
       "      <td>1</td>\n",
       "    </tr>\n",
       "    <tr>\n",
       "      <td>4</td>\n",
       "      <td>0</td>\n",
       "      <td>0</td>\n",
       "      <td>0</td>\n",
       "      <td>0</td>\n",
       "      <td>1</td>\n",
       "    </tr>\n",
       "  </tbody>\n",
       "</table>\n",
       "</div>"
      ],
      "text/plain": [
       "   pclass_2  pclass_3  sex_male  embarked_Q  embarked_S\n",
       "0         0         0         0           0           1\n",
       "1         0         0         1           0           1\n",
       "2         0         0         0           0           1\n",
       "3         0         0         1           0           1\n",
       "4         0         0         0           0           1"
      ]
     },
     "execution_count": 5,
     "metadata": {},
     "output_type": "execute_result"
    }
   ],
   "source": [
    "#Build dummies dataframe for categorical vars\n",
    "X_dum = pd.get_dummies(X[categorical_columns], prefix=categorical_columns, drop_first=True)\n",
    "#X_dum = pd.get_dummies(X[categorical_columns], prefix=categorical_columns)\n",
    "X_dum.head()"
   ]
  },
  {
   "cell_type": "code",
   "execution_count": 6,
   "metadata": {},
   "outputs": [
    {
     "data": {
      "text/html": [
       "<div>\n",
       "<style scoped>\n",
       "    .dataframe tbody tr th:only-of-type {\n",
       "        vertical-align: middle;\n",
       "    }\n",
       "\n",
       "    .dataframe tbody tr th {\n",
       "        vertical-align: top;\n",
       "    }\n",
       "\n",
       "    .dataframe thead th {\n",
       "        text-align: right;\n",
       "    }\n",
       "</style>\n",
       "<table border=\"1\" class=\"dataframe\">\n",
       "  <thead>\n",
       "    <tr style=\"text-align: right;\">\n",
       "      <th></th>\n",
       "      <th>age</th>\n",
       "      <th>sibsp</th>\n",
       "      <th>parch</th>\n",
       "      <th>fare</th>\n",
       "      <th>pclass_2</th>\n",
       "      <th>pclass_3</th>\n",
       "      <th>sex_male</th>\n",
       "      <th>embarked_Q</th>\n",
       "      <th>embarked_S</th>\n",
       "    </tr>\n",
       "  </thead>\n",
       "  <tbody>\n",
       "    <tr>\n",
       "      <td>0</td>\n",
       "      <td>29.0000</td>\n",
       "      <td>0.0</td>\n",
       "      <td>0.0</td>\n",
       "      <td>211.3375</td>\n",
       "      <td>0</td>\n",
       "      <td>0</td>\n",
       "      <td>0</td>\n",
       "      <td>0</td>\n",
       "      <td>1</td>\n",
       "    </tr>\n",
       "    <tr>\n",
       "      <td>1</td>\n",
       "      <td>0.9167</td>\n",
       "      <td>1.0</td>\n",
       "      <td>2.0</td>\n",
       "      <td>151.5500</td>\n",
       "      <td>0</td>\n",
       "      <td>0</td>\n",
       "      <td>1</td>\n",
       "      <td>0</td>\n",
       "      <td>1</td>\n",
       "    </tr>\n",
       "    <tr>\n",
       "      <td>2</td>\n",
       "      <td>2.0000</td>\n",
       "      <td>1.0</td>\n",
       "      <td>2.0</td>\n",
       "      <td>151.5500</td>\n",
       "      <td>0</td>\n",
       "      <td>0</td>\n",
       "      <td>0</td>\n",
       "      <td>0</td>\n",
       "      <td>1</td>\n",
       "    </tr>\n",
       "    <tr>\n",
       "      <td>3</td>\n",
       "      <td>30.0000</td>\n",
       "      <td>1.0</td>\n",
       "      <td>2.0</td>\n",
       "      <td>151.5500</td>\n",
       "      <td>0</td>\n",
       "      <td>0</td>\n",
       "      <td>1</td>\n",
       "      <td>0</td>\n",
       "      <td>1</td>\n",
       "    </tr>\n",
       "    <tr>\n",
       "      <td>4</td>\n",
       "      <td>25.0000</td>\n",
       "      <td>1.0</td>\n",
       "      <td>2.0</td>\n",
       "      <td>151.5500</td>\n",
       "      <td>0</td>\n",
       "      <td>0</td>\n",
       "      <td>0</td>\n",
       "      <td>0</td>\n",
       "      <td>1</td>\n",
       "    </tr>\n",
       "  </tbody>\n",
       "</table>\n",
       "</div>"
      ],
      "text/plain": [
       "       age  sibsp  parch      fare  pclass_2  pclass_3  sex_male  embarked_Q  \\\n",
       "0  29.0000    0.0    0.0  211.3375         0         0         0           0   \n",
       "1   0.9167    1.0    2.0  151.5500         0         0         1           0   \n",
       "2   2.0000    1.0    2.0  151.5500         0         0         0           0   \n",
       "3  30.0000    1.0    2.0  151.5500         0         0         1           0   \n",
       "4  25.0000    1.0    2.0  151.5500         0         0         0           0   \n",
       "\n",
       "   embarked_S  \n",
       "0           1  \n",
       "1           1  \n",
       "2           1  \n",
       "3           1  \n",
       "4           1  "
      ]
     },
     "execution_count": 6,
     "metadata": {},
     "output_type": "execute_result"
    }
   ],
   "source": [
    "#Replace categories by dummies\n",
    "X = X.join(X_dum)\n",
    "X = X.drop(columns=categorical_columns)\n",
    "X.head()"
   ]
  },
  {
   "cell_type": "markdown",
   "metadata": {},
   "source": [
    "## Final features after encoding"
   ]
  },
  {
   "cell_type": "code",
   "execution_count": 7,
   "metadata": {},
   "outputs": [
    {
     "data": {
      "text/plain": [
       "Index(['age', 'sibsp', 'parch', 'fare', 'pclass_2', 'pclass_3', 'sex_male',\n",
       "       'embarked_Q', 'embarked_S'],\n",
       "      dtype='object')"
      ]
     },
     "execution_count": 7,
     "metadata": {},
     "output_type": "execute_result"
    }
   ],
   "source": [
    "features = X.columns\n",
    "features"
   ]
  },
  {
   "cell_type": "markdown",
   "metadata": {},
   "source": [
    "## Random Forest classifier\n",
    "We build and train a Random Forest classifier with all the data"
   ]
  },
  {
   "cell_type": "code",
   "execution_count": 8,
   "metadata": {},
   "outputs": [
    {
     "data": {
      "text/plain": [
       "RandomForestClassifier(random_state=0)"
      ]
     },
     "execution_count": 8,
     "metadata": {},
     "output_type": "execute_result"
    }
   ],
   "source": [
    "#Train a RandomForestClassifier with X and y\n",
    "rf = RandomForestClassifier(n_estimators=100, random_state=0)\n",
    "rf.fit(X, y)"
   ]
  },
  {
   "cell_type": "code",
   "execution_count": 9,
   "metadata": {},
   "outputs": [
    {
     "name": "stdout",
     "output_type": "stream",
     "text": [
      "RF model accuracy: 0.966\n"
     ]
    }
   ],
   "source": [
    "print(\"RF model accuracy: %0.3f\" % rf.score(X, y))\n",
    "#print(\"RF test accuracy: %0.3f\" % rf.score(X_test, y_test))"
   ]
  },
  {
   "cell_type": "markdown",
   "metadata": {},
   "source": [
    "## Explanations for Jack and Rose\n",
    "\n",
    "Now comes Jack and Rose!\n"
   ]
  },
  {
   "cell_type": "code",
   "execution_count": 13,
   "metadata": {},
   "outputs": [
    {
     "data": {
      "text/html": [
       "<div>\n",
       "<style scoped>\n",
       "    .dataframe tbody tr th:only-of-type {\n",
       "        vertical-align: middle;\n",
       "    }\n",
       "\n",
       "    .dataframe tbody tr th {\n",
       "        vertical-align: top;\n",
       "    }\n",
       "\n",
       "    .dataframe thead th {\n",
       "        text-align: right;\n",
       "    }\n",
       "</style>\n",
       "<table border=\"1\" class=\"dataframe\">\n",
       "  <thead>\n",
       "    <tr style=\"text-align: right;\">\n",
       "      <th></th>\n",
       "      <th>age</th>\n",
       "      <th>sibsp</th>\n",
       "      <th>parch</th>\n",
       "      <th>fare</th>\n",
       "      <th>pclass_2</th>\n",
       "      <th>pclass_3</th>\n",
       "      <th>sex_male</th>\n",
       "      <th>embarked_Q</th>\n",
       "      <th>embarked_S</th>\n",
       "    </tr>\n",
       "  </thead>\n",
       "  <tbody>\n",
       "    <tr>\n",
       "      <td>Rose</td>\n",
       "      <td>17.0</td>\n",
       "      <td>1.0</td>\n",
       "      <td>1.0</td>\n",
       "      <td>151.5</td>\n",
       "      <td>0.0</td>\n",
       "      <td>0.0</td>\n",
       "      <td>0.0</td>\n",
       "      <td>0.0</td>\n",
       "      <td>1.0</td>\n",
       "    </tr>\n",
       "    <tr>\n",
       "      <td>Jack</td>\n",
       "      <td>20.0</td>\n",
       "      <td>0.0</td>\n",
       "      <td>0.0</td>\n",
       "      <td>9.5</td>\n",
       "      <td>0.0</td>\n",
       "      <td>1.0</td>\n",
       "      <td>1.0</td>\n",
       "      <td>0.0</td>\n",
       "      <td>1.0</td>\n",
       "    </tr>\n",
       "    <tr>\n",
       "      <td>Jack_Rich</td>\n",
       "      <td>20.0</td>\n",
       "      <td>0.0</td>\n",
       "      <td>0.0</td>\n",
       "      <td>211.3</td>\n",
       "      <td>0.0</td>\n",
       "      <td>0.0</td>\n",
       "      <td>1.0</td>\n",
       "      <td>0.0</td>\n",
       "      <td>1.0</td>\n",
       "    </tr>\n",
       "    <tr>\n",
       "      <td>Jack_Boy</td>\n",
       "      <td>5.0</td>\n",
       "      <td>0.0</td>\n",
       "      <td>1.0</td>\n",
       "      <td>9.5</td>\n",
       "      <td>0.0</td>\n",
       "      <td>1.0</td>\n",
       "      <td>1.0</td>\n",
       "      <td>0.0</td>\n",
       "      <td>1.0</td>\n",
       "    </tr>\n",
       "  </tbody>\n",
       "</table>\n",
       "</div>"
      ],
      "text/plain": [
       "            age  sibsp  parch   fare  pclass_2  pclass_3  sex_male  \\\n",
       "Rose       17.0    1.0    1.0  151.5       0.0       0.0       0.0   \n",
       "Jack       20.0    0.0    0.0    9.5       0.0       1.0       1.0   \n",
       "Jack_Rich  20.0    0.0    0.0  211.3       0.0       0.0       1.0   \n",
       "Jack_Boy    5.0    0.0    1.0    9.5       0.0       1.0       1.0   \n",
       "\n",
       "           embarked_Q  embarked_S  \n",
       "Rose              0.0         1.0  \n",
       "Jack              0.0         1.0  \n",
       "Jack_Rich         0.0         1.0  \n",
       "Jack_Boy          0.0         1.0  "
      ]
     },
     "execution_count": 13,
     "metadata": {},
     "output_type": "execute_result"
    }
   ],
   "source": [
    "# Jack & Rose data\n",
    "personal_info = np.array([\n",
    "    [17, 1, 1, 151.5, 0, 0, 0, 0, 1 ],\n",
    "    [20, 0, 0, 9.5, 0, 1, 1, 0, 1 ],\n",
    "    [20, 0, 0, 211.3, 0, 0, 1, 0, 1 ],\n",
    "    [5, 0, 1, 9.5, 0, 1, 1, 0, 1 ]\n",
    "    ])\n",
    "\n",
    "df_test = pd.DataFrame(personal_info, index=['Rose','Jack','Jack_Rich','Jack_Boy'], columns=features)\n",
    "X_test = df_test.copy()\n",
    "df_test.head(4)"
   ]
  },
  {
   "cell_type": "markdown",
   "metadata": {},
   "source": [
    "## Tree Explainer"
   ]
  },
  {
   "cell_type": "code",
   "execution_count": 16,
   "metadata": {},
   "outputs": [
    {
     "name": "stdout",
     "output_type": "stream",
     "text": [
      "Expected value for class 0: 0.611\n",
      "Expected value for class 1: 0.389\n"
     ]
    }
   ],
   "source": [
    "#Build SHAP TreeExplainer\n",
    "import shap\n",
    "\n",
    "# Build a Tree SHAP Explainer with the previous model and a sample of X data as reference\n",
    "# Tree SHAP: is a fast and exact method to estimate SHAP values for tree models and ensembles of trees\n",
    "explainer = shap.TreeExplainer(rf, data=X.sample(100, random_state=0))\n",
    "#Expected value: i.e predictions value expected with reference dataset\n",
    "for i in [0,1]:\n",
    "    print(f\"Expected value for class {i}: {explainer.expected_value[i]:.3}\")"
   ]
  },
  {
   "cell_type": "code",
   "execution_count": 41,
   "metadata": {},
   "outputs": [
    {
     "name": "stdout",
     "output_type": "stream",
     "text": [
      "Wall time: 46.8 ms\n"
     ]
    }
   ],
   "source": [
    "%%time\n",
    "#Compute SHAP values\n",
    "idx = 'Rose'\n",
    "#print(X_test.loc[idx])\n",
    "shap_values = explainer.shap_values(X_test.loc[idx])"
   ]
  },
  {
   "cell_type": "code",
   "execution_count": 25,
   "metadata": {},
   "outputs": [
    {
     "name": "stdout",
     "output_type": "stream",
     "text": [
      "Survived proba for Rose is 0.81.\n",
      "Waterfall plot of features contributions for class 1 (survived) :\n"
     ]
    },
    {
     "data": {
      "image/png": "[encoded data removed]",
      "text/plain": [
       "<Figure size 576x360 with 3 Axes>"
      ]
     },
     "metadata": {},
     "output_type": "display_data"
    }
   ],
   "source": [
    "max_display = 7\n",
    "proba = rf.predict_proba(X_test.loc[idx].to_numpy().reshape(1,-1))\n",
    "print(f\"Survived proba for {idx} is {proba[0][1]}.\\nWaterfall plot of features contributions for class 1 (survived) :\")\n",
    "shap.waterfall_plot(explainer.expected_value[1], shap_values[1], X_test.loc[idx],max_display=max_display)"
   ]
  },
  {
   "cell_type": "code",
   "execution_count": 32,
   "metadata": {},
   "outputs": [],
   "source": [
    "# Basic display of the most contributing features (based on shap values)\n",
    "# This is basically a textual version of Shap waterfall_plot\n",
    "def basic_explain(shap_values, features, expected_value, max_display = 7, print_pred = False):\n",
    "    feature_names = list(features.index)\n",
    "    feature_order = np.argsort(-np.abs(shap_values))\n",
    "    feature_inds = feature_order[:max_display]\n",
    "    pred = expected_value + np.sum(shap_values)\n",
    "    cum_contrib = 0\n",
    "    if print_pred:\n",
    "        print(f\"Prediction is: {pred:.2}\\n\")\n",
    "    print(\"Most contributing features* :\")\n",
    "    for i in feature_inds:\n",
    "        cum_contrib += shap_values[i]\n",
    "        s=f\"{feature_names[i]}={features[i]:.3}\"\n",
    "        print(f\"{s:>30}  -> {shap_values[i]:.2}\")                \n",
    "    s=f\"{len(shap_values)-max_display} other features\"\n",
    "    print(f\"{s:>30}  -> {np.sum(shap_values)-cum_contrib:.2}\")\n",
    "    print(f\"\\n* compared to avg pred : {expected_value:.2}\")"
   ]
  },
  {
   "cell_type": "code",
   "execution_count": 43,
   "metadata": {},
   "outputs": [
    {
     "name": "stdout",
     "output_type": "stream",
     "text": [
      "Features contributions to have proba of 0.81 for class 1 (benign) for this data:\n",
      "\n",
      "Most contributing features* :\n",
      "                  sex_male=0.0  -> 0.3\n",
      "                  pclass_3=0.0  -> 0.15\n",
      "                     sibsp=1.0  -> -0.035\n",
      "                embarked_S=1.0  -> -0.027\n",
      "                 fare=1.52e+02  -> 0.02\n",
      "                      age=17.0  -> 0.0078\n",
      "                     parch=1.0  -> 0.0043\n",
      "                  pclass_2=0.0  -> 0.0041\n",
      "              1 other features  -> -0.00017\n",
      "\n",
      "* compared to avg pred : 0.39\n"
     ]
    }
   ],
   "source": [
    "#Explain proba for class 1\n",
    "max_display = 8\n",
    "print(f\"Features contributions to have proba of {proba[0][1]} for class 1 (benign) for this data:\\n\")\n",
    "basic_explain(shap_values[1], X_test.loc[idx], explainer.expected_value[1], max_display=max_display)"
   ]
  },
  {
   "cell_type": "code",
   "execution_count": 54,
   "metadata": {},
   "outputs": [
    {
     "name": "stdout",
     "output_type": "stream",
     "text": [
      "Wall time: 110 ms\n"
     ]
    }
   ],
   "source": [
    "%%time\n",
    "#For all test value\n",
    "#print(X_test.loc[idx])\n",
    "shap_values = explainer.shap_values(X_test)"
   ]
  },
  {
   "cell_type": "code",
   "execution_count": 55,
   "metadata": {},
   "outputs": [
    {
     "name": "stdout",
     "output_type": "stream",
     "text": [
      "Wall time: 33.9 ms\n"
     ]
    }
   ],
   "source": [
    "%%time\n",
    "#Compute SHAP values\n",
    "idx = 'Jack'\n",
    "#print(X_test.loc[idx])\n",
    "shap_values = explainer.shap_values(X_test.loc[idx])"
   ]
  },
  {
   "cell_type": "code",
   "execution_count": 50,
   "metadata": {},
   "outputs": [
    {
     "name": "stdout",
     "output_type": "stream",
     "text": [
      "Features contributions to have proba of 0.81 for class 1 (benign) for this data:\n",
      "\n",
      "Most contributing features* :\n",
      "                  sex_male=1.0  -> -0.11\n",
      "                embarked_S=1.0  -> -0.064\n",
      "                      age=20.0  -> -0.061\n",
      "                      fare=9.5  -> -0.057\n",
      "                  pclass_3=1.0  -> -0.054\n",
      "                     parch=0.0  -> -0.017\n",
      "                  pclass_2=0.0  -> -0.0094\n",
      "                     sibsp=0.0  -> 0.0027\n",
      "              1 other features  -> -0.00087\n",
      "\n",
      "* compared to avg pred : 0.39\n"
     ]
    }
   ],
   "source": [
    "print(f\"Features contributions to have proba of {proba[0][1]} for class 1 (benign) for this data:\\n\")\n",
    "basic_explain(shap_values[1], X_test.loc[idx], explainer.expected_value[1], max_display=max_display)"
   ]
  },
  {
   "cell_type": "markdown",
   "metadata": {},
   "source": [
    "# Using Kernel Explainer"
   ]
  },
  {
   "cell_type": "code",
   "execution_count": 18,
   "metadata": {},
   "outputs": [],
   "source": [
    "my_pred = lambda x: rf.predict_proba(x)[:,1]"
   ]
  },
  {
   "cell_type": "code",
   "execution_count": 36,
   "metadata": {},
   "outputs": [],
   "source": [
    "# Difference: on utilise la fct predict_proba plutot que le modele pour la construction de l'explainer\n",
    "#kexplainer = shap.KernelExplainer(my_pred, data=X.sample(100, random_state=0), link=\"logit\")\n",
    "#kexplainer = shap.KernelExplainer(my_pred, data=X.sample(100, random_state=0), link=\"identity\")\n",
    "kexplainer = shap.KernelExplainer(rf.predict_proba, data=X.sample(100, random_state=0), link=\"identity\")"
   ]
  },
  {
   "cell_type": "code",
   "execution_count": 37,
   "metadata": {},
   "outputs": [
    {
     "data": {
      "text/plain": [
       "array([0.61144395, 0.38855605])"
      ]
     },
     "execution_count": 37,
     "metadata": {},
     "output_type": "execute_result"
    }
   ],
   "source": [
    "kexplainer.expected_value"
   ]
  },
  {
   "cell_type": "code",
   "execution_count": 44,
   "metadata": {},
   "outputs": [
    {
     "name": "stdout",
     "output_type": "stream",
     "text": [
      "Wall time: 441 ms\n"
     ]
    }
   ],
   "source": [
    "%%time\n",
    "#Compute SHAP values\n",
    "idx = 'Rose'\n",
    "#print(X_test.loc[idx])\n",
    "shap_values = kexplainer.shap_values(X_test.loc[idx], l1_reg=\"aic\")"
   ]
  },
  {
   "cell_type": "code",
   "execution_count": 52,
   "metadata": {},
   "outputs": [
    {
     "data": {
      "application/vnd.jupyter.widget-view+json": {
       "model_id": "96d4edbae6ea478ab106481c270da288",
       "version_major": 2,
       "version_minor": 0
      },
      "text/plain": [
       "HBox(children=(IntProgress(value=0, max=4), HTML(value='')))"
      ]
     },
     "metadata": {},
     "output_type": "display_data"
    },
    {
     "name": "stdout",
     "output_type": "stream",
     "text": [
      "\n",
      "Wall time: 2 s\n"
     ]
    }
   ],
   "source": [
    "%%time\n",
    "#Compute SHAP values (for all X_test data)\n",
    "#print(X_test.loc[idx])\n",
    "shap_values = kexplainer.shap_values(X_test, l1_reg=\"aic\")"
   ]
  },
  {
   "cell_type": "code",
   "execution_count": 46,
   "metadata": {},
   "outputs": [
    {
     "name": "stdout",
     "output_type": "stream",
     "text": [
      "Features contributions to have proba of 0.81 for class 1 (benign) for this data:\n",
      "\n",
      "Most contributing features* :\n",
      "                  sex_male=0.0  -> 0.3\n",
      "                  pclass_3=0.0  -> 0.15\n",
      "                     sibsp=1.0  -> -0.033\n",
      "                embarked_S=1.0  -> -0.026\n",
      "                 fare=1.52e+02  -> 0.021\n",
      "                      age=17.0  -> 0.0092\n",
      "                     parch=1.0  -> 0.0\n",
      "                  pclass_2=0.0  -> 0.0\n",
      "              1 other features  -> 0.0\n",
      "\n",
      "* compared to avg pred : 0.39\n"
     ]
    }
   ],
   "source": [
    "#Explain proba for class 1\n",
    "max_display = 8\n",
    "print(f\"Features contributions to have proba of {proba[0][1]} for class 1 (benign) for this data:\\n\")\n",
    "basic_explain(shap_values[1], X_test.loc[idx], explainer.expected_value[1], max_display=max_display)"
   ]
  },
  {
   "cell_type": "code",
   "execution_count": 22,
   "metadata": {},
   "outputs": [
    {
     "name": "stdout",
     "output_type": "stream",
     "text": [
      "Survived proba for Rose is 0.81.\n",
      "Waterfall plot of features contributions for class 1 (survived) :\n"
     ]
    },
    {
     "data": {
      "image/png": "[encoded data removed]",
      "text/plain": [
       "<Figure size 576x360 with 3 Axes>"
      ]
     },
     "metadata": {},
     "output_type": "display_data"
    }
   ],
   "source": [
    "max_display = 7\n",
    "proba = rf.predict_proba(X_test.loc[idx].to_numpy().reshape(1,-1))\n",
    "print(f\"Survived proba for {idx} is {proba[0][1]}.\\nWaterfall plot of features contributions for class 1 (survived) :\")\n",
    "shap.waterfall_plot(kexplainer.expected_value[1], shap_values[1], X_test.loc[idx],max_display=max_display)"
   ]
  },
  {
   "cell_type": "code",
   "execution_count": 47,
   "metadata": {},
   "outputs": [
    {
     "name": "stdout",
     "output_type": "stream",
     "text": [
      "Wall time: 506 ms\n"
     ]
    }
   ],
   "source": [
    "%%time\n",
    "#Compute SHAP values\n",
    "idx = 'Jack'\n",
    "#print(X_test.loc[idx])\n",
    "shap_values = kexplainer.shap_values(X_test.loc[idx], l1_reg=\"aic\")"
   ]
  },
  {
   "cell_type": "code",
   "execution_count": 48,
   "metadata": {},
   "outputs": [
    {
     "name": "stdout",
     "output_type": "stream",
     "text": [
      "Features contributions to have proba of 0.81 for class 1 (benign) for this data:\n",
      "\n",
      "Most contributing features* :\n",
      "                  sex_male=1.0  -> -0.11\n",
      "                embarked_S=1.0  -> -0.064\n",
      "                      age=20.0  -> -0.06\n",
      "                      fare=9.5  -> -0.057\n",
      "                  pclass_3=1.0  -> -0.054\n",
      "                     parch=0.0  -> -0.016\n",
      "                  pclass_2=0.0  -> -0.0091\n",
      "                     sibsp=0.0  -> 0.0\n",
      "              1 other features  -> -5.6e-17\n",
      "\n",
      "* compared to avg pred : 0.39\n"
     ]
    }
   ],
   "source": [
    "#Explain proba for class 1\n",
    "max_display = 8\n",
    "print(f\"Features contributions to have proba of {proba[0][1]} for class 1 (benign) for this data:\\n\")\n",
    "basic_explain(shap_values[1], X_test.loc[idx], explainer.expected_value[1], max_display=max_display)"
   ]
  },
  {
   "cell_type": "markdown",
   "metadata": {},
   "source": [
    "# Conclusion Kernel vs Tree Explainer\n",
    "Tree explainer is indeed much faster than Kernel explainer (probably due to its C++ implementation).\n",
    "\n",
    "Approx 10 times faster for a single SHAP computation with Tree explainer on my local PC (~ 35ms per prediction).\n",
    "\n",
    "But, Kernel explainer execution time still remains reasonable for few predictions.\n",
    "Also, there are some slight differences in the resulting values. But, the difference is in the order of 10exp-3.\n",
    "So, Tree Shap is better for Tree based model but Kernel Shap seems really acceptable to explain few predictions."
   ]
  },
  {
   "cell_type": "markdown",
   "metadata": {},
   "source": [
    "# Test with random proba function\n",
    "I test (kernel) explainer with a predict proba function returning a random probability."
   ]
  },
  {
   "cell_type": "code",
   "execution_count": 101,
   "metadata": {},
   "outputs": [],
   "source": [
    "#Random predict proba function\n",
    "def my_pred(x):\n",
    "    return np.random.rand(len(x),2)\n",
    "    "
   ]
  },
  {
   "cell_type": "code",
   "execution_count": 102,
   "metadata": {},
   "outputs": [
    {
     "data": {
      "text/plain": [
       "array([[0.88049891, 0.79410867]])"
      ]
     },
     "execution_count": 102,
     "metadata": {},
     "output_type": "execute_result"
    }
   ],
   "source": [
    "#Test with making a prediction for a test element\n",
    "my_pred(X_test.loc[idx].to_numpy().reshape(1,-1))"
   ]
  },
  {
   "cell_type": "code",
   "execution_count": 103,
   "metadata": {},
   "outputs": [],
   "source": [
    "kexplainer = shap.KernelExplainer(my_pred, data=X.sample(100, random_state=0), link=\"identity\")"
   ]
  },
  {
   "cell_type": "code",
   "execution_count": 104,
   "metadata": {},
   "outputs": [
    {
     "data": {
      "text/plain": [
       "array([0.47276741, 0.52912592])"
      ]
     },
     "execution_count": 104,
     "metadata": {},
     "output_type": "execute_result"
    }
   ],
   "source": [
    "kexplainer.expected_value"
   ]
  },
  {
   "cell_type": "code",
   "execution_count": 106,
   "metadata": {},
   "outputs": [
    {
     "data": {
      "image/png": "[encoded data removed]",
      "text/plain": [
       "<Figure size 576x360 with 3 Axes>"
      ]
     },
     "metadata": {},
     "output_type": "display_data"
    }
   ],
   "source": [
    "shap_values = kexplainer.shap_values(X_test.loc[idx], check_additivity=False)\n",
    "max_display = 7\n",
    "shap.waterfall_plot(kexplainer.expected_value[1], shap_values[1], X_test.loc[idx],max_display=max_display)"
   ]
  },
  {
   "cell_type": "markdown",
   "metadata": {},
   "source": []
  },
  {
   "cell_type": "code",
   "execution_count": null,
   "metadata": {},
   "outputs": [],
   "source": []
  }
 ],
 "metadata": {
  "kernelspec": {
   "display_name": "Python 3",
   "language": "python",
   "name": "python3"
  },
  "language_info": {
   "codemirror_mode": {
    "name": "ipython",
    "version": 3
   },
   "file_extension": ".py",
   "mimetype": "text/x-python",
   "name": "python",
   "nbconvert_exporter": "python",
   "pygments_lexer": "ipython3",
   "version": "3.7.4"
  }
 },
 "nbformat": 4,
 "nbformat_minor": 2
}
