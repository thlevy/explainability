{
 "cells": [
  {
   "cell_type": "markdown",
   "metadata": {},
   "source": [
    "# Classification with Titanic dataset with Shapash\n",
    "\n",
    "We build a Survival classification model and explain few predictions with [shapash](https://github.com/MAIF/shapash)\n",
    "\n",
    "\n",
    "## Variables\n",
    "Variables are both categorical and numerical:\n",
    "\n",
    "\n",
    "* Survived is the target variable we are trying to predict (0 or 1):\n",
    "    + 1 = Survived \n",
    "    + 0 = Not Survived\n",
    "\n",
    "* Pclass (Passenger Class):\n",
    "    + 1 = Upper Class\n",
    "    + 2 = Middle Class\n",
    "    + 3 = Lower Class\n",
    "\n",
    "* Sex and Age are self-explanatory\n",
    "\n",
    "* SibSp is the total number of the passengers' siblings and spouse\n",
    "\n",
    "* Parch is the total number of the passengers' parents and children\n",
    "\n",
    "* Fare is the passenger fare\n",
    "\n",
    "* Embarked is port of embarkation and it is a categorical feature which has 3 unique values (C, Q or S):\n",
    "    + C = Cherbourg\n",
    "    + Q = Queenstown\n",
    "    + S = Southampton"
   ]
  },
  {
   "cell_type": "code",
   "execution_count": 24,
   "metadata": {},
   "outputs": [
    {
     "data": {
      "text/html": [
       "<div>\n",
       "<style scoped>\n",
       "    .dataframe tbody tr th:only-of-type {\n",
       "        vertical-align: middle;\n",
       "    }\n",
       "\n",
       "    .dataframe tbody tr th {\n",
       "        vertical-align: top;\n",
       "    }\n",
       "\n",
       "    .dataframe thead th {\n",
       "        text-align: right;\n",
       "    }\n",
       "</style>\n",
       "<table border=\"1\" class=\"dataframe\">\n",
       "  <thead>\n",
       "    <tr style=\"text-align: right;\">\n",
       "      <th></th>\n",
       "      <th>pclass</th>\n",
       "      <th>name</th>\n",
       "      <th>sex</th>\n",
       "      <th>age</th>\n",
       "      <th>sibsp</th>\n",
       "      <th>parch</th>\n",
       "      <th>ticket</th>\n",
       "      <th>fare</th>\n",
       "      <th>cabin</th>\n",
       "      <th>embarked</th>\n",
       "      <th>boat</th>\n",
       "      <th>body</th>\n",
       "      <th>home.dest</th>\n",
       "    </tr>\n",
       "  </thead>\n",
       "  <tbody>\n",
       "    <tr>\n",
       "      <th>0</th>\n",
       "      <td>1</td>\n",
       "      <td>Allen, Miss. Elisabeth Walton</td>\n",
       "      <td>female</td>\n",
       "      <td>29.0000</td>\n",
       "      <td>0.0</td>\n",
       "      <td>0.0</td>\n",
       "      <td>24160</td>\n",
       "      <td>211.3375</td>\n",
       "      <td>B5</td>\n",
       "      <td>S</td>\n",
       "      <td>2</td>\n",
       "      <td>NaN</td>\n",
       "      <td>St Louis, MO</td>\n",
       "    </tr>\n",
       "    <tr>\n",
       "      <th>1</th>\n",
       "      <td>1</td>\n",
       "      <td>Allison, Master. Hudson Trevor</td>\n",
       "      <td>male</td>\n",
       "      <td>0.9167</td>\n",
       "      <td>1.0</td>\n",
       "      <td>2.0</td>\n",
       "      <td>113781</td>\n",
       "      <td>151.5500</td>\n",
       "      <td>C22 C26</td>\n",
       "      <td>S</td>\n",
       "      <td>11</td>\n",
       "      <td>NaN</td>\n",
       "      <td>Montreal, PQ / Chesterville, ON</td>\n",
       "    </tr>\n",
       "    <tr>\n",
       "      <th>2</th>\n",
       "      <td>1</td>\n",
       "      <td>Allison, Miss. Helen Loraine</td>\n",
       "      <td>female</td>\n",
       "      <td>2.0000</td>\n",
       "      <td>1.0</td>\n",
       "      <td>2.0</td>\n",
       "      <td>113781</td>\n",
       "      <td>151.5500</td>\n",
       "      <td>C22 C26</td>\n",
       "      <td>S</td>\n",
       "      <td>None</td>\n",
       "      <td>NaN</td>\n",
       "      <td>Montreal, PQ / Chesterville, ON</td>\n",
       "    </tr>\n",
       "    <tr>\n",
       "      <th>3</th>\n",
       "      <td>1</td>\n",
       "      <td>Allison, Mr. Hudson Joshua Creighton</td>\n",
       "      <td>male</td>\n",
       "      <td>30.0000</td>\n",
       "      <td>1.0</td>\n",
       "      <td>2.0</td>\n",
       "      <td>113781</td>\n",
       "      <td>151.5500</td>\n",
       "      <td>C22 C26</td>\n",
       "      <td>S</td>\n",
       "      <td>None</td>\n",
       "      <td>135.0</td>\n",
       "      <td>Montreal, PQ / Chesterville, ON</td>\n",
       "    </tr>\n",
       "    <tr>\n",
       "      <th>4</th>\n",
       "      <td>1</td>\n",
       "      <td>Allison, Mrs. Hudson J C (Bessie Waldo Daniels)</td>\n",
       "      <td>female</td>\n",
       "      <td>25.0000</td>\n",
       "      <td>1.0</td>\n",
       "      <td>2.0</td>\n",
       "      <td>113781</td>\n",
       "      <td>151.5500</td>\n",
       "      <td>C22 C26</td>\n",
       "      <td>S</td>\n",
       "      <td>None</td>\n",
       "      <td>NaN</td>\n",
       "      <td>Montreal, PQ / Chesterville, ON</td>\n",
       "    </tr>\n",
       "  </tbody>\n",
       "</table>\n",
       "</div>"
      ],
      "text/plain": [
       "   pclass                                             name     sex      age  \\\n",
       "0       1                    Allen, Miss. Elisabeth Walton  female  29.0000   \n",
       "1       1                   Allison, Master. Hudson Trevor    male   0.9167   \n",
       "2       1                     Allison, Miss. Helen Loraine  female   2.0000   \n",
       "3       1             Allison, Mr. Hudson Joshua Creighton    male  30.0000   \n",
       "4       1  Allison, Mrs. Hudson J C (Bessie Waldo Daniels)  female  25.0000   \n",
       "\n",
       "   sibsp  parch  ticket      fare    cabin embarked  boat   body  \\\n",
       "0    0.0    0.0   24160  211.3375       B5        S     2    NaN   \n",
       "1    1.0    2.0  113781  151.5500  C22 C26        S    11    NaN   \n",
       "2    1.0    2.0  113781  151.5500  C22 C26        S  None    NaN   \n",
       "3    1.0    2.0  113781  151.5500  C22 C26        S  None  135.0   \n",
       "4    1.0    2.0  113781  151.5500  C22 C26        S  None    NaN   \n",
       "\n",
       "                         home.dest  \n",
       "0                     St Louis, MO  \n",
       "1  Montreal, PQ / Chesterville, ON  \n",
       "2  Montreal, PQ / Chesterville, ON  \n",
       "3  Montreal, PQ / Chesterville, ON  \n",
       "4  Montreal, PQ / Chesterville, ON  "
      ]
     },
     "execution_count": 24,
     "metadata": {},
     "output_type": "execute_result"
    }
   ],
   "source": [
    "import matplotlib.pyplot as plt\n",
    "import numpy as np\n",
    "import pandas as pd\n",
    "from sklearn.datasets import fetch_openml\n",
    "from sklearn.ensemble import RandomForestClassifier\n",
    "\n",
    "from sklearn.model_selection import train_test_split\n",
    "\n",
    "\n",
    "X_orig, y = fetch_openml(\"titanic\", version=1, as_frame=True, return_X_y=True)\n",
    "X_orig['pclass'] = X_orig['pclass'].astype('int')\n",
    "X_orig.head()\n",
    "#X_orig.tail(50)\n",
    "#X_orig.shape"
   ]
  },
  {
   "cell_type": "code",
   "execution_count": 25,
   "metadata": {},
   "outputs": [
    {
     "data": {
      "text/plain": [
       "pclass          int64\n",
       "name           object\n",
       "sex          category\n",
       "age           float64\n",
       "sibsp         float64\n",
       "parch         float64\n",
       "ticket         object\n",
       "fare          float64\n",
       "cabin          object\n",
       "embarked     category\n",
       "boat           object\n",
       "body          float64\n",
       "home.dest      object\n",
       "dtype: object"
      ]
     },
     "execution_count": 25,
     "metadata": {},
     "output_type": "execute_result"
    }
   ],
   "source": [
    "X_orig.columns\n",
    "X_orig.dtypes"
   ]
  },
  {
   "cell_type": "code",
   "execution_count": 26,
   "metadata": {},
   "outputs": [
    {
     "data": {
      "text/plain": [
       "0       1\n",
       "1       1\n",
       "2       0\n",
       "3       0\n",
       "4       0\n",
       "       ..\n",
       "1304    0\n",
       "1305    0\n",
       "1306    0\n",
       "1307    0\n",
       "1308    0\n",
       "Name: survived, Length: 1309, dtype: int64"
      ]
     },
     "execution_count": 26,
     "metadata": {},
     "output_type": "execute_result"
    }
   ],
   "source": [
    "#Convert y to int instead of category\n",
    "y = y.astype('int')\n",
    "y"
   ]
  },
  {
   "cell_type": "markdown",
   "metadata": {},
   "source": [
    "## Features\n",
    "We will use 7 variables (2 categorical features, 5 numerical features) to predict if a passenger will survive.\n"
   ]
  },
  {
   "cell_type": "code",
   "execution_count": 27,
   "metadata": {},
   "outputs": [
    {
     "data": {
      "text/html": [
       "<div>\n",
       "<style scoped>\n",
       "    .dataframe tbody tr th:only-of-type {\n",
       "        vertical-align: middle;\n",
       "    }\n",
       "\n",
       "    .dataframe tbody tr th {\n",
       "        vertical-align: top;\n",
       "    }\n",
       "\n",
       "    .dataframe thead th {\n",
       "        text-align: right;\n",
       "    }\n",
       "</style>\n",
       "<table border=\"1\" class=\"dataframe\">\n",
       "  <thead>\n",
       "    <tr style=\"text-align: right;\">\n",
       "      <th></th>\n",
       "      <th>sex</th>\n",
       "      <th>embarked</th>\n",
       "      <th>pclass</th>\n",
       "      <th>age</th>\n",
       "      <th>sibsp</th>\n",
       "      <th>parch</th>\n",
       "      <th>fare</th>\n",
       "    </tr>\n",
       "  </thead>\n",
       "  <tbody>\n",
       "    <tr>\n",
       "      <th>0</th>\n",
       "      <td>female</td>\n",
       "      <td>S</td>\n",
       "      <td>1</td>\n",
       "      <td>29.0000</td>\n",
       "      <td>0.0</td>\n",
       "      <td>0.0</td>\n",
       "      <td>211.3375</td>\n",
       "    </tr>\n",
       "    <tr>\n",
       "      <th>1</th>\n",
       "      <td>male</td>\n",
       "      <td>S</td>\n",
       "      <td>1</td>\n",
       "      <td>0.9167</td>\n",
       "      <td>1.0</td>\n",
       "      <td>2.0</td>\n",
       "      <td>151.5500</td>\n",
       "    </tr>\n",
       "    <tr>\n",
       "      <th>2</th>\n",
       "      <td>female</td>\n",
       "      <td>S</td>\n",
       "      <td>1</td>\n",
       "      <td>2.0000</td>\n",
       "      <td>1.0</td>\n",
       "      <td>2.0</td>\n",
       "      <td>151.5500</td>\n",
       "    </tr>\n",
       "    <tr>\n",
       "      <th>3</th>\n",
       "      <td>male</td>\n",
       "      <td>S</td>\n",
       "      <td>1</td>\n",
       "      <td>30.0000</td>\n",
       "      <td>1.0</td>\n",
       "      <td>2.0</td>\n",
       "      <td>151.5500</td>\n",
       "    </tr>\n",
       "    <tr>\n",
       "      <th>4</th>\n",
       "      <td>female</td>\n",
       "      <td>S</td>\n",
       "      <td>1</td>\n",
       "      <td>25.0000</td>\n",
       "      <td>1.0</td>\n",
       "      <td>2.0</td>\n",
       "      <td>151.5500</td>\n",
       "    </tr>\n",
       "  </tbody>\n",
       "</table>\n",
       "</div>"
      ],
      "text/plain": [
       "      sex embarked  pclass      age  sibsp  parch      fare\n",
       "0  female        S       1  29.0000    0.0    0.0  211.3375\n",
       "1    male        S       1   0.9167    1.0    2.0  151.5500\n",
       "2  female        S       1   2.0000    1.0    2.0  151.5500\n",
       "3    male        S       1  30.0000    1.0    2.0  151.5500\n",
       "4  female        S       1  25.0000    1.0    2.0  151.5500"
      ]
     },
     "execution_count": 27,
     "metadata": {},
     "output_type": "execute_result"
    }
   ],
   "source": [
    "categorical_columns = ['sex', 'embarked']\n",
    "numerical_columns = ['pclass', 'age', 'sibsp', 'parch', 'fare']\n",
    "\n",
    "X = X_orig[categorical_columns + numerical_columns].copy()\n",
    "X.head()\n",
    "#X.info()"
   ]
  },
  {
   "cell_type": "markdown",
   "metadata": {},
   "source": [
    "## Features transformation\n",
    "We fill NA values and convert categorical features with Ordinal encoding."
   ]
  },
  {
   "cell_type": "code",
   "execution_count": 28,
   "metadata": {},
   "outputs": [],
   "source": [
    "#Replace na by median for numerical features\n",
    "for c in numerical_columns:\n",
    "    X[c] = X[c].fillna(X[c].median())\n",
    "#Replace na by mode for categorical features\n",
    "for c in categorical_columns:\n",
    "    X[c] = X[c].astype('category')\n",
    "    X[c] = X[c].fillna(X[c].mode().iloc[0])"
   ]
  },
  {
   "cell_type": "code",
   "execution_count": 29,
   "metadata": {},
   "outputs": [
    {
     "data": {
      "text/html": [
       "<div>\n",
       "<style scoped>\n",
       "    .dataframe tbody tr th:only-of-type {\n",
       "        vertical-align: middle;\n",
       "    }\n",
       "\n",
       "    .dataframe tbody tr th {\n",
       "        vertical-align: top;\n",
       "    }\n",
       "\n",
       "    .dataframe thead th {\n",
       "        text-align: right;\n",
       "    }\n",
       "</style>\n",
       "<table border=\"1\" class=\"dataframe\">\n",
       "  <thead>\n",
       "    <tr style=\"text-align: right;\">\n",
       "      <th></th>\n",
       "      <th>sex</th>\n",
       "      <th>embarked</th>\n",
       "      <th>pclass</th>\n",
       "      <th>age</th>\n",
       "      <th>sibsp</th>\n",
       "      <th>parch</th>\n",
       "      <th>fare</th>\n",
       "    </tr>\n",
       "  </thead>\n",
       "  <tbody>\n",
       "    <tr>\n",
       "      <th>0</th>\n",
       "      <td>1</td>\n",
       "      <td>1</td>\n",
       "      <td>1</td>\n",
       "      <td>29.0000</td>\n",
       "      <td>0.0</td>\n",
       "      <td>0.0</td>\n",
       "      <td>211.3375</td>\n",
       "    </tr>\n",
       "    <tr>\n",
       "      <th>1</th>\n",
       "      <td>2</td>\n",
       "      <td>1</td>\n",
       "      <td>1</td>\n",
       "      <td>0.9167</td>\n",
       "      <td>1.0</td>\n",
       "      <td>2.0</td>\n",
       "      <td>151.5500</td>\n",
       "    </tr>\n",
       "    <tr>\n",
       "      <th>2</th>\n",
       "      <td>1</td>\n",
       "      <td>1</td>\n",
       "      <td>1</td>\n",
       "      <td>2.0000</td>\n",
       "      <td>1.0</td>\n",
       "      <td>2.0</td>\n",
       "      <td>151.5500</td>\n",
       "    </tr>\n",
       "    <tr>\n",
       "      <th>3</th>\n",
       "      <td>2</td>\n",
       "      <td>1</td>\n",
       "      <td>1</td>\n",
       "      <td>30.0000</td>\n",
       "      <td>1.0</td>\n",
       "      <td>2.0</td>\n",
       "      <td>151.5500</td>\n",
       "    </tr>\n",
       "    <tr>\n",
       "      <th>4</th>\n",
       "      <td>1</td>\n",
       "      <td>1</td>\n",
       "      <td>1</td>\n",
       "      <td>25.0000</td>\n",
       "      <td>1.0</td>\n",
       "      <td>2.0</td>\n",
       "      <td>151.5500</td>\n",
       "    </tr>\n",
       "  </tbody>\n",
       "</table>\n",
       "</div>"
      ],
      "text/plain": [
       "   sex  embarked  pclass      age  sibsp  parch      fare\n",
       "0    1         1       1  29.0000    0.0    0.0  211.3375\n",
       "1    2         1       1   0.9167    1.0    2.0  151.5500\n",
       "2    1         1       1   2.0000    1.0    2.0  151.5500\n",
       "3    2         1       1  30.0000    1.0    2.0  151.5500\n",
       "4    1         1       1  25.0000    1.0    2.0  151.5500"
      ]
     },
     "execution_count": 29,
     "metadata": {},
     "output_type": "execute_result"
    }
   ],
   "source": [
    "from category_encoders import OrdinalEncoder\n",
    "# from sklearn.preprocessing import OrdinalEncoder #Not convenient because convert into np.array instead of dataframa\n",
    "categ_encoding = OrdinalEncoder(cols=categorical_columns, handle_unknown='ignore', return_df=True).fit(X)\n",
    "#categ_encoding = OrdinalEncoder(handle_unknown='use_encoded_value', unknown_value=-1).fit(X)\n",
    "X = categ_encoding.transform(X)\n",
    "#X[0:2]\n",
    "X.head()"
   ]
  },
  {
   "cell_type": "code",
   "execution_count": 30,
   "metadata": {},
   "outputs": [
    {
     "data": {
      "text/plain": [
       "Index(['sex', 'embarked', 'pclass', 'age', 'sibsp', 'parch', 'fare'], dtype='object')"
      ]
     },
     "execution_count": 30,
     "metadata": {},
     "output_type": "execute_result"
    }
   ],
   "source": [
    "features = X.columns\n",
    "features"
   ]
  },
  {
   "cell_type": "markdown",
   "metadata": {},
   "source": [
    "## Random Forest classifier\n",
    "We build and train a Random Forest classifier with all the data"
   ]
  },
  {
   "cell_type": "code",
   "execution_count": 31,
   "metadata": {},
   "outputs": [
    {
     "data": {
      "text/plain": [
       "RandomForestClassifier(random_state=0)"
      ]
     },
     "execution_count": 31,
     "metadata": {},
     "output_type": "execute_result"
    }
   ],
   "source": [
    "#Train a RandomForestClassifier with X and y\n",
    "rf = RandomForestClassifier(n_estimators=100, random_state=0)\n",
    "rf.fit(X, y)\n",
    "#rf.fit(X.values, y.values) #Updated to clear scikitlearn warning"
   ]
  },
  {
   "cell_type": "code",
   "execution_count": 32,
   "metadata": {},
   "outputs": [
    {
     "name": "stdout",
     "output_type": "stream",
     "text": [
      "RF model accuracy: 0.966\n"
     ]
    }
   ],
   "source": [
    "print(\"RF model accuracy: %0.3f\" % rf.score(X, y))\n",
    "#print(\"RF model accuracy: %0.3f\" % rf.score(X.values, y.values))\n",
    "#print(\"RF test accuracy: %0.3f\" % rf.score(X_test, y_test))"
   ]
  },
  {
   "cell_type": "markdown",
   "metadata": {},
   "source": [
    "## Explainability with Shapash\n",
    "Shapash can use different methods for explainability. \n",
    "We will use SHAP that is the default one."
   ]
  },
  {
   "cell_type": "code",
   "execution_count": 33,
   "metadata": {},
   "outputs": [],
   "source": [
    "#Use of feature & label dict for a better display\n",
    "feature_dict = {\n",
    "                'pclass': 'Ticket class',\n",
    "                 'sex': 'Sex',\n",
    "                 'age': 'Age',\n",
    "                 'sibsp': 'Relatives such as brother or wife',\n",
    "                 'parch': 'Relatives like children or parents',\n",
    "                 'fare': 'Passenger fare',\n",
    "                 'embarked': 'Port of embarkation',\n",
    "               }\n",
    "label_dict = {0: \"Not Survived\", 1: \"Survived\"}"
   ]
  },
  {
   "cell_type": "code",
   "execution_count": 34,
   "metadata": {},
   "outputs": [
    {
     "name": "stdout",
     "output_type": "stream",
     "text": [
      "Name: shapash\n",
      "Version: 2.0.1\n",
      "Summary: Shapash is a Python library which aims to make machine learning interpretable and understandable by everyone.\n",
      "Home-page: https://github.com/MAIF/shapash\n",
      "Author: Yann Golhen, Sebastien Bidault, Yann Lagre, Maxime Gendre\n",
      "Author-email: yann.golhen@maif.fr\n",
      "License: Apache Software License 2.0\n",
      "Location: /home/tlevy/.cache/pypoetry/virtualenvs/explainability-ZpE4ZdDW-py3.8/lib/python3.8/site-packages\n",
      "Requires: dash, dash-bootstrap-components, dash-core-components, dash-daq, dash-html-components, dash-renderer, dash-table, matplotlib, nbformat, numba, numpy, pandas, plotly, scikit-learn, shap\n",
      "Required-by: \n"
     ]
    }
   ],
   "source": [
    "!pip show shapash"
   ]
  },
  {
   "cell_type": "code",
   "execution_count": 43,
   "metadata": {},
   "outputs": [],
   "source": [
    "from shapash.explainer.smart_explainer import SmartExplainer\n",
    "\n",
    "xpl = SmartExplainer(label_dict=label_dict, features_dict=feature_dict)\n",
    "#xpl = SmartExplainer(rf, backend='shap', label_dict=label_dict, features_dict=feature_dict)\n"
   ]
  },
  {
   "cell_type": "markdown",
   "metadata": {},
   "source": [
    "### Global explainability\n",
    "We determine global explainabilty on a sample of data."
   ]
  },
  {
   "cell_type": "code",
   "execution_count": 44,
   "metadata": {},
   "outputs": [
    {
     "data": {
      "text/html": [
       "<div>\n",
       "<style scoped>\n",
       "    .dataframe tbody tr th:only-of-type {\n",
       "        vertical-align: middle;\n",
       "    }\n",
       "\n",
       "    .dataframe tbody tr th {\n",
       "        vertical-align: top;\n",
       "    }\n",
       "\n",
       "    .dataframe thead th {\n",
       "        text-align: right;\n",
       "    }\n",
       "</style>\n",
       "<table border=\"1\" class=\"dataframe\">\n",
       "  <thead>\n",
       "    <tr style=\"text-align: right;\">\n",
       "      <th></th>\n",
       "      <th>sex</th>\n",
       "      <th>embarked</th>\n",
       "      <th>pclass</th>\n",
       "      <th>age</th>\n",
       "      <th>sibsp</th>\n",
       "      <th>parch</th>\n",
       "      <th>fare</th>\n",
       "    </tr>\n",
       "  </thead>\n",
       "  <tbody>\n",
       "    <tr>\n",
       "      <th>459</th>\n",
       "      <td>2</td>\n",
       "      <td>1</td>\n",
       "      <td>2</td>\n",
       "      <td>42.0</td>\n",
       "      <td>1.0</td>\n",
       "      <td>0.0</td>\n",
       "      <td>27.0000</td>\n",
       "    </tr>\n",
       "    <tr>\n",
       "      <th>1291</th>\n",
       "      <td>2</td>\n",
       "      <td>1</td>\n",
       "      <td>3</td>\n",
       "      <td>28.0</td>\n",
       "      <td>0.0</td>\n",
       "      <td>0.0</td>\n",
       "      <td>8.7125</td>\n",
       "    </tr>\n",
       "    <tr>\n",
       "      <th>916</th>\n",
       "      <td>1</td>\n",
       "      <td>2</td>\n",
       "      <td>3</td>\n",
       "      <td>4.0</td>\n",
       "      <td>0.0</td>\n",
       "      <td>1.0</td>\n",
       "      <td>13.4167</td>\n",
       "    </tr>\n",
       "    <tr>\n",
       "      <th>942</th>\n",
       "      <td>2</td>\n",
       "      <td>2</td>\n",
       "      <td>3</td>\n",
       "      <td>28.0</td>\n",
       "      <td>0.0</td>\n",
       "      <td>0.0</td>\n",
       "      <td>7.2250</td>\n",
       "    </tr>\n",
       "    <tr>\n",
       "      <th>159</th>\n",
       "      <td>1</td>\n",
       "      <td>2</td>\n",
       "      <td>1</td>\n",
       "      <td>16.0</td>\n",
       "      <td>0.0</td>\n",
       "      <td>1.0</td>\n",
       "      <td>57.9792</td>\n",
       "    </tr>\n",
       "  </tbody>\n",
       "</table>\n",
       "</div>"
      ],
      "text/plain": [
       "      sex  embarked  pclass   age  sibsp  parch     fare\n",
       "459     2         1       2  42.0    1.0    0.0  27.0000\n",
       "1291    2         1       3  28.0    0.0    0.0   8.7125\n",
       "916     1         2       3   4.0    0.0    1.0  13.4167\n",
       "942     2         2       3  28.0    0.0    0.0   7.2250\n",
       "159     1         2       1  16.0    0.0    1.0  57.9792"
      ]
     },
     "execution_count": 44,
     "metadata": {},
     "output_type": "execute_result"
    }
   ],
   "source": [
    "#Sample of data for which we compute explainability\n",
    "n = 100 #Sample size as reference\n",
    "X_s = X.sample(n, random_state=0)\n",
    "y_pred = pd.DataFrame(rf.predict(X_s), columns=['pred'], index=X_s.index) #Build y_pred as pandas dataframe (not mandatory)\n",
    "\n",
    "X_s.sample(10).head()"
   ]
  },
  {
   "cell_type": "code",
   "execution_count": 45,
   "metadata": {},
   "outputs": [
    {
     "name": "stdout",
     "output_type": "stream",
     "text": [
      "Backend: Shap TreeExplainer\n"
     ]
    }
   ],
   "source": [
    "#Compile without y_pred\n",
    "xpl.compile(x=X_s,\n",
    "            model=rf,\n",
    "            preprocessing=categ_encoding,\n",
    "            )"
   ]
  },
  {
   "cell_type": "code",
   "execution_count": 46,
   "metadata": {},
   "outputs": [
    {
     "data": {
      "application/vnd.plotly.v1+json": {
       "config": {
        "plotlyServerURL": "https://plot.ly"
       },
       "data": [
        {
         "marker": {
          "color": [
           "rgba(244, 192, 0, 1.0)",
           "rgba(244, 192, 0, 1.0)",
           "rgba(244, 192, 0, 1.0)",
           "rgba(244, 192, 0, 1.0)",
           "rgba(244, 192, 0, 1.0)",
           "rgba(244, 192, 0, 1.0)",
           "rgba(244, 192, 0, 1.0)"
          ],
          "line": {
           "color": "rgba(52, 55, 54, 0.8)",
           "width": 0.5
          }
         },
         "name": "Global",
         "orientation": "h",
         "type": "bar",
         "x": [
          0.0406,
          0.0519,
          0.0683,
          0.1338,
          0.1503,
          0.1755,
          0.3795
         ],
         "y": [
          "Relatives such as brother or wife",
          "Relatives like children or parents",
          "Port of embarkation",
          "Age",
          "Passenger fare",
          "Ticket class",
          "Sex"
         ]
        }
       ],
       "layout": {
        "autosize": false,
        "barmode": "group",
        "height": 500,
        "hovermode": "closest",
        "margin": {
         "b": 50,
         "l": 160,
         "r": 0,
         "t": 95
        },
        "template": {
         "data": {
          "scatter": [
           {
            "type": "scatter"
           }
          ]
         }
        },
        "title": {
         "font": {
          "color": "rgb(50, 50, 50)",
          "family": "Arial",
          "size": 24
         },
         "text": "Features Importance<span style='font-size: 12px;'><br />Response: <b>Survived</b></span>",
         "x": 0.5,
         "xanchor": "center",
         "y": 0.9,
         "yanchor": "middle"
        },
        "width": 900,
        "xaxis": {
         "automargin": true,
         "title": {
          "font": {
           "color": "rgb(50, 50, 50)",
           "family": "Arial Black",
           "size": 16
          },
          "text": "Contribution"
         }
        },
        "yaxis": {
         "automargin": true,
         "title": {
          "font": {
           "color": "rgb(50, 50, 50)",
           "family": "Arial Black",
           "size": 16
          }
         }
        }
       }
      },
      "text/html": [
       "<div>                            <div id=\"2c26c429-2558-4b59-a320-58c6f8de3e65\" class=\"plotly-graph-div\" style=\"height:500px; width:900px;\"></div>            <script type=\"text/javascript\">                require([\"plotly\"], function(Plotly) {                    window.PLOTLYENV=window.PLOTLYENV || {};                                    if (document.getElementById(\"2c26c429-2558-4b59-a320-58c6f8de3e65\")) {                    Plotly.newPlot(                        \"2c26c429-2558-4b59-a320-58c6f8de3e65\",                        [{\"marker\": {\"color\": [\"rgba(244, 192, 0, 1.0)\", \"rgba(244, 192, 0, 1.0)\", \"rgba(244, 192, 0, 1.0)\", \"rgba(244, 192, 0, 1.0)\", \"rgba(244, 192, 0, 1.0)\", \"rgba(244, 192, 0, 1.0)\", \"rgba(244, 192, 0, 1.0)\"], \"line\": {\"color\": \"rgba(52, 55, 54, 0.8)\", \"width\": 0.5}}, \"name\": \"Global\", \"orientation\": \"h\", \"type\": \"bar\", \"x\": [0.0406, 0.0519, 0.0683, 0.1338, 0.1503, 0.1755, 0.3795], \"y\": [\"Relatives such as brother or wife\", \"Relatives like children or parents\", \"Port of embarkation\", \"Age\", \"Passenger fare\", \"Ticket class\", \"Sex\"]}],                        {\"autosize\": false, \"barmode\": \"group\", \"height\": 500, \"hovermode\": \"closest\", \"margin\": {\"b\": 50, \"l\": 160, \"r\": 0, \"t\": 95}, \"template\": {\"data\": {\"scatter\": [{\"type\": \"scatter\"}]}}, \"title\": {\"font\": {\"color\": \"rgb(50, 50, 50)\", \"family\": \"Arial\", \"size\": 24}, \"text\": \"Features Importance<span style='font-size: 12px;'><br />Response: <b>Survived</b></span>\", \"x\": 0.5, \"xanchor\": \"center\", \"y\": 0.9, \"yanchor\": \"middle\"}, \"width\": 900, \"xaxis\": {\"automargin\": true, \"title\": {\"font\": {\"color\": \"rgb(50, 50, 50)\", \"family\": \"Arial Black\", \"size\": 16}, \"text\": \"Contribution\"}}, \"yaxis\": {\"automargin\": true, \"title\": {\"font\": {\"color\": \"rgb(50, 50, 50)\", \"family\": \"Arial Black\", \"size\": 16}}}},                        {\"responsive\": true}                    ).then(function(){\n",
       "                            \n",
       "var gd = document.getElementById('2c26c429-2558-4b59-a320-58c6f8de3e65');\n",
       "var x = new MutationObserver(function (mutations, observer) {{\n",
       "        var display = window.getComputedStyle(gd).display;\n",
       "        if (!display || display === 'none') {{\n",
       "            console.log([gd, 'removed!']);\n",
       "            Plotly.purge(gd);\n",
       "            observer.disconnect();\n",
       "        }}\n",
       "}});\n",
       "\n",
       "// Listen for the removal of the full notebook cells\n",
       "var notebookContainer = gd.closest('#notebook-container');\n",
       "if (notebookContainer) {{\n",
       "    x.observe(notebookContainer, {childList: true});\n",
       "}}\n",
       "\n",
       "// Listen for the clearing of the current output cell\n",
       "var outputEl = gd.closest('.output');\n",
       "if (outputEl) {{\n",
       "    x.observe(outputEl, {childList: true});\n",
       "}}\n",
       "\n",
       "                        })                };                });            </script>        </div>"
      ]
     },
     "metadata": {},
     "output_type": "display_data"
    }
   ],
   "source": [
    "#Display global feature importances\n",
    "xpl.plot.features_importance()"
   ]
  },
  {
   "cell_type": "code",
   "execution_count": 17,
   "metadata": {},
   "outputs": [
    {
     "data": {
      "application/vnd.plotly.v1+json": {
       "config": {
        "plotlyServerURL": "https://plot.ly"
       },
       "data": [
        {
         "customdata": [
          1139,
          533,
          459,
          1150,
          393,
          1189,
          5,
          231,
          330,
          887,
          531,
          790,
          427,
          1260,
          251,
          486,
          436,
          31,
          186,
          1051,
          769,
          642,
          1087,
          55,
          678,
          358,
          503,
          995,
          1005,
          1279,
          916,
          159,
          349,
          224,
          161,
          1168,
          996,
          52,
          1166,
          1125,
          813,
          397,
          215,
          549,
          878,
          1103,
          960,
          141,
          1240,
          1291,
          458,
          874,
          1019,
          1100,
          609,
          1041,
          198,
          610,
          725,
          482,
          846,
          45,
          1208,
          1256,
          1209,
          445,
          422,
          1243,
          1117,
          695,
          589,
          638,
          152,
          1287,
          1012,
          18,
          408,
          233,
          961,
          1000,
          268,
          794,
          474,
          47,
          1002,
          108,
          443,
          793,
          528,
          858,
          942,
          1302,
          773,
          717,
          1179,
          142,
          1236,
          1028,
          420,
          85
         ],
         "hovertemplate": "<b>%{hovertext}</b><br />Ticket class :<br />%{x}<br />Contribution: %{y:.4f}<extra></extra>",
         "hovertext": [
          "Id: 5",
          "Id: 231",
          "Id: 251",
          "Id: 31",
          "Id: 186",
          "Id: 55",
          "Id: 159",
          "Id: 224",
          "Id: 161",
          "Id: 52",
          "Id: 215",
          "Id: 141",
          "Id: 198",
          "Id: 45",
          "Id: 152",
          "Id: 18",
          "Id: 233",
          "Id: 268",
          "Id: 47",
          "Id: 108",
          "Id: 142",
          "Id: 85"
         ],
         "jitter": 0.075,
         "line": {
          "color": "rgba(117, 152, 189, 0.9)"
         },
         "marker": {
          "line": {
           "color": "white",
           "width": 0.8
          },
          "opacity": 0.8,
          "size": 10
         },
         "meanline": {
          "visible": true
         },
         "pointpos": 0,
         "points": false,
         "scalemode": "count",
         "showlegend": false,
         "type": "violin",
         "x": [
          1,
          1,
          1,
          1,
          1,
          1,
          1,
          1,
          1,
          1,
          1,
          1,
          1,
          1,
          1,
          1,
          1,
          1,
          1,
          1,
          1,
          1
         ],
         "y": [
          0.2264572763133079,
          0.23093087918825966,
          0.14559421548241475,
          0.1669741202412241,
          0.17256758715315124,
          0.18136602727964032,
          0.14517773018407362,
          0.10516627352311343,
          0.17695352403783107,
          0.021778169157273496,
          0.07112024701353423,
          0.1574818452488136,
          0.17141356470890928,
          0.14312040100428466,
          0.245437730399875,
          0.14215514881643757,
          0.15474683024182562,
          0.06099000988629857,
          0.210564325325382,
          0.1449186184050143,
          0.0529388495644898,
          0.14989898405234384
         ]
        },
        {
         "customdata": [
          1139,
          533,
          459,
          1150,
          393,
          1189,
          5,
          231,
          330,
          887,
          531,
          790,
          427,
          1260,
          251,
          486,
          436,
          31,
          186,
          1051,
          769,
          642,
          1087,
          55,
          678,
          358,
          503,
          995,
          1005,
          1279,
          916,
          159,
          349,
          224,
          161,
          1168,
          996,
          52,
          1166,
          1125,
          813,
          397,
          215,
          549,
          878,
          1103,
          960,
          141,
          1240,
          1291,
          458,
          874,
          1019,
          1100,
          609,
          1041,
          198,
          610,
          725,
          482,
          846,
          45,
          1208,
          1256,
          1209,
          445,
          422,
          1243,
          1117,
          695,
          589,
          638,
          152,
          1287,
          1012,
          18,
          408,
          233,
          961,
          1000,
          268,
          794,
          474,
          47,
          1002,
          108,
          443,
          793,
          528,
          858,
          942,
          1302,
          773,
          717,
          1179,
          142,
          1236,
          1028,
          420,
          85
         ],
         "hovertemplate": "<b>%{hovertext}</b><br />Ticket class :<br />%{x}<br />Contribution: %{y:.4f}<extra></extra>",
         "hovertext": [
          "Id: 533",
          "Id: 459",
          "Id: 393",
          "Id: 330",
          "Id: 531",
          "Id: 427",
          "Id: 486",
          "Id: 436",
          "Id: 358",
          "Id: 503",
          "Id: 349",
          "Id: 397",
          "Id: 549",
          "Id: 458",
          "Id: 482",
          "Id: 445",
          "Id: 422",
          "Id: 589",
          "Id: 408",
          "Id: 474",
          "Id: 443",
          "Id: 528",
          "Id: 420"
         ],
         "jitter": 0.075,
         "line": {
          "color": "rgba(117, 152, 189, 0.9)"
         },
         "marker": {
          "line": {
           "color": "white",
           "width": 0.8
          },
          "opacity": 0.8,
          "size": 10
         },
         "meanline": {
          "visible": true
         },
         "pointpos": 0,
         "points": false,
         "scalemode": "count",
         "showlegend": false,
         "type": "violin",
         "x": [
          2,
          2,
          2,
          2,
          2,
          2,
          2,
          2,
          2,
          2,
          2,
          2,
          2,
          2,
          2,
          2,
          2,
          2,
          2,
          2,
          2,
          2,
          2
         ],
         "y": [
          0.08953778925296421,
          -0.0389360273380114,
          -0.0868666624214853,
          -0.008315771736217592,
          -0.020614782210042155,
          0.08907480575389966,
          0.07932138580905523,
          0.11814398036149877,
          0.11689690664343792,
          0.0770398071371244,
          0.04012812539974571,
          -0.008750165329920172,
          0.054831510201029256,
          0.10593116063948613,
          0.14851838365841918,
          -0.00858739201239748,
          -0.012475813680286456,
          0.11698419786388967,
          0.008796879701083265,
          -0.05005815008756115,
          -0.06838915123414328,
          -0.07360125247883414,
          -0.031131135748517173
         ]
        },
        {
         "customdata": [
          1139,
          533,
          459,
          1150,
          393,
          1189,
          5,
          231,
          330,
          887,
          531,
          790,
          427,
          1260,
          251,
          486,
          436,
          31,
          186,
          1051,
          769,
          642,
          1087,
          55,
          678,
          358,
          503,
          995,
          1005,
          1279,
          916,
          159,
          349,
          224,
          161,
          1168,
          996,
          52,
          1166,
          1125,
          813,
          397,
          215,
          549,
          878,
          1103,
          960,
          141,
          1240,
          1291,
          458,
          874,
          1019,
          1100,
          609,
          1041,
          198,
          610,
          725,
          482,
          846,
          45,
          1208,
          1256,
          1209,
          445,
          422,
          1243,
          1117,
          695,
          589,
          638,
          152,
          1287,
          1012,
          18,
          408,
          233,
          961,
          1000,
          268,
          794,
          474,
          47,
          1002,
          108,
          443,
          793,
          528,
          858,
          942,
          1302,
          773,
          717,
          1179,
          142,
          1236,
          1028,
          420,
          85
         ],
         "hovertemplate": "<b>%{hovertext}</b><br />Ticket class :<br />%{x}<br />Contribution: %{y:.4f}<extra></extra>",
         "hovertext": [
          "Id: 1139",
          "Id: 1150",
          "Id: 1189",
          "Id: 887",
          "Id: 790",
          "Id: 1260",
          "Id: 1051",
          "Id: 769",
          "Id: 642",
          "Id: 1087",
          "Id: 678",
          "Id: 995",
          "Id: 1005",
          "Id: 1279",
          "Id: 916",
          "Id: 1168",
          "Id: 996",
          "Id: 1166",
          "Id: 1125",
          "Id: 813",
          "Id: 878",
          "Id: 1103",
          "Id: 960",
          "Id: 1240",
          "Id: 1291",
          "Id: 874",
          "Id: 1019",
          "Id: 1100",
          "Id: 609",
          "Id: 1041",
          "Id: 610",
          "Id: 725",
          "Id: 846",
          "Id: 1208",
          "Id: 1256",
          "Id: 1209",
          "Id: 1243",
          "Id: 1117",
          "Id: 695",
          "Id: 638",
          "Id: 1287",
          "Id: 1012",
          "Id: 961",
          "Id: 1000",
          "Id: 794",
          "Id: 1002",
          "Id: 793",
          "Id: 858",
          "Id: 942",
          "Id: 1302",
          "Id: 773",
          "Id: 717",
          "Id: 1179",
          "Id: 1236",
          "Id: 1028"
         ],
         "jitter": 0.075,
         "line": {
          "color": "rgba(117, 152, 189, 0.9)"
         },
         "marker": {
          "line": {
           "color": "white",
           "width": 0.8
          },
          "opacity": 0.8,
          "size": 10
         },
         "meanline": {
          "visible": true
         },
         "pointpos": 0,
         "points": false,
         "scalemode": "count",
         "showlegend": false,
         "type": "violin",
         "x": [
          3,
          3,
          3,
          3,
          3,
          3,
          3,
          3,
          3,
          3,
          3,
          3,
          3,
          3,
          3,
          3,
          3,
          3,
          3,
          3,
          3,
          3,
          3,
          3,
          3,
          3,
          3,
          3,
          3,
          3,
          3,
          3,
          3,
          3,
          3,
          3,
          3,
          3,
          3,
          3,
          3,
          3,
          3,
          3,
          3,
          3,
          3,
          3,
          3,
          3,
          3,
          3,
          3,
          3,
          3
         ],
         "y": [
          -0.04693742814539612,
          -0.06434389289523755,
          -0.07404235155641839,
          0.011579987944091586,
          -0.051578031537706494,
          -0.1015332080855457,
          -0.038351965799755305,
          -0.07873542070595924,
          -0.1194670375725622,
          -0.04938087763411306,
          -0.07421680588103663,
          -0.08771954586298028,
          -0.06624763668859529,
          -0.1346082830415855,
          -0.08031050242279861,
          -0.04330998002917303,
          -0.050043064261457805,
          -0.08081871490176473,
          -0.07354792649920724,
          -0.04820229440052656,
          -0.11286938917360796,
          -0.1280816072608206,
          -0.08384389871770541,
          -0.03846142070888989,
          -0.049788625306379834,
          0.003575789491833107,
          -0.07519738539159324,
          -0.1428055626597879,
          -0.043831882771535685,
          -0.0499523485945251,
          -0.14204581142608302,
          -0.08411745843797712,
          -0.07456397573941122,
          -0.2129936158709326,
          -0.038553324638523664,
          -0.18890610279060824,
          -0.08081871490176473,
          -0.07984756788345253,
          -0.12482887186377237,
          -0.05093327540054358,
          -0.06835537817754431,
          -0.09349471686784397,
          -0.08690873379651952,
          -0.04497038959821618,
          -0.07275698632653664,
          -0.06780026683226183,
          -0.05472392526373359,
          0.03103235165176269,
          -0.08081871490176473,
          -0.08081871490176473,
          -0.0594757189029716,
          -0.07836933953023772,
          -0.09629475617027913,
          0.00462724505371206,
          -0.09766485594544089
         ]
        },
        {
         "customdata": [
          1139,
          533,
          459,
          1150,
          393,
          1189,
          5,
          231,
          330,
          887,
          531,
          790,
          427,
          1260,
          251,
          486,
          436,
          31,
          186,
          1051,
          769,
          642,
          1087,
          55,
          678,
          358,
          503,
          995,
          1005,
          1279,
          916,
          159,
          349,
          224,
          161,
          1168,
          996,
          52,
          1166,
          1125,
          813,
          397,
          215,
          549,
          878,
          1103,
          960,
          141,
          1240,
          1291,
          458,
          874,
          1019,
          1100,
          609,
          1041,
          198,
          610,
          725,
          482,
          846,
          45,
          1208,
          1256,
          1209,
          445,
          422,
          1243,
          1117,
          695,
          589,
          638,
          152,
          1287,
          1012,
          18,
          408,
          233,
          961,
          1000,
          268,
          794,
          474,
          47,
          1002,
          108,
          443,
          793,
          528,
          858,
          942,
          1302,
          773,
          717,
          1179,
          142,
          1236,
          1028,
          420,
          85
         ],
         "hovertemplate": "<b>%{hovertext}</b><br />Ticket class :<br />%{x}<br />Contribution: %{y:.4f}<extra></extra>",
         "hovertext": [
          "Id: 1139",
          "Id: 533",
          "Id: 459",
          "Id: 1150",
          "Id: 393",
          "Id: 1189",
          "Id: 5",
          "Id: 231",
          "Id: 330",
          "Id: 887",
          "Id: 531",
          "Id: 790",
          "Id: 427",
          "Id: 1260",
          "Id: 251",
          "Id: 486",
          "Id: 436",
          "Id: 31",
          "Id: 186",
          "Id: 1051",
          "Id: 769",
          "Id: 642",
          "Id: 1087",
          "Id: 55",
          "Id: 678",
          "Id: 358",
          "Id: 503",
          "Id: 995",
          "Id: 1005",
          "Id: 1279",
          "Id: 916",
          "Id: 159",
          "Id: 349",
          "Id: 224",
          "Id: 161",
          "Id: 1168",
          "Id: 996",
          "Id: 52",
          "Id: 1166",
          "Id: 1125",
          "Id: 813",
          "Id: 397",
          "Id: 215",
          "Id: 549",
          "Id: 878",
          "Id: 1103",
          "Id: 960",
          "Id: 141",
          "Id: 1240",
          "Id: 1291",
          "Id: 458",
          "Id: 874",
          "Id: 1019",
          "Id: 1100",
          "Id: 609",
          "Id: 1041",
          "Id: 198",
          "Id: 610",
          "Id: 725",
          "Id: 482",
          "Id: 846",
          "Id: 45",
          "Id: 1208",
          "Id: 1256",
          "Id: 1209",
          "Id: 445",
          "Id: 422",
          "Id: 1243",
          "Id: 1117",
          "Id: 695",
          "Id: 589",
          "Id: 638",
          "Id: 152",
          "Id: 1287",
          "Id: 1012",
          "Id: 18",
          "Id: 408",
          "Id: 233",
          "Id: 961",
          "Id: 1000",
          "Id: 268",
          "Id: 794",
          "Id: 474",
          "Id: 47",
          "Id: 1002",
          "Id: 108",
          "Id: 443",
          "Id: 793",
          "Id: 528",
          "Id: 858",
          "Id: 942",
          "Id: 1302",
          "Id: 773",
          "Id: 717",
          "Id: 1179",
          "Id: 142",
          "Id: 1236",
          "Id: 1028",
          "Id: 420",
          "Id: 85"
         ],
         "marker": {
          "color": [
           0.013333333333333332,
           0.94,
           0.03,
           0,
           0.027142857142857146,
           0.86,
           0.7216666666666667,
           0.72,
           0,
           0.5833333333333333,
           0.01,
           0.1111111111111111,
           0.8,
           0.76,
           0.97,
           0.42116666666666674,
           0.93,
           0.62,
           0.98,
           0.07833333333333332,
           0.01,
           0.01,
           0.05,
           0.92,
           0.4,
           0.95,
           0.3611190476190477,
           0.03,
           0.06,
           0.19666666666666668,
           0.8666666666666667,
           1,
           0.55325,
           0.15116666666666667,
           0.97,
           0.08,
           0.005,
           0.01,
           0,
           0,
           0,
           0.01,
           0.17,
           1,
           0.1433333333333333,
           0.03,
           0,
           1,
           0.8,
           0.03983333333333333,
           0.97,
           0.59,
           0,
           0.22,
           0.015666666666666666,
           0,
           1,
           0.12,
           0.7375,
           0.99,
           0.01,
           0.3846904761904762,
           0,
           0.81,
           0.01,
           0.335,
           0.026666666666666665,
           0,
           0.028333333333333332,
           0.17607142857142857,
           0.92,
           0.005,
           0.8785,
           0.03,
           0.6100354422581201,
           1,
           0.08399999999999999,
           0.97,
           0.7838968253968251,
           0.21848420052227785,
           0.17,
           0.9,
           0.05,
           0.7136666666666666,
           0.9854999999999999,
           1,
           0.05571428571428571,
           0,
           0,
           0.6529505772005771,
           0,
           0,
           0,
           0.09,
           0.015,
           0.07,
           0.6475,
           0.8890833333333332,
           0,
           0.99
          ],
          "coloraxis": "coloraxis",
          "line": {
           "color": "white",
           "width": 0.8
          },
          "opacity": 0.8,
          "size": 10
         },
         "mode": "markers",
         "showlegend": false,
         "type": "scatter",
         "x": [
          3,
          2,
          2,
          3,
          2,
          3,
          1,
          1,
          2,
          3,
          2,
          3,
          2,
          3,
          1,
          2,
          2,
          1,
          1,
          3,
          3,
          3,
          3,
          1,
          3,
          2,
          2,
          3,
          3,
          3,
          3,
          1,
          2,
          1,
          1,
          3,
          3,
          1,
          3,
          3,
          3,
          2,
          1,
          2,
          3,
          3,
          3,
          1,
          3,
          3,
          2,
          3,
          3,
          3,
          3,
          3,
          1,
          3,
          3,
          2,
          3,
          1,
          3,
          3,
          3,
          2,
          2,
          3,
          3,
          3,
          2,
          3,
          1,
          3,
          3,
          1,
          2,
          1,
          3,
          3,
          1,
          3,
          2,
          1,
          3,
          1,
          2,
          3,
          2,
          3,
          3,
          3,
          3,
          3,
          3,
          1,
          3,
          3,
          2,
          1
         ],
         "y": [
          -0.04693742814539612,
          0.08953778925296421,
          -0.0389360273380114,
          -0.06434389289523755,
          -0.0868666624214853,
          -0.07404235155641839,
          0.2264572763133079,
          0.23093087918825966,
          -0.008315771736217592,
          0.011579987944091586,
          -0.020614782210042155,
          -0.051578031537706494,
          0.08907480575389966,
          -0.1015332080855457,
          0.14559421548241475,
          0.07932138580905523,
          0.11814398036149877,
          0.1669741202412241,
          0.17256758715315124,
          -0.038351965799755305,
          -0.07873542070595924,
          -0.1194670375725622,
          -0.04938087763411306,
          0.18136602727964032,
          -0.07421680588103663,
          0.11689690664343792,
          0.0770398071371244,
          -0.08771954586298028,
          -0.06624763668859529,
          -0.1346082830415855,
          -0.08031050242279861,
          0.14517773018407362,
          0.04012812539974571,
          0.10516627352311343,
          0.17695352403783107,
          -0.04330998002917303,
          -0.050043064261457805,
          0.021778169157273496,
          -0.08081871490176473,
          -0.07354792649920724,
          -0.04820229440052656,
          -0.008750165329920172,
          0.07112024701353423,
          0.054831510201029256,
          -0.11286938917360796,
          -0.1280816072608206,
          -0.08384389871770541,
          0.1574818452488136,
          -0.03846142070888989,
          -0.049788625306379834,
          0.10593116063948613,
          0.003575789491833107,
          -0.07519738539159324,
          -0.1428055626597879,
          -0.043831882771535685,
          -0.0499523485945251,
          0.17141356470890928,
          -0.14204581142608302,
          -0.08411745843797712,
          0.14851838365841918,
          -0.07456397573941122,
          0.14312040100428466,
          -0.2129936158709326,
          -0.038553324638523664,
          -0.18890610279060824,
          -0.00858739201239748,
          -0.012475813680286456,
          -0.08081871490176473,
          -0.07984756788345253,
          -0.12482887186377237,
          0.11698419786388967,
          -0.05093327540054358,
          0.245437730399875,
          -0.06835537817754431,
          -0.09349471686784397,
          0.14215514881643757,
          0.008796879701083265,
          0.15474683024182562,
          -0.08690873379651952,
          -0.04497038959821618,
          0.06099000988629857,
          -0.07275698632653664,
          -0.05005815008756115,
          0.210564325325382,
          -0.06780026683226183,
          0.1449186184050143,
          -0.06838915123414328,
          -0.05472392526373359,
          -0.07360125247883414,
          0.03103235165176269,
          -0.08081871490176473,
          -0.08081871490176473,
          -0.0594757189029716,
          -0.07836933953023772,
          -0.09629475617027913,
          0.0529388495644898,
          0.00462724505371206,
          -0.09766485594544089,
          -0.031131135748517173,
          0.14989898405234384
         ]
        }
       ],
       "layout": {
        "coloraxis": {
         "colorbar": {
          "title": {
           "text": "Predicted Proba"
          }
         },
         "colorscale": [
          [
           0,
           "rgb(52, 55, 54)"
          ],
          [
           0,
           "rgb(74, 99, 138)"
          ],
          [
           0.01,
           "rgb(116, 153, 214)"
          ],
          [
           0.02797619047619048,
           "rgb(162, 188, 213)"
          ],
          [
           0.06600000000000002,
           "rgb(212, 234, 242)"
          ],
          [
           0.17,
           "rgb(235, 216, 134)"
          ],
          [
           0.47399999999999987,
           "rgb(255, 204, 83)"
          ],
          [
           0.7264166666666666,
           "rgb(244, 192, 0)"
          ],
          [
           0.8912666666666667,
           "rgb(255, 166, 17)"
          ],
          [
           0.9710000000000001,
           "rgb(255, 123, 38)"
          ],
          [
           1,
           "rgb(255, 77, 7)"
          ]
         ]
        },
        "height": 600,
        "hovermode": "closest",
        "template": {
         "data": {
          "scatter": [
           {
            "type": "scatter"
           }
          ]
         }
        },
        "title": {
         "font": {
          "color": "rgb(50, 50, 50)",
          "family": "Arial",
          "size": 24
         },
         "text": "<b>Ticket class</b> - Feature Contribution<span style='font-size: 12px;'><br />Response: <b>Survived</b></span>",
         "x": 0.5,
         "xanchor": "center",
         "y": 0.9,
         "yanchor": "middle"
        },
        "violingap": 0.05,
        "violingroupgap": 0,
        "violinmode": "overlay",
        "width": 900,
        "xaxis": {
         "automargin": true,
         "range": [
          -0.6,
          2.6
         ],
         "title": {
          "font": {
           "color": "rgb(50, 50, 50)",
           "family": "Arial Black",
           "size": 16
          },
          "text": "Ticket class"
         },
         "type": "category"
        },
        "yaxis": {
         "automargin": true,
         "title": {
          "font": {
           "color": "rgb(50, 50, 50)",
           "family": "Arial Black",
           "size": 16
          },
          "text": "Contribution"
         }
        }
       }
      },
      "text/html": [
       "<div>                            <div id=\"e423317f-9039-4a05-8588-15aa0d1f4a71\" class=\"plotly-graph-div\" style=\"height:600px; width:900px;\"></div>            <script type=\"text/javascript\">                require([\"plotly\"], function(Plotly) {                    window.PLOTLYENV=window.PLOTLYENV || {};                                    if (document.getElementById(\"e423317f-9039-4a05-8588-15aa0d1f4a71\")) {                    Plotly.newPlot(                        \"e423317f-9039-4a05-8588-15aa0d1f4a71\",                        [{\"customdata\": [1139, 533, 459, 1150, 393, 1189, 5, 231, 330, 887, 531, 790, 427, 1260, 251, 486, 436, 31, 186, 1051, 769, 642, 1087, 55, 678, 358, 503, 995, 1005, 1279, 916, 159, 349, 224, 161, 1168, 996, 52, 1166, 1125, 813, 397, 215, 549, 878, 1103, 960, 141, 1240, 1291, 458, 874, 1019, 1100, 609, 1041, 198, 610, 725, 482, 846, 45, 1208, 1256, 1209, 445, 422, 1243, 1117, 695, 589, 638, 152, 1287, 1012, 18, 408, 233, 961, 1000, 268, 794, 474, 47, 1002, 108, 443, 793, 528, 858, 942, 1302, 773, 717, 1179, 142, 1236, 1028, 420, 85], \"hovertemplate\": \"<b>%{hovertext}</b><br />Ticket class :<br />%{x}<br />Contribution: %{y:.4f}<extra></extra>\", \"hovertext\": [\"Id: 5\", \"Id: 231\", \"Id: 251\", \"Id: 31\", \"Id: 186\", \"Id: 55\", \"Id: 159\", \"Id: 224\", \"Id: 161\", \"Id: 52\", \"Id: 215\", \"Id: 141\", \"Id: 198\", \"Id: 45\", \"Id: 152\", \"Id: 18\", \"Id: 233\", \"Id: 268\", \"Id: 47\", \"Id: 108\", \"Id: 142\", \"Id: 85\"], \"jitter\": 0.075, \"line\": {\"color\": \"rgba(117, 152, 189, 0.9)\"}, \"marker\": {\"line\": {\"color\": \"white\", \"width\": 0.8}, \"opacity\": 0.8, \"size\": 10}, \"meanline\": {\"visible\": true}, \"pointpos\": 0, \"points\": false, \"scalemode\": \"count\", \"showlegend\": false, \"type\": \"violin\", \"x\": [1, 1, 1, 1, 1, 1, 1, 1, 1, 1, 1, 1, 1, 1, 1, 1, 1, 1, 1, 1, 1, 1], \"y\": [0.2264572763133079, 0.23093087918825966, 0.14559421548241475, 0.1669741202412241, 0.17256758715315124, 0.18136602727964032, 0.14517773018407362, 0.10516627352311343, 0.17695352403783107, 0.021778169157273496, 0.07112024701353423, 0.1574818452488136, 0.17141356470890928, 0.14312040100428466, 0.245437730399875, 0.14215514881643757, 0.15474683024182562, 0.06099000988629857, 0.210564325325382, 0.1449186184050143, 0.0529388495644898, 0.14989898405234384]}, {\"customdata\": [1139, 533, 459, 1150, 393, 1189, 5, 231, 330, 887, 531, 790, 427, 1260, 251, 486, 436, 31, 186, 1051, 769, 642, 1087, 55, 678, 358, 503, 995, 1005, 1279, 916, 159, 349, 224, 161, 1168, 996, 52, 1166, 1125, 813, 397, 215, 549, 878, 1103, 960, 141, 1240, 1291, 458, 874, 1019, 1100, 609, 1041, 198, 610, 725, 482, 846, 45, 1208, 1256, 1209, 445, 422, 1243, 1117, 695, 589, 638, 152, 1287, 1012, 18, 408, 233, 961, 1000, 268, 794, 474, 47, 1002, 108, 443, 793, 528, 858, 942, 1302, 773, 717, 1179, 142, 1236, 1028, 420, 85], \"hovertemplate\": \"<b>%{hovertext}</b><br />Ticket class :<br />%{x}<br />Contribution: %{y:.4f}<extra></extra>\", \"hovertext\": [\"Id: 533\", \"Id: 459\", \"Id: 393\", \"Id: 330\", \"Id: 531\", \"Id: 427\", \"Id: 486\", \"Id: 436\", \"Id: 358\", \"Id: 503\", \"Id: 349\", \"Id: 397\", \"Id: 549\", \"Id: 458\", \"Id: 482\", \"Id: 445\", \"Id: 422\", \"Id: 589\", \"Id: 408\", \"Id: 474\", \"Id: 443\", \"Id: 528\", \"Id: 420\"], \"jitter\": 0.075, \"line\": {\"color\": \"rgba(117, 152, 189, 0.9)\"}, \"marker\": {\"line\": {\"color\": \"white\", \"width\": 0.8}, \"opacity\": 0.8, \"size\": 10}, \"meanline\": {\"visible\": true}, \"pointpos\": 0, \"points\": false, \"scalemode\": \"count\", \"showlegend\": false, \"type\": \"violin\", \"x\": [2, 2, 2, 2, 2, 2, 2, 2, 2, 2, 2, 2, 2, 2, 2, 2, 2, 2, 2, 2, 2, 2, 2], \"y\": [0.08953778925296421, -0.0389360273380114, -0.0868666624214853, -0.008315771736217592, -0.020614782210042155, 0.08907480575389966, 0.07932138580905523, 0.11814398036149877, 0.11689690664343792, 0.0770398071371244, 0.04012812539974571, -0.008750165329920172, 0.054831510201029256, 0.10593116063948613, 0.14851838365841918, -0.00858739201239748, -0.012475813680286456, 0.11698419786388967, 0.008796879701083265, -0.05005815008756115, -0.06838915123414328, -0.07360125247883414, -0.031131135748517173]}, {\"customdata\": [1139, 533, 459, 1150, 393, 1189, 5, 231, 330, 887, 531, 790, 427, 1260, 251, 486, 436, 31, 186, 1051, 769, 642, 1087, 55, 678, 358, 503, 995, 1005, 1279, 916, 159, 349, 224, 161, 1168, 996, 52, 1166, 1125, 813, 397, 215, 549, 878, 1103, 960, 141, 1240, 1291, 458, 874, 1019, 1100, 609, 1041, 198, 610, 725, 482, 846, 45, 1208, 1256, 1209, 445, 422, 1243, 1117, 695, 589, 638, 152, 1287, 1012, 18, 408, 233, 961, 1000, 268, 794, 474, 47, 1002, 108, 443, 793, 528, 858, 942, 1302, 773, 717, 1179, 142, 1236, 1028, 420, 85], \"hovertemplate\": \"<b>%{hovertext}</b><br />Ticket class :<br />%{x}<br />Contribution: %{y:.4f}<extra></extra>\", \"hovertext\": [\"Id: 1139\", \"Id: 1150\", \"Id: 1189\", \"Id: 887\", \"Id: 790\", \"Id: 1260\", \"Id: 1051\", \"Id: 769\", \"Id: 642\", \"Id: 1087\", \"Id: 678\", \"Id: 995\", \"Id: 1005\", \"Id: 1279\", \"Id: 916\", \"Id: 1168\", \"Id: 996\", \"Id: 1166\", \"Id: 1125\", \"Id: 813\", \"Id: 878\", \"Id: 1103\", \"Id: 960\", \"Id: 1240\", \"Id: 1291\", \"Id: 874\", \"Id: 1019\", \"Id: 1100\", \"Id: 609\", \"Id: 1041\", \"Id: 610\", \"Id: 725\", \"Id: 846\", \"Id: 1208\", \"Id: 1256\", \"Id: 1209\", \"Id: 1243\", \"Id: 1117\", \"Id: 695\", \"Id: 638\", \"Id: 1287\", \"Id: 1012\", \"Id: 961\", \"Id: 1000\", \"Id: 794\", \"Id: 1002\", \"Id: 793\", \"Id: 858\", \"Id: 942\", \"Id: 1302\", \"Id: 773\", \"Id: 717\", \"Id: 1179\", \"Id: 1236\", \"Id: 1028\"], \"jitter\": 0.075, \"line\": {\"color\": \"rgba(117, 152, 189, 0.9)\"}, \"marker\": {\"line\": {\"color\": \"white\", \"width\": 0.8}, \"opacity\": 0.8, \"size\": 10}, \"meanline\": {\"visible\": true}, \"pointpos\": 0, \"points\": false, \"scalemode\": \"count\", \"showlegend\": false, \"type\": \"violin\", \"x\": [3, 3, 3, 3, 3, 3, 3, 3, 3, 3, 3, 3, 3, 3, 3, 3, 3, 3, 3, 3, 3, 3, 3, 3, 3, 3, 3, 3, 3, 3, 3, 3, 3, 3, 3, 3, 3, 3, 3, 3, 3, 3, 3, 3, 3, 3, 3, 3, 3, 3, 3, 3, 3, 3, 3], \"y\": [-0.04693742814539612, -0.06434389289523755, -0.07404235155641839, 0.011579987944091586, -0.051578031537706494, -0.1015332080855457, -0.038351965799755305, -0.07873542070595924, -0.1194670375725622, -0.04938087763411306, -0.07421680588103663, -0.08771954586298028, -0.06624763668859529, -0.1346082830415855, -0.08031050242279861, -0.04330998002917303, -0.050043064261457805, -0.08081871490176473, -0.07354792649920724, -0.04820229440052656, -0.11286938917360796, -0.1280816072608206, -0.08384389871770541, -0.03846142070888989, -0.049788625306379834, 0.003575789491833107, -0.07519738539159324, -0.1428055626597879, -0.043831882771535685, -0.0499523485945251, -0.14204581142608302, -0.08411745843797712, -0.07456397573941122, -0.2129936158709326, -0.038553324638523664, -0.18890610279060824, -0.08081871490176473, -0.07984756788345253, -0.12482887186377237, -0.05093327540054358, -0.06835537817754431, -0.09349471686784397, -0.08690873379651952, -0.04497038959821618, -0.07275698632653664, -0.06780026683226183, -0.05472392526373359, 0.03103235165176269, -0.08081871490176473, -0.08081871490176473, -0.0594757189029716, -0.07836933953023772, -0.09629475617027913, 0.00462724505371206, -0.09766485594544089]}, {\"customdata\": [1139, 533, 459, 1150, 393, 1189, 5, 231, 330, 887, 531, 790, 427, 1260, 251, 486, 436, 31, 186, 1051, 769, 642, 1087, 55, 678, 358, 503, 995, 1005, 1279, 916, 159, 349, 224, 161, 1168, 996, 52, 1166, 1125, 813, 397, 215, 549, 878, 1103, 960, 141, 1240, 1291, 458, 874, 1019, 1100, 609, 1041, 198, 610, 725, 482, 846, 45, 1208, 1256, 1209, 445, 422, 1243, 1117, 695, 589, 638, 152, 1287, 1012, 18, 408, 233, 961, 1000, 268, 794, 474, 47, 1002, 108, 443, 793, 528, 858, 942, 1302, 773, 717, 1179, 142, 1236, 1028, 420, 85], \"hovertemplate\": \"<b>%{hovertext}</b><br />Ticket class :<br />%{x}<br />Contribution: %{y:.4f}<extra></extra>\", \"hovertext\": [\"Id: 1139\", \"Id: 533\", \"Id: 459\", \"Id: 1150\", \"Id: 393\", \"Id: 1189\", \"Id: 5\", \"Id: 231\", \"Id: 330\", \"Id: 887\", \"Id: 531\", \"Id: 790\", \"Id: 427\", \"Id: 1260\", \"Id: 251\", \"Id: 486\", \"Id: 436\", \"Id: 31\", \"Id: 186\", \"Id: 1051\", \"Id: 769\", \"Id: 642\", \"Id: 1087\", \"Id: 55\", \"Id: 678\", \"Id: 358\", \"Id: 503\", \"Id: 995\", \"Id: 1005\", \"Id: 1279\", \"Id: 916\", \"Id: 159\", \"Id: 349\", \"Id: 224\", \"Id: 161\", \"Id: 1168\", \"Id: 996\", \"Id: 52\", \"Id: 1166\", \"Id: 1125\", \"Id: 813\", \"Id: 397\", \"Id: 215\", \"Id: 549\", \"Id: 878\", \"Id: 1103\", \"Id: 960\", \"Id: 141\", \"Id: 1240\", \"Id: 1291\", \"Id: 458\", \"Id: 874\", \"Id: 1019\", \"Id: 1100\", \"Id: 609\", \"Id: 1041\", \"Id: 198\", \"Id: 610\", \"Id: 725\", \"Id: 482\", \"Id: 846\", \"Id: 45\", \"Id: 1208\", \"Id: 1256\", \"Id: 1209\", \"Id: 445\", \"Id: 422\", \"Id: 1243\", \"Id: 1117\", \"Id: 695\", \"Id: 589\", \"Id: 638\", \"Id: 152\", \"Id: 1287\", \"Id: 1012\", \"Id: 18\", \"Id: 408\", \"Id: 233\", \"Id: 961\", \"Id: 1000\", \"Id: 268\", \"Id: 794\", \"Id: 474\", \"Id: 47\", \"Id: 1002\", \"Id: 108\", \"Id: 443\", \"Id: 793\", \"Id: 528\", \"Id: 858\", \"Id: 942\", \"Id: 1302\", \"Id: 773\", \"Id: 717\", \"Id: 1179\", \"Id: 142\", \"Id: 1236\", \"Id: 1028\", \"Id: 420\", \"Id: 85\"], \"marker\": {\"color\": [0.013333333333333332, 0.94, 0.03, 0.0, 0.027142857142857146, 0.86, 0.7216666666666667, 0.72, 0.0, 0.5833333333333333, 0.01, 0.1111111111111111, 0.8, 0.76, 0.97, 0.42116666666666674, 0.93, 0.62, 0.98, 0.07833333333333332, 0.01, 0.01, 0.05, 0.92, 0.4, 0.95, 0.3611190476190477, 0.03, 0.06, 0.19666666666666668, 0.8666666666666667, 1.0, 0.55325, 0.15116666666666667, 0.97, 0.08, 0.005, 0.01, 0.0, 0.0, 0.0, 0.01, 0.17, 1.0, 0.1433333333333333, 0.03, 0.0, 1.0, 0.8, 0.03983333333333333, 0.97, 0.59, 0.0, 0.22, 0.015666666666666666, 0.0, 1.0, 0.12, 0.7375, 0.99, 0.01, 0.3846904761904762, 0.0, 0.81, 0.01, 0.335, 0.026666666666666665, 0.0, 0.028333333333333332, 0.17607142857142857, 0.92, 0.005, 0.8785, 0.03, 0.6100354422581201, 1.0, 0.08399999999999999, 0.97, 0.7838968253968251, 0.21848420052227785, 0.17, 0.9, 0.05, 0.7136666666666666, 0.9854999999999999, 1.0, 0.05571428571428571, 0.0, 0.0, 0.6529505772005771, 0.0, 0.0, 0.0, 0.09, 0.015, 0.07, 0.6475, 0.8890833333333332, 0.0, 0.99], \"coloraxis\": \"coloraxis\", \"line\": {\"color\": \"white\", \"width\": 0.8}, \"opacity\": 0.8, \"size\": 10}, \"mode\": \"markers\", \"showlegend\": false, \"type\": \"scatter\", \"x\": [3, 2, 2, 3, 2, 3, 1, 1, 2, 3, 2, 3, 2, 3, 1, 2, 2, 1, 1, 3, 3, 3, 3, 1, 3, 2, 2, 3, 3, 3, 3, 1, 2, 1, 1, 3, 3, 1, 3, 3, 3, 2, 1, 2, 3, 3, 3, 1, 3, 3, 2, 3, 3, 3, 3, 3, 1, 3, 3, 2, 3, 1, 3, 3, 3, 2, 2, 3, 3, 3, 2, 3, 1, 3, 3, 1, 2, 1, 3, 3, 1, 3, 2, 1, 3, 1, 2, 3, 2, 3, 3, 3, 3, 3, 3, 1, 3, 3, 2, 1], \"y\": [-0.04693742814539612, 0.08953778925296421, -0.0389360273380114, -0.06434389289523755, -0.0868666624214853, -0.07404235155641839, 0.2264572763133079, 0.23093087918825966, -0.008315771736217592, 0.011579987944091586, -0.020614782210042155, -0.051578031537706494, 0.08907480575389966, -0.1015332080855457, 0.14559421548241475, 0.07932138580905523, 0.11814398036149877, 0.1669741202412241, 0.17256758715315124, -0.038351965799755305, -0.07873542070595924, -0.1194670375725622, -0.04938087763411306, 0.18136602727964032, -0.07421680588103663, 0.11689690664343792, 0.0770398071371244, -0.08771954586298028, -0.06624763668859529, -0.1346082830415855, -0.08031050242279861, 0.14517773018407362, 0.04012812539974571, 0.10516627352311343, 0.17695352403783107, -0.04330998002917303, -0.050043064261457805, 0.021778169157273496, -0.08081871490176473, -0.07354792649920724, -0.04820229440052656, -0.008750165329920172, 0.07112024701353423, 0.054831510201029256, -0.11286938917360796, -0.1280816072608206, -0.08384389871770541, 0.1574818452488136, -0.03846142070888989, -0.049788625306379834, 0.10593116063948613, 0.003575789491833107, -0.07519738539159324, -0.1428055626597879, -0.043831882771535685, -0.0499523485945251, 0.17141356470890928, -0.14204581142608302, -0.08411745843797712, 0.14851838365841918, -0.07456397573941122, 0.14312040100428466, -0.2129936158709326, -0.038553324638523664, -0.18890610279060824, -0.00858739201239748, -0.012475813680286456, -0.08081871490176473, -0.07984756788345253, -0.12482887186377237, 0.11698419786388967, -0.05093327540054358, 0.245437730399875, -0.06835537817754431, -0.09349471686784397, 0.14215514881643757, 0.008796879701083265, 0.15474683024182562, -0.08690873379651952, -0.04497038959821618, 0.06099000988629857, -0.07275698632653664, -0.05005815008756115, 0.210564325325382, -0.06780026683226183, 0.1449186184050143, -0.06838915123414328, -0.05472392526373359, -0.07360125247883414, 0.03103235165176269, -0.08081871490176473, -0.08081871490176473, -0.0594757189029716, -0.07836933953023772, -0.09629475617027913, 0.0529388495644898, 0.00462724505371206, -0.09766485594544089, -0.031131135748517173, 0.14989898405234384]}],                        {\"coloraxis\": {\"colorbar\": {\"title\": {\"text\": \"Predicted Proba\"}}, \"colorscale\": [[0.0, \"rgb(52, 55, 54)\"], [0.0, \"rgb(74, 99, 138)\"], [0.01, \"rgb(116, 153, 214)\"], [0.02797619047619048, \"rgb(162, 188, 213)\"], [0.06600000000000002, \"rgb(212, 234, 242)\"], [0.17, \"rgb(235, 216, 134)\"], [0.47399999999999987, \"rgb(255, 204, 83)\"], [0.7264166666666666, \"rgb(244, 192, 0)\"], [0.8912666666666667, \"rgb(255, 166, 17)\"], [0.9710000000000001, \"rgb(255, 123, 38)\"], [1.0, \"rgb(255, 77, 7)\"]]}, \"height\": 600, \"hovermode\": \"closest\", \"template\": {\"data\": {\"scatter\": [{\"type\": \"scatter\"}]}}, \"title\": {\"font\": {\"color\": \"rgb(50, 50, 50)\", \"family\": \"Arial\", \"size\": 24}, \"text\": \"<b>Ticket class</b> - Feature Contribution<span style='font-size: 12px;'><br />Response: <b>Survived</b></span>\", \"x\": 0.5, \"xanchor\": \"center\", \"y\": 0.9, \"yanchor\": \"middle\"}, \"violingap\": 0.05, \"violingroupgap\": 0, \"violinmode\": \"overlay\", \"width\": 900, \"xaxis\": {\"automargin\": true, \"range\": [-0.6, 2.6], \"title\": {\"font\": {\"color\": \"rgb(50, 50, 50)\", \"family\": \"Arial Black\", \"size\": 16}, \"text\": \"Ticket class\"}, \"type\": \"category\"}, \"yaxis\": {\"automargin\": true, \"title\": {\"font\": {\"color\": \"rgb(50, 50, 50)\", \"family\": \"Arial Black\", \"size\": 16}, \"text\": \"Contribution\"}}},                        {\"responsive\": true}                    ).then(function(){\n",
       "                            \n",
       "var gd = document.getElementById('e423317f-9039-4a05-8588-15aa0d1f4a71');\n",
       "var x = new MutationObserver(function (mutations, observer) {{\n",
       "        var display = window.getComputedStyle(gd).display;\n",
       "        if (!display || display === 'none') {{\n",
       "            console.log([gd, 'removed!']);\n",
       "            Plotly.purge(gd);\n",
       "            observer.disconnect();\n",
       "        }}\n",
       "}});\n",
       "\n",
       "// Listen for the removal of the full notebook cells\n",
       "var notebookContainer = gd.closest('#notebook-container');\n",
       "if (notebookContainer) {{\n",
       "    x.observe(notebookContainer, {childList: true});\n",
       "}}\n",
       "\n",
       "// Listen for the clearing of the current output cell\n",
       "var outputEl = gd.closest('.output');\n",
       "if (outputEl) {{\n",
       "    x.observe(outputEl, {childList: true});\n",
       "}}\n",
       "\n",
       "                        })                };                });            </script>        </div>"
      ]
     },
     "metadata": {},
     "output_type": "display_data"
    }
   ],
   "source": [
    "#Various feature contributions\n",
    "xpl.plot.contribution_plot(col=\"pclass\")"
   ]
  },
  {
   "cell_type": "code",
   "execution_count": 18,
   "metadata": {},
   "outputs": [
    {
     "data": {
      "application/vnd.plotly.v1+json": {
       "config": {
        "plotlyServerURL": "https://plot.ly"
       },
       "data": [
        {
         "customdata": [
          1139,
          533,
          459,
          1150,
          393,
          1189,
          5,
          231,
          330,
          887,
          531,
          790,
          427,
          1260,
          251,
          486,
          436,
          31,
          186,
          1051,
          769,
          642,
          1087,
          55,
          678,
          358,
          503,
          995,
          1005,
          1279,
          916,
          159,
          349,
          224,
          161,
          1168,
          996,
          52,
          1166,
          1125,
          813,
          397,
          215,
          549,
          878,
          1103,
          960,
          141,
          1240,
          1291,
          458,
          874,
          1019,
          1100,
          609,
          1041,
          198,
          610,
          725,
          482,
          846,
          45,
          1208,
          1256,
          1209,
          445,
          422,
          1243,
          1117,
          695,
          589,
          638,
          152,
          1287,
          1012,
          18,
          408,
          233,
          961,
          1000,
          268,
          794,
          474,
          47,
          1002,
          108,
          443,
          793,
          528,
          858,
          942,
          1302,
          773,
          717,
          1179,
          142,
          1236,
          1028,
          420,
          85
         ],
         "hovertemplate": "<b>%{hovertext}</b><br />Age : %{x}<br />Contribution: %{y:.4f}<extra></extra>",
         "hovertext": [
          "Id: 1139",
          "Id: 533",
          "Id: 459",
          "Id: 1150",
          "Id: 393",
          "Id: 1189",
          "Id: 5",
          "Id: 231",
          "Id: 330",
          "Id: 887",
          "Id: 531",
          "Id: 790",
          "Id: 427",
          "Id: 1260",
          "Id: 251",
          "Id: 486",
          "Id: 436",
          "Id: 31",
          "Id: 186",
          "Id: 1051",
          "Id: 769",
          "Id: 642",
          "Id: 1087",
          "Id: 55",
          "Id: 678",
          "Id: 358",
          "Id: 503",
          "Id: 995",
          "Id: 1005",
          "Id: 1279",
          "Id: 916",
          "Id: 159",
          "Id: 349",
          "Id: 224",
          "Id: 161",
          "Id: 1168",
          "Id: 996",
          "Id: 52",
          "Id: 1166",
          "Id: 1125",
          "Id: 813",
          "Id: 397",
          "Id: 215",
          "Id: 549",
          "Id: 878",
          "Id: 1103",
          "Id: 960",
          "Id: 141",
          "Id: 1240",
          "Id: 1291",
          "Id: 458",
          "Id: 874",
          "Id: 1019",
          "Id: 1100",
          "Id: 609",
          "Id: 1041",
          "Id: 198",
          "Id: 610",
          "Id: 725",
          "Id: 482",
          "Id: 846",
          "Id: 45",
          "Id: 1208",
          "Id: 1256",
          "Id: 1209",
          "Id: 445",
          "Id: 422",
          "Id: 1243",
          "Id: 1117",
          "Id: 695",
          "Id: 589",
          "Id: 638",
          "Id: 152",
          "Id: 1287",
          "Id: 1012",
          "Id: 18",
          "Id: 408",
          "Id: 233",
          "Id: 961",
          "Id: 1000",
          "Id: 268",
          "Id: 794",
          "Id: 474",
          "Id: 47",
          "Id: 1002",
          "Id: 108",
          "Id: 443",
          "Id: 793",
          "Id: 528",
          "Id: 858",
          "Id: 942",
          "Id: 1302",
          "Id: 773",
          "Id: 717",
          "Id: 1179",
          "Id: 142",
          "Id: 1236",
          "Id: 1028",
          "Id: 420",
          "Id: 85"
         ],
         "marker": {
          "color": [
           0.013333333333333332,
           0.94,
           0.03,
           0,
           0.027142857142857146,
           0.86,
           0.7216666666666667,
           0.72,
           0,
           0.5833333333333333,
           0.01,
           0.1111111111111111,
           0.8,
           0.76,
           0.97,
           0.42116666666666674,
           0.93,
           0.62,
           0.98,
           0.07833333333333332,
           0.01,
           0.01,
           0.05,
           0.92,
           0.4,
           0.95,
           0.3611190476190477,
           0.03,
           0.06,
           0.19666666666666668,
           0.8666666666666667,
           1,
           0.55325,
           0.15116666666666667,
           0.97,
           0.08,
           0.005,
           0.01,
           0,
           0,
           0,
           0.01,
           0.17,
           1,
           0.1433333333333333,
           0.03,
           0,
           1,
           0.8,
           0.03983333333333333,
           0.97,
           0.59,
           0,
           0.22,
           0.015666666666666666,
           0,
           1,
           0.12,
           0.7375,
           0.99,
           0.01,
           0.3846904761904762,
           0,
           0.81,
           0.01,
           0.335,
           0.026666666666666665,
           0,
           0.028333333333333332,
           0.17607142857142857,
           0.92,
           0.005,
           0.8785,
           0.03,
           0.6100354422581201,
           1,
           0.08399999999999999,
           0.97,
           0.7838968253968251,
           0.21848420052227785,
           0.17,
           0.9,
           0.05,
           0.7136666666666666,
           0.9854999999999999,
           1,
           0.05571428571428571,
           0,
           0,
           0.6529505772005771,
           0,
           0,
           0,
           0.09,
           0.015,
           0.07,
           0.6475,
           0.8890833333333332,
           0,
           0.99
          ],
          "coloraxis": "coloraxis",
          "line": {
           "color": "white",
           "width": 0.8
          },
          "opacity": 0.8,
          "size": 10
         },
         "mode": "markers",
         "type": "scatter",
         "x": [
          38,
          21,
          42,
          28,
          25,
          4,
          48,
          52,
          57,
          28,
          28,
          39,
          0.6667,
          18,
          21,
          24,
          45,
          40,
          55,
          33,
          22,
          13,
          28,
          14,
          6,
          42,
          19,
          35,
          28,
          14,
          4,
          16,
          24,
          45.5,
          51,
          28,
          33,
          28,
          28,
          24,
          28,
          54,
          58,
          3,
          25,
          2,
          34.5,
          45,
          0.4167,
          28,
          17,
          28,
          24,
          29,
          26,
          28,
          18,
          40,
          22,
          17,
          20,
          45,
          9,
          7,
          2,
          18,
          24,
          28,
          21,
          18,
          29,
          35,
          28,
          51,
          28,
          32,
          18,
          56,
          28,
          28,
          24,
          5,
          31,
          42,
          28,
          28,
          32,
          47,
          28,
          28,
          28,
          28,
          42,
          18,
          28,
          46,
          14,
          28,
          21,
          38
         ],
         "y": [
          -0.06628519583316649,
          0.011760799233102217,
          -0.06097270472380273,
          -0.055531526146814704,
          -0.006793747877979075,
          0.1936225063904803,
          0.11347406091002352,
          0.060332093112311656,
          -0.09960065010094174,
          0.05737611256540583,
          -0.04924369571457861,
          -0.10504220732579164,
          0.3498258368990836,
          0.1156500935105809,
          0.01275647183357771,
          0.08608932232424499,
          -0.030032148162469817,
          -0.02858622041580273,
          -0.018920766074722283,
          -0.05340298933851872,
          -0.0092865876512872,
          0.03418006569373369,
          -0.04235114018607647,
          0.05461066424943755,
          0.08135391859248207,
          0.02700990763678346,
          0.08197701574432571,
          -0.08787106181528795,
          -0.036570686989165074,
          0.05143189084180335,
          0.23264547681883432,
          0.04764123413103329,
          -0.08497766041938865,
          -0.0826190224009559,
          -0.011066722037605793,
          -0.09082209752904684,
          -0.05272536062378158,
          -0.0326814232432965,
          -0.06689853091823927,
          -0.0374427134685916,
          -0.06333107458332894,
          -0.06697475294246345,
          -0.13020178190623433,
          0.390828302015354,
          -0.031109281328074806,
          0.1152797500532812,
          -0.07676954214401753,
          -0.018628017992805928,
          0.2823788874073531,
          -0.04309185237407318,
          0.032835198259681425,
          0.09591387760699076,
          -0.016757852921667343,
          -0.04085349907504403,
          -0.02108066918763759,
          -0.07190961143334679,
          0.003082132393558936,
          -0.08645916918049558,
          0.09925006986307051,
          0.02681278938880192,
          -0.04755792987922754,
          0.013665059517516181,
          0.040353397467140055,
          0.20534955583940373,
          0.060721676624917335,
          -0.02096672297967415,
          -0.03801977912362379,
          -0.06689853091823927,
          -0.05935549035769875,
          -0.10875867764482322,
          -0.0333564539477067,
          -0.0921239646566103,
          0.10993670543190943,
          -0.10436087049756702,
          0.005961649424196432,
          0.013674670060536598,
          -0.018019886747689375,
          -0.048963782520546346,
          0.008050593029321094,
          -0.005477407250872595,
          -0.008755736713451161,
          0.25942222855212044,
          0.0278780203101028,
          -0.014791795487037856,
          0.028431116437207353,
          -0.005937781819140979,
          0.024424468259483266,
          -0.058002146594973915,
          -0.036802263795174754,
          -0.01985585974166725,
          -0.06689853091823927,
          -0.06689853091823927,
          -0.07565198797605108,
          0.008143765528319538,
          -0.04225645189370033,
          -0.06625606729879994,
          0.3068981003347566,
          0.01745011407147559,
          -0.0031311624595269146,
          -0.03331652523113946
         ]
        }
       ],
       "layout": {
        "coloraxis": {
         "colorbar": {
          "title": {
           "text": "Predicted Proba"
          }
         },
         "colorscale": [
          [
           0,
           "rgb(52, 55, 54)"
          ],
          [
           0,
           "rgb(74, 99, 138)"
          ],
          [
           0.01,
           "rgb(116, 153, 214)"
          ],
          [
           0.02797619047619048,
           "rgb(162, 188, 213)"
          ],
          [
           0.06600000000000002,
           "rgb(212, 234, 242)"
          ],
          [
           0.17,
           "rgb(235, 216, 134)"
          ],
          [
           0.47399999999999987,
           "rgb(255, 204, 83)"
          ],
          [
           0.7264166666666666,
           "rgb(244, 192, 0)"
          ],
          [
           0.8912666666666667,
           "rgb(255, 166, 17)"
          ],
          [
           0.9710000000000001,
           "rgb(255, 123, 38)"
          ],
          [
           1,
           "rgb(255, 77, 7)"
          ]
         ]
        },
        "height": 600,
        "hovermode": "closest",
        "template": {
         "data": {
          "scatter": [
           {
            "type": "scatter"
           }
          ]
         }
        },
        "title": {
         "font": {
          "color": "rgb(50, 50, 50)",
          "family": "Arial",
          "size": 24
         },
         "text": "<b>Age</b> - Feature Contribution<span style='font-size: 12px;'><br />Response: <b>Survived</b></span>",
         "x": 0.5,
         "xanchor": "center",
         "y": 0.9,
         "yanchor": "middle"
        },
        "width": 900,
        "xaxis": {
         "automargin": true,
         "title": {
          "font": {
           "color": "rgb(50, 50, 50)",
           "family": "Arial Black",
           "size": 16
          },
          "text": "Age"
         }
        },
        "yaxis": {
         "automargin": true,
         "title": {
          "font": {
           "color": "rgb(50, 50, 50)",
           "family": "Arial Black",
           "size": 16
          },
          "text": "Contribution"
         }
        }
       }
      },
      "text/html": [
       "<div>                            <div id=\"328516e3-932c-47fe-a8cb-83e02161b26b\" class=\"plotly-graph-div\" style=\"height:600px; width:900px;\"></div>            <script type=\"text/javascript\">                require([\"plotly\"], function(Plotly) {                    window.PLOTLYENV=window.PLOTLYENV || {};                                    if (document.getElementById(\"328516e3-932c-47fe-a8cb-83e02161b26b\")) {                    Plotly.newPlot(                        \"328516e3-932c-47fe-a8cb-83e02161b26b\",                        [{\"customdata\": [1139, 533, 459, 1150, 393, 1189, 5, 231, 330, 887, 531, 790, 427, 1260, 251, 486, 436, 31, 186, 1051, 769, 642, 1087, 55, 678, 358, 503, 995, 1005, 1279, 916, 159, 349, 224, 161, 1168, 996, 52, 1166, 1125, 813, 397, 215, 549, 878, 1103, 960, 141, 1240, 1291, 458, 874, 1019, 1100, 609, 1041, 198, 610, 725, 482, 846, 45, 1208, 1256, 1209, 445, 422, 1243, 1117, 695, 589, 638, 152, 1287, 1012, 18, 408, 233, 961, 1000, 268, 794, 474, 47, 1002, 108, 443, 793, 528, 858, 942, 1302, 773, 717, 1179, 142, 1236, 1028, 420, 85], \"hovertemplate\": \"<b>%{hovertext}</b><br />Age : %{x}<br />Contribution: %{y:.4f}<extra></extra>\", \"hovertext\": [\"Id: 1139\", \"Id: 533\", \"Id: 459\", \"Id: 1150\", \"Id: 393\", \"Id: 1189\", \"Id: 5\", \"Id: 231\", \"Id: 330\", \"Id: 887\", \"Id: 531\", \"Id: 790\", \"Id: 427\", \"Id: 1260\", \"Id: 251\", \"Id: 486\", \"Id: 436\", \"Id: 31\", \"Id: 186\", \"Id: 1051\", \"Id: 769\", \"Id: 642\", \"Id: 1087\", \"Id: 55\", \"Id: 678\", \"Id: 358\", \"Id: 503\", \"Id: 995\", \"Id: 1005\", \"Id: 1279\", \"Id: 916\", \"Id: 159\", \"Id: 349\", \"Id: 224\", \"Id: 161\", \"Id: 1168\", \"Id: 996\", \"Id: 52\", \"Id: 1166\", \"Id: 1125\", \"Id: 813\", \"Id: 397\", \"Id: 215\", \"Id: 549\", \"Id: 878\", \"Id: 1103\", \"Id: 960\", \"Id: 141\", \"Id: 1240\", \"Id: 1291\", \"Id: 458\", \"Id: 874\", \"Id: 1019\", \"Id: 1100\", \"Id: 609\", \"Id: 1041\", \"Id: 198\", \"Id: 610\", \"Id: 725\", \"Id: 482\", \"Id: 846\", \"Id: 45\", \"Id: 1208\", \"Id: 1256\", \"Id: 1209\", \"Id: 445\", \"Id: 422\", \"Id: 1243\", \"Id: 1117\", \"Id: 695\", \"Id: 589\", \"Id: 638\", \"Id: 152\", \"Id: 1287\", \"Id: 1012\", \"Id: 18\", \"Id: 408\", \"Id: 233\", \"Id: 961\", \"Id: 1000\", \"Id: 268\", \"Id: 794\", \"Id: 474\", \"Id: 47\", \"Id: 1002\", \"Id: 108\", \"Id: 443\", \"Id: 793\", \"Id: 528\", \"Id: 858\", \"Id: 942\", \"Id: 1302\", \"Id: 773\", \"Id: 717\", \"Id: 1179\", \"Id: 142\", \"Id: 1236\", \"Id: 1028\", \"Id: 420\", \"Id: 85\"], \"marker\": {\"color\": [0.013333333333333332, 0.94, 0.03, 0.0, 0.027142857142857146, 0.86, 0.7216666666666667, 0.72, 0.0, 0.5833333333333333, 0.01, 0.1111111111111111, 0.8, 0.76, 0.97, 0.42116666666666674, 0.93, 0.62, 0.98, 0.07833333333333332, 0.01, 0.01, 0.05, 0.92, 0.4, 0.95, 0.3611190476190477, 0.03, 0.06, 0.19666666666666668, 0.8666666666666667, 1.0, 0.55325, 0.15116666666666667, 0.97, 0.08, 0.005, 0.01, 0.0, 0.0, 0.0, 0.01, 0.17, 1.0, 0.1433333333333333, 0.03, 0.0, 1.0, 0.8, 0.03983333333333333, 0.97, 0.59, 0.0, 0.22, 0.015666666666666666, 0.0, 1.0, 0.12, 0.7375, 0.99, 0.01, 0.3846904761904762, 0.0, 0.81, 0.01, 0.335, 0.026666666666666665, 0.0, 0.028333333333333332, 0.17607142857142857, 0.92, 0.005, 0.8785, 0.03, 0.6100354422581201, 1.0, 0.08399999999999999, 0.97, 0.7838968253968251, 0.21848420052227785, 0.17, 0.9, 0.05, 0.7136666666666666, 0.9854999999999999, 1.0, 0.05571428571428571, 0.0, 0.0, 0.6529505772005771, 0.0, 0.0, 0.0, 0.09, 0.015, 0.07, 0.6475, 0.8890833333333332, 0.0, 0.99], \"coloraxis\": \"coloraxis\", \"line\": {\"color\": \"white\", \"width\": 0.8}, \"opacity\": 0.8, \"size\": 10}, \"mode\": \"markers\", \"type\": \"scatter\", \"x\": [38.0, 21.0, 42.0, 28.0, 25.0, 4.0, 48.0, 52.0, 57.0, 28.0, 28.0, 39.0, 0.6667, 18.0, 21.0, 24.0, 45.0, 40.0, 55.0, 33.0, 22.0, 13.0, 28.0, 14.0, 6.0, 42.0, 19.0, 35.0, 28.0, 14.0, 4.0, 16.0, 24.0, 45.5, 51.0, 28.0, 33.0, 28.0, 28.0, 24.0, 28.0, 54.0, 58.0, 3.0, 25.0, 2.0, 34.5, 45.0, 0.4167, 28.0, 17.0, 28.0, 24.0, 29.0, 26.0, 28.0, 18.0, 40.0, 22.0, 17.0, 20.0, 45.0, 9.0, 7.0, 2.0, 18.0, 24.0, 28.0, 21.0, 18.0, 29.0, 35.0, 28.0, 51.0, 28.0, 32.0, 18.0, 56.0, 28.0, 28.0, 24.0, 5.0, 31.0, 42.0, 28.0, 28.0, 32.0, 47.0, 28.0, 28.0, 28.0, 28.0, 42.0, 18.0, 28.0, 46.0, 14.0, 28.0, 21.0, 38.0], \"y\": [-0.06628519583316649, 0.011760799233102217, -0.06097270472380273, -0.055531526146814704, -0.006793747877979075, 0.1936225063904803, 0.11347406091002352, 0.060332093112311656, -0.09960065010094174, 0.05737611256540583, -0.04924369571457861, -0.10504220732579164, 0.3498258368990836, 0.1156500935105809, 0.01275647183357771, 0.08608932232424499, -0.030032148162469817, -0.02858622041580273, -0.018920766074722283, -0.05340298933851872, -0.0092865876512872, 0.03418006569373369, -0.04235114018607647, 0.05461066424943755, 0.08135391859248207, 0.02700990763678346, 0.08197701574432571, -0.08787106181528795, -0.036570686989165074, 0.05143189084180335, 0.23264547681883432, 0.04764123413103329, -0.08497766041938865, -0.0826190224009559, -0.011066722037605793, -0.09082209752904684, -0.05272536062378158, -0.0326814232432965, -0.06689853091823927, -0.0374427134685916, -0.06333107458332894, -0.06697475294246345, -0.13020178190623433, 0.390828302015354, -0.031109281328074806, 0.1152797500532812, -0.07676954214401753, -0.018628017992805928, 0.2823788874073531, -0.04309185237407318, 0.032835198259681425, 0.09591387760699076, -0.016757852921667343, -0.04085349907504403, -0.02108066918763759, -0.07190961143334679, 0.003082132393558936, -0.08645916918049558, 0.09925006986307051, 0.02681278938880192, -0.04755792987922754, 0.013665059517516181, 0.040353397467140055, 0.20534955583940373, 0.060721676624917335, -0.02096672297967415, -0.03801977912362379, -0.06689853091823927, -0.05935549035769875, -0.10875867764482322, -0.0333564539477067, -0.0921239646566103, 0.10993670543190943, -0.10436087049756702, 0.005961649424196432, 0.013674670060536598, -0.018019886747689375, -0.048963782520546346, 0.008050593029321094, -0.005477407250872595, -0.008755736713451161, 0.25942222855212044, 0.0278780203101028, -0.014791795487037856, 0.028431116437207353, -0.005937781819140979, 0.024424468259483266, -0.058002146594973915, -0.036802263795174754, -0.01985585974166725, -0.06689853091823927, -0.06689853091823927, -0.07565198797605108, 0.008143765528319538, -0.04225645189370033, -0.06625606729879994, 0.3068981003347566, 0.01745011407147559, -0.0031311624595269146, -0.03331652523113946]}],                        {\"coloraxis\": {\"colorbar\": {\"title\": {\"text\": \"Predicted Proba\"}}, \"colorscale\": [[0.0, \"rgb(52, 55, 54)\"], [0.0, \"rgb(74, 99, 138)\"], [0.01, \"rgb(116, 153, 214)\"], [0.02797619047619048, \"rgb(162, 188, 213)\"], [0.06600000000000002, \"rgb(212, 234, 242)\"], [0.17, \"rgb(235, 216, 134)\"], [0.47399999999999987, \"rgb(255, 204, 83)\"], [0.7264166666666666, \"rgb(244, 192, 0)\"], [0.8912666666666667, \"rgb(255, 166, 17)\"], [0.9710000000000001, \"rgb(255, 123, 38)\"], [1.0, \"rgb(255, 77, 7)\"]]}, \"height\": 600, \"hovermode\": \"closest\", \"template\": {\"data\": {\"scatter\": [{\"type\": \"scatter\"}]}}, \"title\": {\"font\": {\"color\": \"rgb(50, 50, 50)\", \"family\": \"Arial\", \"size\": 24}, \"text\": \"<b>Age</b> - Feature Contribution<span style='font-size: 12px;'><br />Response: <b>Survived</b></span>\", \"x\": 0.5, \"xanchor\": \"center\", \"y\": 0.9, \"yanchor\": \"middle\"}, \"width\": 900, \"xaxis\": {\"automargin\": true, \"title\": {\"font\": {\"color\": \"rgb(50, 50, 50)\", \"family\": \"Arial Black\", \"size\": 16}, \"text\": \"Age\"}}, \"yaxis\": {\"automargin\": true, \"title\": {\"font\": {\"color\": \"rgb(50, 50, 50)\", \"family\": \"Arial Black\", \"size\": 16}, \"text\": \"Contribution\"}}},                        {\"responsive\": true}                    ).then(function(){\n",
       "                            \n",
       "var gd = document.getElementById('328516e3-932c-47fe-a8cb-83e02161b26b');\n",
       "var x = new MutationObserver(function (mutations, observer) {{\n",
       "        var display = window.getComputedStyle(gd).display;\n",
       "        if (!display || display === 'none') {{\n",
       "            console.log([gd, 'removed!']);\n",
       "            Plotly.purge(gd);\n",
       "            observer.disconnect();\n",
       "        }}\n",
       "}});\n",
       "\n",
       "// Listen for the removal of the full notebook cells\n",
       "var notebookContainer = gd.closest('#notebook-container');\n",
       "if (notebookContainer) {{\n",
       "    x.observe(notebookContainer, {childList: true});\n",
       "}}\n",
       "\n",
       "// Listen for the clearing of the current output cell\n",
       "var outputEl = gd.closest('.output');\n",
       "if (outputEl) {{\n",
       "    x.observe(outputEl, {childList: true});\n",
       "}}\n",
       "\n",
       "                        })                };                });            </script>        </div>"
      ]
     },
     "metadata": {},
     "output_type": "display_data"
    }
   ],
   "source": [
    "xpl.plot.contribution_plot(\"age\")"
   ]
  },
  {
   "cell_type": "code",
   "execution_count": 17,
   "metadata": {},
   "outputs": [
    {
     "data": {
      "application/vnd.plotly.v1+json": {
       "config": {
        "plotlyServerURL": "https://plot.ly"
       },
       "data": [
        {
         "customdata": [
          1139,
          533,
          459,
          1150,
          393,
          1189,
          5,
          231,
          330,
          887,
          531,
          790,
          427,
          1260,
          251,
          486,
          436,
          31,
          186,
          1051,
          769,
          642,
          1087,
          55,
          678,
          358,
          503,
          995,
          1005,
          1279,
          916,
          159,
          349,
          224,
          161,
          1168,
          996,
          52,
          1166,
          1125,
          813,
          397,
          215,
          549,
          878,
          1103,
          960,
          141,
          1240,
          1291,
          458,
          874,
          1019,
          1100,
          609,
          1041,
          198,
          610,
          725,
          482,
          846,
          45,
          1208,
          1256,
          1209,
          445,
          422,
          1243,
          1117,
          695,
          589,
          638,
          152,
          1287,
          1012,
          18,
          408,
          233,
          961,
          1000,
          268,
          794,
          474,
          47,
          1002,
          108,
          443,
          793,
          528,
          858,
          942,
          1302,
          773,
          717,
          1179,
          142,
          1236,
          1028,
          420,
          85
         ],
         "hovertemplate": "<b>%{hovertext}</b><br />Sex :<br />%{x}<br />Contribution: %{y:.4f}<extra></extra>",
         "hovertext": [
          "Id: 533",
          "Id: 1189",
          "Id: 1260",
          "Id: 251",
          "Id: 436",
          "Id: 186",
          "Id: 55",
          "Id: 358",
          "Id: 1279",
          "Id: 916",
          "Id: 159",
          "Id: 349",
          "Id: 161",
          "Id: 878",
          "Id: 141",
          "Id: 458",
          "Id: 1100",
          "Id: 198",
          "Id: 610",
          "Id: 725",
          "Id: 482",
          "Id: 1208",
          "Id: 1209",
          "Id: 445",
          "Id: 695",
          "Id: 589",
          "Id: 1012",
          "Id: 18",
          "Id: 233",
          "Id: 961",
          "Id: 794",
          "Id: 1002",
          "Id: 108",
          "Id: 1028",
          "Id: 85"
         ],
         "jitter": 0.075,
         "line": {
          "color": "rgba(117, 152, 189, 0.9)"
         },
         "marker": {
          "line": {
           "color": "white",
           "width": 0.8
          },
          "opacity": 0.8,
          "size": 10
         },
         "meanline": {
          "visible": true
         },
         "pointpos": 0,
         "points": false,
         "scalemode": "count",
         "showlegend": false,
         "type": "violin",
         "x": [
          "female",
          "female",
          "female",
          "female",
          "female",
          "female",
          "female",
          "female",
          "female",
          "female",
          "female",
          "female",
          "female",
          "female",
          "female",
          "female",
          "female",
          "female",
          "female",
          "female",
          "female",
          "female",
          "female",
          "female",
          "female",
          "female",
          "female",
          "female",
          "female",
          "female",
          "female",
          "female",
          "female",
          "female",
          "female"
         ],
         "y": [
          0.33524624113965734,
          0.14497985804895075,
          0.33009756550512115,
          0.2625668478490624,
          0.35216130478057445,
          0.3591283737214985,
          0.20767641176863313,
          0.3967053664014627,
          0.1285995648766243,
          0.15689434955531964,
          0.23927848246944886,
          0.35298049797347303,
          0.3281766047069929,
          0.149189014272834,
          0.3072732687872248,
          0.4421816685845301,
          0.17661163717429973,
          0.32150215365867,
          0.17812863288632816,
          0.3206320395816522,
          0.34669525967600506,
          0.12136310991438665,
          0.07571133682503686,
          0.27172367968109795,
          0.18599707333190146,
          0.3427853717664544,
          0.2637472189814651,
          0.32375801076405264,
          0.30325977686958344,
          0.34078242088674837,
          0.21061256776813692,
          0.2592408910511091,
          0.361968913245867,
          0.3514952831601793,
          0.3509897134482626
         ]
        },
        {
         "customdata": [
          1139,
          533,
          459,
          1150,
          393,
          1189,
          5,
          231,
          330,
          887,
          531,
          790,
          427,
          1260,
          251,
          486,
          436,
          31,
          186,
          1051,
          769,
          642,
          1087,
          55,
          678,
          358,
          503,
          995,
          1005,
          1279,
          916,
          159,
          349,
          224,
          161,
          1168,
          996,
          52,
          1166,
          1125,
          813,
          397,
          215,
          549,
          878,
          1103,
          960,
          141,
          1240,
          1291,
          458,
          874,
          1019,
          1100,
          609,
          1041,
          198,
          610,
          725,
          482,
          846,
          45,
          1208,
          1256,
          1209,
          445,
          422,
          1243,
          1117,
          695,
          589,
          638,
          152,
          1287,
          1012,
          18,
          408,
          233,
          961,
          1000,
          268,
          794,
          474,
          47,
          1002,
          108,
          443,
          793,
          528,
          858,
          942,
          1302,
          773,
          717,
          1179,
          142,
          1236,
          1028,
          420,
          85
         ],
         "hovertemplate": "<b>%{hovertext}</b><br />Sex :<br />%{x}<br />Contribution: %{y:.4f}<extra></extra>",
         "hovertext": [
          "Id: 1139",
          "Id: 459",
          "Id: 1150",
          "Id: 393",
          "Id: 5",
          "Id: 231",
          "Id: 330",
          "Id: 887",
          "Id: 531",
          "Id: 790",
          "Id: 427",
          "Id: 486",
          "Id: 31",
          "Id: 1051",
          "Id: 769",
          "Id: 642",
          "Id: 1087",
          "Id: 678",
          "Id: 503",
          "Id: 995",
          "Id: 1005",
          "Id: 224",
          "Id: 1168",
          "Id: 996",
          "Id: 52",
          "Id: 1166",
          "Id: 1125",
          "Id: 813",
          "Id: 397",
          "Id: 215",
          "Id: 549",
          "Id: 1103",
          "Id: 960",
          "Id: 1240",
          "Id: 1291",
          "Id: 874",
          "Id: 1019",
          "Id: 609",
          "Id: 1041",
          "Id: 846",
          "Id: 45",
          "Id: 1256",
          "Id: 422",
          "Id: 1243",
          "Id: 1117",
          "Id: 638",
          "Id: 152",
          "Id: 1287",
          "Id: 408",
          "Id: 1000",
          "Id: 268",
          "Id: 474",
          "Id: 47",
          "Id: 443",
          "Id: 793",
          "Id: 528",
          "Id: 858",
          "Id: 942",
          "Id: 1302",
          "Id: 773",
          "Id: 717",
          "Id: 1179",
          "Id: 142",
          "Id: 1236",
          "Id: 420"
         ],
         "jitter": 0.075,
         "line": {
          "color": "rgba(117, 152, 189, 0.9)"
         },
         "marker": {
          "line": {
           "color": "white",
           "width": 0.8
          },
          "opacity": 0.8,
          "size": 10
         },
         "meanline": {
          "visible": true
         },
         "pointpos": 0,
         "points": false,
         "scalemode": "count",
         "showlegend": false,
         "type": "violin",
         "x": [
          "male",
          "male",
          "male",
          "male",
          "male",
          "male",
          "male",
          "male",
          "male",
          "male",
          "male",
          "male",
          "male",
          "male",
          "male",
          "male",
          "male",
          "male",
          "male",
          "male",
          "male",
          "male",
          "male",
          "male",
          "male",
          "male",
          "male",
          "male",
          "male",
          "male",
          "male",
          "male",
          "male",
          "male",
          "male",
          "male",
          "male",
          "male",
          "male",
          "male",
          "male",
          "male",
          "male",
          "male",
          "male",
          "male",
          "male",
          "male",
          "male",
          "male",
          "male",
          "male",
          "male",
          "male",
          "male",
          "male",
          "male",
          "male",
          "male",
          "male",
          "male",
          "male",
          "male",
          "male",
          "male"
         ],
         "y": [
          -0.10769507268550381,
          -0.2202779298161867,
          -0.11825956633651452,
          -0.2006944643231376,
          -0.1496269234630007,
          -0.1344225296846837,
          -0.17569855148830324,
          -0.06726603666839177,
          -0.20289233492334907,
          -0.1454981566589104,
          -0.08532530593213483,
          -0.1659256244479438,
          -0.13049596185247994,
          -0.12629114600146787,
          -0.18787259589607974,
          -0.10481627276134502,
          -0.12166579096046792,
          -0.09542313385210668,
          -0.19390927629747834,
          -0.1289996801677982,
          -0.19961227867957557,
          -0.18504848014460512,
          -0.11134715852013126,
          -0.1131701892310813,
          -0.2118809637540035,
          -0.19319674051273397,
          -0.15410825081490667,
          -0.14755834812335866,
          -0.21597076972040097,
          -0.23979558444287052,
          -0.08510491731469004,
          -0.0874559317426615,
          -0.16740761229918005,
          -0.0742997962314342,
          -0.11949478643818931,
          -0.06462787144689035,
          -0.12006766515705074,
          -0.156492202885831,
          -0.1436569799030948,
          -0.113793481032379,
          -0.1830411209552406,
          -0.05110478152357477,
          -0.177751981400151,
          -0.19319674051273397,
          -0.10443174043552401,
          -0.14655581963642575,
          -0.13513615996981992,
          -0.1152556465569861,
          -0.2136129909486647,
          -0.1460157408681167,
          -0.23377253545329493,
          -0.19438359562224322,
          -0.1520779275654861,
          -0.22791533011587767,
          -0.1537968055565902,
          -0.19173069933213474,
          -0.07941380478025827,
          -0.19319674051273397,
          -0.19319674051273397,
          -0.11080865519151148,
          -0.12027768302772088,
          -0.10324977592039636,
          -0.25271063324524773,
          -0.08261528440496366,
          -0.18764294903189882
         ]
        },
        {
         "customdata": [
          1139,
          533,
          459,
          1150,
          393,
          1189,
          5,
          231,
          330,
          887,
          531,
          790,
          427,
          1260,
          251,
          486,
          436,
          31,
          186,
          1051,
          769,
          642,
          1087,
          55,
          678,
          358,
          503,
          995,
          1005,
          1279,
          916,
          159,
          349,
          224,
          161,
          1168,
          996,
          52,
          1166,
          1125,
          813,
          397,
          215,
          549,
          878,
          1103,
          960,
          141,
          1240,
          1291,
          458,
          874,
          1019,
          1100,
          609,
          1041,
          198,
          610,
          725,
          482,
          846,
          45,
          1208,
          1256,
          1209,
          445,
          422,
          1243,
          1117,
          695,
          589,
          638,
          152,
          1287,
          1012,
          18,
          408,
          233,
          961,
          1000,
          268,
          794,
          474,
          47,
          1002,
          108,
          443,
          793,
          528,
          858,
          942,
          1302,
          773,
          717,
          1179,
          142,
          1236,
          1028,
          420,
          85
         ],
         "hovertemplate": "<b>%{hovertext}</b><br />Sex :<br />%{x}<br />Contribution: %{y:.4f}<extra></extra>",
         "hovertext": [
          "Id: 1139",
          "Id: 533",
          "Id: 459",
          "Id: 1150",
          "Id: 393",
          "Id: 1189",
          "Id: 5",
          "Id: 231",
          "Id: 330",
          "Id: 887",
          "Id: 531",
          "Id: 790",
          "Id: 427",
          "Id: 1260",
          "Id: 251",
          "Id: 486",
          "Id: 436",
          "Id: 31",
          "Id: 186",
          "Id: 1051",
          "Id: 769",
          "Id: 642",
          "Id: 1087",
          "Id: 55",
          "Id: 678",
          "Id: 358",
          "Id: 503",
          "Id: 995",
          "Id: 1005",
          "Id: 1279",
          "Id: 916",
          "Id: 159",
          "Id: 349",
          "Id: 224",
          "Id: 161",
          "Id: 1168",
          "Id: 996",
          "Id: 52",
          "Id: 1166",
          "Id: 1125",
          "Id: 813",
          "Id: 397",
          "Id: 215",
          "Id: 549",
          "Id: 878",
          "Id: 1103",
          "Id: 960",
          "Id: 141",
          "Id: 1240",
          "Id: 1291",
          "Id: 458",
          "Id: 874",
          "Id: 1019",
          "Id: 1100",
          "Id: 609",
          "Id: 1041",
          "Id: 198",
          "Id: 610",
          "Id: 725",
          "Id: 482",
          "Id: 846",
          "Id: 45",
          "Id: 1208",
          "Id: 1256",
          "Id: 1209",
          "Id: 445",
          "Id: 422",
          "Id: 1243",
          "Id: 1117",
          "Id: 695",
          "Id: 589",
          "Id: 638",
          "Id: 152",
          "Id: 1287",
          "Id: 1012",
          "Id: 18",
          "Id: 408",
          "Id: 233",
          "Id: 961",
          "Id: 1000",
          "Id: 268",
          "Id: 794",
          "Id: 474",
          "Id: 47",
          "Id: 1002",
          "Id: 108",
          "Id: 443",
          "Id: 793",
          "Id: 528",
          "Id: 858",
          "Id: 942",
          "Id: 1302",
          "Id: 773",
          "Id: 717",
          "Id: 1179",
          "Id: 142",
          "Id: 1236",
          "Id: 1028",
          "Id: 420",
          "Id: 85"
         ],
         "marker": {
          "color": [
           0.013333333333333332,
           0.94,
           0.03,
           0,
           0.027142857142857146,
           0.86,
           0.7216666666666667,
           0.72,
           0,
           0.5833333333333333,
           0.01,
           0.1111111111111111,
           0.8,
           0.76,
           0.97,
           0.42116666666666674,
           0.93,
           0.62,
           0.98,
           0.07833333333333332,
           0.01,
           0.01,
           0.05,
           0.92,
           0.4,
           0.95,
           0.3611190476190477,
           0.03,
           0.06,
           0.19666666666666668,
           0.8666666666666667,
           1,
           0.55325,
           0.15116666666666667,
           0.97,
           0.08,
           0.005,
           0.01,
           0,
           0,
           0,
           0.01,
           0.17,
           1,
           0.1433333333333333,
           0.03,
           0,
           1,
           0.8,
           0.03983333333333333,
           0.97,
           0.59,
           0,
           0.22,
           0.015666666666666666,
           0,
           1,
           0.12,
           0.7375,
           0.99,
           0.01,
           0.3846904761904762,
           0,
           0.81,
           0.01,
           0.335,
           0.026666666666666665,
           0,
           0.028333333333333332,
           0.17607142857142857,
           0.92,
           0.005,
           0.8785,
           0.03,
           0.6100354422581201,
           1,
           0.08399999999999999,
           0.97,
           0.7838968253968251,
           0.21848420052227785,
           0.17,
           0.9,
           0.05,
           0.7136666666666666,
           0.9854999999999999,
           1,
           0.05571428571428571,
           0,
           0,
           0.6529505772005771,
           0,
           0,
           0,
           0.09,
           0.015,
           0.07,
           0.6475,
           0.8890833333333332,
           0,
           0.99
          ],
          "coloraxis": "coloraxis",
          "line": {
           "color": "white",
           "width": 0.8
          },
          "opacity": 0.8,
          "size": 10
         },
         "mode": "markers",
         "showlegend": false,
         "type": "scatter",
         "x": [
          "male",
          "female",
          "male",
          "male",
          "male",
          "female",
          "male",
          "male",
          "male",
          "male",
          "male",
          "male",
          "male",
          "female",
          "female",
          "male",
          "female",
          "male",
          "female",
          "male",
          "male",
          "male",
          "male",
          "female",
          "male",
          "female",
          "male",
          "male",
          "male",
          "female",
          "female",
          "female",
          "female",
          "male",
          "female",
          "male",
          "male",
          "male",
          "male",
          "male",
          "male",
          "male",
          "male",
          "male",
          "female",
          "male",
          "male",
          "female",
          "male",
          "male",
          "female",
          "male",
          "male",
          "female",
          "male",
          "male",
          "female",
          "female",
          "female",
          "female",
          "male",
          "male",
          "female",
          "male",
          "female",
          "female",
          "male",
          "male",
          "male",
          "female",
          "female",
          "male",
          "male",
          "male",
          "female",
          "female",
          "male",
          "female",
          "female",
          "male",
          "male",
          "female",
          "male",
          "male",
          "female",
          "female",
          "male",
          "male",
          "male",
          "male",
          "male",
          "male",
          "male",
          "male",
          "male",
          "male",
          "male",
          "female",
          "male",
          "female"
         ],
         "y": [
          -0.10769507268550381,
          0.33524624113965734,
          -0.2202779298161867,
          -0.11825956633651452,
          -0.2006944643231376,
          0.14497985804895075,
          -0.1496269234630007,
          -0.1344225296846837,
          -0.17569855148830324,
          -0.06726603666839177,
          -0.20289233492334907,
          -0.1454981566589104,
          -0.08532530593213483,
          0.33009756550512115,
          0.2625668478490624,
          -0.1659256244479438,
          0.35216130478057445,
          -0.13049596185247994,
          0.3591283737214985,
          -0.12629114600146787,
          -0.18787259589607974,
          -0.10481627276134502,
          -0.12166579096046792,
          0.20767641176863313,
          -0.09542313385210668,
          0.3967053664014627,
          -0.19390927629747834,
          -0.1289996801677982,
          -0.19961227867957557,
          0.1285995648766243,
          0.15689434955531964,
          0.23927848246944886,
          0.35298049797347303,
          -0.18504848014460512,
          0.3281766047069929,
          -0.11134715852013126,
          -0.1131701892310813,
          -0.2118809637540035,
          -0.19319674051273397,
          -0.15410825081490667,
          -0.14755834812335866,
          -0.21597076972040097,
          -0.23979558444287052,
          -0.08510491731469004,
          0.149189014272834,
          -0.0874559317426615,
          -0.16740761229918005,
          0.3072732687872248,
          -0.0742997962314342,
          -0.11949478643818931,
          0.4421816685845301,
          -0.06462787144689035,
          -0.12006766515705074,
          0.17661163717429973,
          -0.156492202885831,
          -0.1436569799030948,
          0.32150215365867,
          0.17812863288632816,
          0.3206320395816522,
          0.34669525967600506,
          -0.113793481032379,
          -0.1830411209552406,
          0.12136310991438665,
          -0.05110478152357477,
          0.07571133682503686,
          0.27172367968109795,
          -0.177751981400151,
          -0.19319674051273397,
          -0.10443174043552401,
          0.18599707333190146,
          0.3427853717664544,
          -0.14655581963642575,
          -0.13513615996981992,
          -0.1152556465569861,
          0.2637472189814651,
          0.32375801076405264,
          -0.2136129909486647,
          0.30325977686958344,
          0.34078242088674837,
          -0.1460157408681167,
          -0.23377253545329493,
          0.21061256776813692,
          -0.19438359562224322,
          -0.1520779275654861,
          0.2592408910511091,
          0.361968913245867,
          -0.22791533011587767,
          -0.1537968055565902,
          -0.19173069933213474,
          -0.07941380478025827,
          -0.19319674051273397,
          -0.19319674051273397,
          -0.11080865519151148,
          -0.12027768302772088,
          -0.10324977592039636,
          -0.25271063324524773,
          -0.08261528440496366,
          0.3514952831601793,
          -0.18764294903189882,
          0.3509897134482626
         ]
        }
       ],
       "layout": {
        "coloraxis": {
         "colorbar": {
          "title": {
           "text": "Predicted Proba"
          }
         },
         "colorscale": [
          [
           0,
           "rgb(52, 55, 54)"
          ],
          [
           0,
           "rgb(74, 99, 138)"
          ],
          [
           0.01,
           "rgb(116, 153, 214)"
          ],
          [
           0.02797619047619048,
           "rgb(162, 188, 213)"
          ],
          [
           0.06600000000000002,
           "rgb(212, 234, 242)"
          ],
          [
           0.17,
           "rgb(235, 216, 134)"
          ],
          [
           0.47399999999999987,
           "rgb(255, 204, 83)"
          ],
          [
           0.7264166666666666,
           "rgb(244, 192, 0)"
          ],
          [
           0.8912666666666667,
           "rgb(255, 166, 17)"
          ],
          [
           0.9710000000000001,
           "rgb(255, 123, 38)"
          ],
          [
           1,
           "rgb(255, 77, 7)"
          ]
         ]
        },
        "height": 600,
        "hovermode": "closest",
        "template": {
         "data": {
          "scatter": [
           {
            "type": "scatter"
           }
          ]
         }
        },
        "title": {
         "font": {
          "color": "rgb(50, 50, 50)",
          "family": "Arial",
          "size": 24
         },
         "text": "<b>Sex</b> - Feature Contribution<span style='font-size: 12px;'><br />Response: <b>Survived</b></span>",
         "x": 0.5,
         "xanchor": "center",
         "y": 0.9,
         "yanchor": "middle"
        },
        "violingap": 0.05,
        "violingroupgap": 0,
        "violinmode": "overlay",
        "width": 900,
        "xaxis": {
         "automargin": true,
         "range": [
          -0.6,
          1.6
         ],
         "title": {
          "font": {
           "color": "rgb(50, 50, 50)",
           "family": "Arial Black",
           "size": 16
          },
          "text": "Sex"
         },
         "type": "category"
        },
        "yaxis": {
         "automargin": true,
         "title": {
          "font": {
           "color": "rgb(50, 50, 50)",
           "family": "Arial Black",
           "size": 16
          },
          "text": "Contribution"
         }
        }
       }
      },
      "text/html": [
       "<div>                            <div id=\"a6c4a5c3-66d8-473a-a433-8c63148eb6ee\" class=\"plotly-graph-div\" style=\"height:600px; width:900px;\"></div>            <script type=\"text/javascript\">                require([\"plotly\"], function(Plotly) {                    window.PLOTLYENV=window.PLOTLYENV || {};                                    if (document.getElementById(\"a6c4a5c3-66d8-473a-a433-8c63148eb6ee\")) {                    Plotly.newPlot(                        \"a6c4a5c3-66d8-473a-a433-8c63148eb6ee\",                        [{\"customdata\": [1139, 533, 459, 1150, 393, 1189, 5, 231, 330, 887, 531, 790, 427, 1260, 251, 486, 436, 31, 186, 1051, 769, 642, 1087, 55, 678, 358, 503, 995, 1005, 1279, 916, 159, 349, 224, 161, 1168, 996, 52, 1166, 1125, 813, 397, 215, 549, 878, 1103, 960, 141, 1240, 1291, 458, 874, 1019, 1100, 609, 1041, 198, 610, 725, 482, 846, 45, 1208, 1256, 1209, 445, 422, 1243, 1117, 695, 589, 638, 152, 1287, 1012, 18, 408, 233, 961, 1000, 268, 794, 474, 47, 1002, 108, 443, 793, 528, 858, 942, 1302, 773, 717, 1179, 142, 1236, 1028, 420, 85], \"hovertemplate\": \"<b>%{hovertext}</b><br />Sex :<br />%{x}<br />Contribution: %{y:.4f}<extra></extra>\", \"hovertext\": [\"Id: 533\", \"Id: 1189\", \"Id: 1260\", \"Id: 251\", \"Id: 436\", \"Id: 186\", \"Id: 55\", \"Id: 358\", \"Id: 1279\", \"Id: 916\", \"Id: 159\", \"Id: 349\", \"Id: 161\", \"Id: 878\", \"Id: 141\", \"Id: 458\", \"Id: 1100\", \"Id: 198\", \"Id: 610\", \"Id: 725\", \"Id: 482\", \"Id: 1208\", \"Id: 1209\", \"Id: 445\", \"Id: 695\", \"Id: 589\", \"Id: 1012\", \"Id: 18\", \"Id: 233\", \"Id: 961\", \"Id: 794\", \"Id: 1002\", \"Id: 108\", \"Id: 1028\", \"Id: 85\"], \"jitter\": 0.075, \"line\": {\"color\": \"rgba(117, 152, 189, 0.9)\"}, \"marker\": {\"line\": {\"color\": \"white\", \"width\": 0.8}, \"opacity\": 0.8, \"size\": 10}, \"meanline\": {\"visible\": true}, \"pointpos\": 0, \"points\": false, \"scalemode\": \"count\", \"showlegend\": false, \"type\": \"violin\", \"x\": [\"female\", \"female\", \"female\", \"female\", \"female\", \"female\", \"female\", \"female\", \"female\", \"female\", \"female\", \"female\", \"female\", \"female\", \"female\", \"female\", \"female\", \"female\", \"female\", \"female\", \"female\", \"female\", \"female\", \"female\", \"female\", \"female\", \"female\", \"female\", \"female\", \"female\", \"female\", \"female\", \"female\", \"female\", \"female\"], \"y\": [0.33524624113965734, 0.14497985804895075, 0.33009756550512115, 0.2625668478490624, 0.35216130478057445, 0.3591283737214985, 0.20767641176863313, 0.3967053664014627, 0.1285995648766243, 0.15689434955531964, 0.23927848246944886, 0.35298049797347303, 0.3281766047069929, 0.149189014272834, 0.3072732687872248, 0.4421816685845301, 0.17661163717429973, 0.32150215365867, 0.17812863288632816, 0.3206320395816522, 0.34669525967600506, 0.12136310991438665, 0.07571133682503686, 0.27172367968109795, 0.18599707333190146, 0.3427853717664544, 0.2637472189814651, 0.32375801076405264, 0.30325977686958344, 0.34078242088674837, 0.21061256776813692, 0.2592408910511091, 0.361968913245867, 0.3514952831601793, 0.3509897134482626]}, {\"customdata\": [1139, 533, 459, 1150, 393, 1189, 5, 231, 330, 887, 531, 790, 427, 1260, 251, 486, 436, 31, 186, 1051, 769, 642, 1087, 55, 678, 358, 503, 995, 1005, 1279, 916, 159, 349, 224, 161, 1168, 996, 52, 1166, 1125, 813, 397, 215, 549, 878, 1103, 960, 141, 1240, 1291, 458, 874, 1019, 1100, 609, 1041, 198, 610, 725, 482, 846, 45, 1208, 1256, 1209, 445, 422, 1243, 1117, 695, 589, 638, 152, 1287, 1012, 18, 408, 233, 961, 1000, 268, 794, 474, 47, 1002, 108, 443, 793, 528, 858, 942, 1302, 773, 717, 1179, 142, 1236, 1028, 420, 85], \"hovertemplate\": \"<b>%{hovertext}</b><br />Sex :<br />%{x}<br />Contribution: %{y:.4f}<extra></extra>\", \"hovertext\": [\"Id: 1139\", \"Id: 459\", \"Id: 1150\", \"Id: 393\", \"Id: 5\", \"Id: 231\", \"Id: 330\", \"Id: 887\", \"Id: 531\", \"Id: 790\", \"Id: 427\", \"Id: 486\", \"Id: 31\", \"Id: 1051\", \"Id: 769\", \"Id: 642\", \"Id: 1087\", \"Id: 678\", \"Id: 503\", \"Id: 995\", \"Id: 1005\", \"Id: 224\", \"Id: 1168\", \"Id: 996\", \"Id: 52\", \"Id: 1166\", \"Id: 1125\", \"Id: 813\", \"Id: 397\", \"Id: 215\", \"Id: 549\", \"Id: 1103\", \"Id: 960\", \"Id: 1240\", \"Id: 1291\", \"Id: 874\", \"Id: 1019\", \"Id: 609\", \"Id: 1041\", \"Id: 846\", \"Id: 45\", \"Id: 1256\", \"Id: 422\", \"Id: 1243\", \"Id: 1117\", \"Id: 638\", \"Id: 152\", \"Id: 1287\", \"Id: 408\", \"Id: 1000\", \"Id: 268\", \"Id: 474\", \"Id: 47\", \"Id: 443\", \"Id: 793\", \"Id: 528\", \"Id: 858\", \"Id: 942\", \"Id: 1302\", \"Id: 773\", \"Id: 717\", \"Id: 1179\", \"Id: 142\", \"Id: 1236\", \"Id: 420\"], \"jitter\": 0.075, \"line\": {\"color\": \"rgba(117, 152, 189, 0.9)\"}, \"marker\": {\"line\": {\"color\": \"white\", \"width\": 0.8}, \"opacity\": 0.8, \"size\": 10}, \"meanline\": {\"visible\": true}, \"pointpos\": 0, \"points\": false, \"scalemode\": \"count\", \"showlegend\": false, \"type\": \"violin\", \"x\": [\"male\", \"male\", \"male\", \"male\", \"male\", \"male\", \"male\", \"male\", \"male\", \"male\", \"male\", \"male\", \"male\", \"male\", \"male\", \"male\", \"male\", \"male\", \"male\", \"male\", \"male\", \"male\", \"male\", \"male\", \"male\", \"male\", \"male\", \"male\", \"male\", \"male\", \"male\", \"male\", \"male\", \"male\", \"male\", \"male\", \"male\", \"male\", \"male\", \"male\", \"male\", \"male\", \"male\", \"male\", \"male\", \"male\", \"male\", \"male\", \"male\", \"male\", \"male\", \"male\", \"male\", \"male\", \"male\", \"male\", \"male\", \"male\", \"male\", \"male\", \"male\", \"male\", \"male\", \"male\", \"male\"], \"y\": [-0.10769507268550381, -0.2202779298161867, -0.11825956633651452, -0.2006944643231376, -0.1496269234630007, -0.1344225296846837, -0.17569855148830324, -0.06726603666839177, -0.20289233492334907, -0.1454981566589104, -0.08532530593213483, -0.1659256244479438, -0.13049596185247994, -0.12629114600146787, -0.18787259589607974, -0.10481627276134502, -0.12166579096046792, -0.09542313385210668, -0.19390927629747834, -0.1289996801677982, -0.19961227867957557, -0.18504848014460512, -0.11134715852013126, -0.1131701892310813, -0.2118809637540035, -0.19319674051273397, -0.15410825081490667, -0.14755834812335866, -0.21597076972040097, -0.23979558444287052, -0.08510491731469004, -0.0874559317426615, -0.16740761229918005, -0.0742997962314342, -0.11949478643818931, -0.06462787144689035, -0.12006766515705074, -0.156492202885831, -0.1436569799030948, -0.113793481032379, -0.1830411209552406, -0.05110478152357477, -0.177751981400151, -0.19319674051273397, -0.10443174043552401, -0.14655581963642575, -0.13513615996981992, -0.1152556465569861, -0.2136129909486647, -0.1460157408681167, -0.23377253545329493, -0.19438359562224322, -0.1520779275654861, -0.22791533011587767, -0.1537968055565902, -0.19173069933213474, -0.07941380478025827, -0.19319674051273397, -0.19319674051273397, -0.11080865519151148, -0.12027768302772088, -0.10324977592039636, -0.25271063324524773, -0.08261528440496366, -0.18764294903189882]}, {\"customdata\": [1139, 533, 459, 1150, 393, 1189, 5, 231, 330, 887, 531, 790, 427, 1260, 251, 486, 436, 31, 186, 1051, 769, 642, 1087, 55, 678, 358, 503, 995, 1005, 1279, 916, 159, 349, 224, 161, 1168, 996, 52, 1166, 1125, 813, 397, 215, 549, 878, 1103, 960, 141, 1240, 1291, 458, 874, 1019, 1100, 609, 1041, 198, 610, 725, 482, 846, 45, 1208, 1256, 1209, 445, 422, 1243, 1117, 695, 589, 638, 152, 1287, 1012, 18, 408, 233, 961, 1000, 268, 794, 474, 47, 1002, 108, 443, 793, 528, 858, 942, 1302, 773, 717, 1179, 142, 1236, 1028, 420, 85], \"hovertemplate\": \"<b>%{hovertext}</b><br />Sex :<br />%{x}<br />Contribution: %{y:.4f}<extra></extra>\", \"hovertext\": [\"Id: 1139\", \"Id: 533\", \"Id: 459\", \"Id: 1150\", \"Id: 393\", \"Id: 1189\", \"Id: 5\", \"Id: 231\", \"Id: 330\", \"Id: 887\", \"Id: 531\", \"Id: 790\", \"Id: 427\", \"Id: 1260\", \"Id: 251\", \"Id: 486\", \"Id: 436\", \"Id: 31\", \"Id: 186\", \"Id: 1051\", \"Id: 769\", \"Id: 642\", \"Id: 1087\", \"Id: 55\", \"Id: 678\", \"Id: 358\", \"Id: 503\", \"Id: 995\", \"Id: 1005\", \"Id: 1279\", \"Id: 916\", \"Id: 159\", \"Id: 349\", \"Id: 224\", \"Id: 161\", \"Id: 1168\", \"Id: 996\", \"Id: 52\", \"Id: 1166\", \"Id: 1125\", \"Id: 813\", \"Id: 397\", \"Id: 215\", \"Id: 549\", \"Id: 878\", \"Id: 1103\", \"Id: 960\", \"Id: 141\", \"Id: 1240\", \"Id: 1291\", \"Id: 458\", \"Id: 874\", \"Id: 1019\", \"Id: 1100\", \"Id: 609\", \"Id: 1041\", \"Id: 198\", \"Id: 610\", \"Id: 725\", \"Id: 482\", \"Id: 846\", \"Id: 45\", \"Id: 1208\", \"Id: 1256\", \"Id: 1209\", \"Id: 445\", \"Id: 422\", \"Id: 1243\", \"Id: 1117\", \"Id: 695\", \"Id: 589\", \"Id: 638\", \"Id: 152\", \"Id: 1287\", \"Id: 1012\", \"Id: 18\", \"Id: 408\", \"Id: 233\", \"Id: 961\", \"Id: 1000\", \"Id: 268\", \"Id: 794\", \"Id: 474\", \"Id: 47\", \"Id: 1002\", \"Id: 108\", \"Id: 443\", \"Id: 793\", \"Id: 528\", \"Id: 858\", \"Id: 942\", \"Id: 1302\", \"Id: 773\", \"Id: 717\", \"Id: 1179\", \"Id: 142\", \"Id: 1236\", \"Id: 1028\", \"Id: 420\", \"Id: 85\"], \"marker\": {\"color\": [0.013333333333333332, 0.94, 0.03, 0.0, 0.027142857142857146, 0.86, 0.7216666666666667, 0.72, 0.0, 0.5833333333333333, 0.01, 0.1111111111111111, 0.8, 0.76, 0.97, 0.42116666666666674, 0.93, 0.62, 0.98, 0.07833333333333332, 0.01, 0.01, 0.05, 0.92, 0.4, 0.95, 0.3611190476190477, 0.03, 0.06, 0.19666666666666668, 0.8666666666666667, 1.0, 0.55325, 0.15116666666666667, 0.97, 0.08, 0.005, 0.01, 0.0, 0.0, 0.0, 0.01, 0.17, 1.0, 0.1433333333333333, 0.03, 0.0, 1.0, 0.8, 0.03983333333333333, 0.97, 0.59, 0.0, 0.22, 0.015666666666666666, 0.0, 1.0, 0.12, 0.7375, 0.99, 0.01, 0.3846904761904762, 0.0, 0.81, 0.01, 0.335, 0.026666666666666665, 0.0, 0.028333333333333332, 0.17607142857142857, 0.92, 0.005, 0.8785, 0.03, 0.6100354422581201, 1.0, 0.08399999999999999, 0.97, 0.7838968253968251, 0.21848420052227785, 0.17, 0.9, 0.05, 0.7136666666666666, 0.9854999999999999, 1.0, 0.05571428571428571, 0.0, 0.0, 0.6529505772005771, 0.0, 0.0, 0.0, 0.09, 0.015, 0.07, 0.6475, 0.8890833333333332, 0.0, 0.99], \"coloraxis\": \"coloraxis\", \"line\": {\"color\": \"white\", \"width\": 0.8}, \"opacity\": 0.8, \"size\": 10}, \"mode\": \"markers\", \"showlegend\": false, \"type\": \"scatter\", \"x\": [\"male\", \"female\", \"male\", \"male\", \"male\", \"female\", \"male\", \"male\", \"male\", \"male\", \"male\", \"male\", \"male\", \"female\", \"female\", \"male\", \"female\", \"male\", \"female\", \"male\", \"male\", \"male\", \"male\", \"female\", \"male\", \"female\", \"male\", \"male\", \"male\", \"female\", \"female\", \"female\", \"female\", \"male\", \"female\", \"male\", \"male\", \"male\", \"male\", \"male\", \"male\", \"male\", \"male\", \"male\", \"female\", \"male\", \"male\", \"female\", \"male\", \"male\", \"female\", \"male\", \"male\", \"female\", \"male\", \"male\", \"female\", \"female\", \"female\", \"female\", \"male\", \"male\", \"female\", \"male\", \"female\", \"female\", \"male\", \"male\", \"male\", \"female\", \"female\", \"male\", \"male\", \"male\", \"female\", \"female\", \"male\", \"female\", \"female\", \"male\", \"male\", \"female\", \"male\", \"male\", \"female\", \"female\", \"male\", \"male\", \"male\", \"male\", \"male\", \"male\", \"male\", \"male\", \"male\", \"male\", \"male\", \"female\", \"male\", \"female\"], \"y\": [-0.10769507268550381, 0.33524624113965734, -0.2202779298161867, -0.11825956633651452, -0.2006944643231376, 0.14497985804895075, -0.1496269234630007, -0.1344225296846837, -0.17569855148830324, -0.06726603666839177, -0.20289233492334907, -0.1454981566589104, -0.08532530593213483, 0.33009756550512115, 0.2625668478490624, -0.1659256244479438, 0.35216130478057445, -0.13049596185247994, 0.3591283737214985, -0.12629114600146787, -0.18787259589607974, -0.10481627276134502, -0.12166579096046792, 0.20767641176863313, -0.09542313385210668, 0.3967053664014627, -0.19390927629747834, -0.1289996801677982, -0.19961227867957557, 0.1285995648766243, 0.15689434955531964, 0.23927848246944886, 0.35298049797347303, -0.18504848014460512, 0.3281766047069929, -0.11134715852013126, -0.1131701892310813, -0.2118809637540035, -0.19319674051273397, -0.15410825081490667, -0.14755834812335866, -0.21597076972040097, -0.23979558444287052, -0.08510491731469004, 0.149189014272834, -0.0874559317426615, -0.16740761229918005, 0.3072732687872248, -0.0742997962314342, -0.11949478643818931, 0.4421816685845301, -0.06462787144689035, -0.12006766515705074, 0.17661163717429973, -0.156492202885831, -0.1436569799030948, 0.32150215365867, 0.17812863288632816, 0.3206320395816522, 0.34669525967600506, -0.113793481032379, -0.1830411209552406, 0.12136310991438665, -0.05110478152357477, 0.07571133682503686, 0.27172367968109795, -0.177751981400151, -0.19319674051273397, -0.10443174043552401, 0.18599707333190146, 0.3427853717664544, -0.14655581963642575, -0.13513615996981992, -0.1152556465569861, 0.2637472189814651, 0.32375801076405264, -0.2136129909486647, 0.30325977686958344, 0.34078242088674837, -0.1460157408681167, -0.23377253545329493, 0.21061256776813692, -0.19438359562224322, -0.1520779275654861, 0.2592408910511091, 0.361968913245867, -0.22791533011587767, -0.1537968055565902, -0.19173069933213474, -0.07941380478025827, -0.19319674051273397, -0.19319674051273397, -0.11080865519151148, -0.12027768302772088, -0.10324977592039636, -0.25271063324524773, -0.08261528440496366, 0.3514952831601793, -0.18764294903189882, 0.3509897134482626]}],                        {\"coloraxis\": {\"colorbar\": {\"title\": {\"text\": \"Predicted Proba\"}}, \"colorscale\": [[0.0, \"rgb(52, 55, 54)\"], [0.0, \"rgb(74, 99, 138)\"], [0.01, \"rgb(116, 153, 214)\"], [0.02797619047619048, \"rgb(162, 188, 213)\"], [0.06600000000000002, \"rgb(212, 234, 242)\"], [0.17, \"rgb(235, 216, 134)\"], [0.47399999999999987, \"rgb(255, 204, 83)\"], [0.7264166666666666, \"rgb(244, 192, 0)\"], [0.8912666666666667, \"rgb(255, 166, 17)\"], [0.9710000000000001, \"rgb(255, 123, 38)\"], [1.0, \"rgb(255, 77, 7)\"]]}, \"height\": 600, \"hovermode\": \"closest\", \"template\": {\"data\": {\"scatter\": [{\"type\": \"scatter\"}]}}, \"title\": {\"font\": {\"color\": \"rgb(50, 50, 50)\", \"family\": \"Arial\", \"size\": 24}, \"text\": \"<b>Sex</b> - Feature Contribution<span style='font-size: 12px;'><br />Response: <b>Survived</b></span>\", \"x\": 0.5, \"xanchor\": \"center\", \"y\": 0.9, \"yanchor\": \"middle\"}, \"violingap\": 0.05, \"violingroupgap\": 0, \"violinmode\": \"overlay\", \"width\": 900, \"xaxis\": {\"automargin\": true, \"range\": [-0.6, 1.6], \"title\": {\"font\": {\"color\": \"rgb(50, 50, 50)\", \"family\": \"Arial Black\", \"size\": 16}, \"text\": \"Sex\"}, \"type\": \"category\"}, \"yaxis\": {\"automargin\": true, \"title\": {\"font\": {\"color\": \"rgb(50, 50, 50)\", \"family\": \"Arial Black\", \"size\": 16}, \"text\": \"Contribution\"}}},                        {\"responsive\": true}                    ).then(function(){\n",
       "                            \n",
       "var gd = document.getElementById('a6c4a5c3-66d8-473a-a433-8c63148eb6ee');\n",
       "var x = new MutationObserver(function (mutations, observer) {{\n",
       "        var display = window.getComputedStyle(gd).display;\n",
       "        if (!display || display === 'none') {{\n",
       "            console.log([gd, 'removed!']);\n",
       "            Plotly.purge(gd);\n",
       "            observer.disconnect();\n",
       "        }}\n",
       "}});\n",
       "\n",
       "// Listen for the removal of the full notebook cells\n",
       "var notebookContainer = gd.closest('#notebook-container');\n",
       "if (notebookContainer) {{\n",
       "    x.observe(notebookContainer, {childList: true});\n",
       "}}\n",
       "\n",
       "// Listen for the clearing of the current output cell\n",
       "var outputEl = gd.closest('.output');\n",
       "if (outputEl) {{\n",
       "    x.observe(outputEl, {childList: true});\n",
       "}}\n",
       "\n",
       "                        })                };                });            </script>        </div>"
      ]
     },
     "metadata": {},
     "output_type": "display_data"
    }
   ],
   "source": [
    "xpl.plot.contribution_plot(\"sex\")"
   ]
  },
  {
   "cell_type": "code",
   "execution_count": 18,
   "metadata": {},
   "outputs": [
    {
     "data": {
      "application/vnd.plotly.v1+json": {
       "config": {
        "plotlyServerURL": "https://plot.ly"
       },
       "data": [
        {
         "customdata": [
          "<b>Sex :</b><br />male"
         ],
         "hovertemplate": "%{customdata}<br />Contribution: %{x:.4f}<extra></extra>",
         "marker": {
          "color": "rgba(74, 99, 138, 0.7)",
          "line": {
           "color": "rgba(27, 28, 28, 1.0)",
           "width": 0.5
          }
         },
         "orientation": "h",
         "showlegend": false,
         "type": "bar",
         "x": [
          -0.10324977592039636
         ],
         "y": [
          "<b>Sex :</b><br />male"
         ]
        },
        {
         "customdata": [
          "<b>Ticket class :</b><br />3"
         ],
         "hovertemplate": "%{customdata}<br />Contribution: %{x:.4f}<extra></extra>",
         "marker": {
          "color": "rgba(74, 99, 138, 0.7)",
          "line": {
           "color": "rgba(27, 28, 28, 1.0)",
           "width": 0.5
          }
         },
         "orientation": "h",
         "showlegend": false,
         "type": "bar",
         "x": [
          -0.09629475617027913
         ],
         "y": [
          "<b>Ticket class :</b><br />3"
         ]
        },
        {
         "customdata": [
          "<b>Relatives like children or parents :</b><br />9.0"
         ],
         "hovertemplate": "%{customdata}<br />Contribution: %{x:.4f}<extra></extra>",
         "marker": {
          "color": "rgba(74, 99, 138, 0.7)",
          "line": {
           "color": "rgba(27, 28, 28, 1.0)",
           "width": 0.5
          }
         },
         "orientation": "h",
         "showlegend": false,
         "type": "bar",
         "x": [
          -0.08943177548117015
         ],
         "y": [
          "<b>Relatives like children or parents :</b><br />9.0"
         ]
        },
        {
         "customdata": [
          "<b>Age :</b><br />28.0"
         ],
         "hovertemplate": "%{customdata}<br />Contribution: %{x:.4f}<extra></extra>",
         "marker": {
          "color": "rgba(74, 99, 138, 0.7)",
          "line": {
           "color": "rgba(27, 28, 28, 1.0)",
           "width": 0.5
          }
         },
         "orientation": "h",
         "showlegend": false,
         "type": "bar",
         "x": [
          -0.04225645189370033
         ],
         "y": [
          "<b>Age :</b><br />28.0"
         ]
        },
        {
         "customdata": [
          "<b>Port of embarkation :</b><br />S"
         ],
         "hovertemplate": "%{customdata}<br />Contribution: %{x:.4f}<extra></extra>",
         "marker": {
          "color": "rgba(74, 99, 138, 0.7)",
          "line": {
           "color": "rgba(27, 28, 28, 1.0)",
           "width": 0.5
          }
         },
         "orientation": "h",
         "showlegend": false,
         "type": "bar",
         "x": [
          -0.031136408699546245
         ],
         "y": [
          "<b>Port of embarkation :</b><br />S"
         ]
        },
        {
         "customdata": [
          "<b>Relatives such as brother or wife :</b><br />1.0"
         ],
         "hovertemplate": "%{customdata}<br />Contribution: %{x:.4f}<extra></extra>",
         "marker": {
          "color": "rgba(74, 99, 138, 0.7)",
          "line": {
           "color": "rgba(27, 28, 28, 1.0)",
           "width": 0.5
          }
         },
         "orientation": "h",
         "showlegend": false,
         "type": "bar",
         "x": [
          -0.023056573861882267
         ],
         "y": [
          "<b>Relatives such as brother or wife :</b><br />1.0"
         ]
        },
        {
         "customdata": [
          "<b>Passenger fare :</b><br />69.55"
         ],
         "hovertemplate": "%{customdata}<br />Contribution: %{x:.4f}<extra></extra>",
         "marker": {
          "color": "rgba(244, 192, 0, 1.0)",
          "line": {
           "color": "rgba(52, 55, 54, 0.8)",
           "width": 0.5
          }
         },
         "orientation": "h",
         "showlegend": false,
         "type": "bar",
         "x": [
          0.0192798291163558
         ],
         "y": [
          "<b>Passenger fare :</b><br />69.55"
         ]
        }
       ],
       "layout": {
        "barmode": "group",
        "height": 550,
        "hovermode": "closest",
        "margin": {
         "b": 70,
         "l": 150,
         "r": 20,
         "t": 95
        },
        "template": {
         "data": {
          "scatter": [
           {
            "type": "scatter"
           }
          ]
         }
        },
        "title": {
         "font": {
          "color": "rgb(50, 50, 50)",
          "family": "Arial",
          "size": 24
         },
         "text": "Local Explanation - Id: <b>1179</b><span style='font-size: 12px;'><br />Response: <b>Survived</b> - Proba: <b>0.0150</b></span>",
         "x": 0.5,
         "xanchor": "center",
         "y": 0.9,
         "yanchor": "middle"
        },
        "width": 900,
        "xaxis": {
         "automargin": true,
         "title": {
          "font": {
           "color": "rgb(50, 50, 50)",
           "family": "Arial Black",
           "size": 16
          },
          "text": "Contribution"
         }
        },
        "yaxis": {
         "automargin": true,
         "title": {
          "font": {
           "color": "rgb(50, 50, 50)",
           "family": "Arial Black",
           "size": 16
          }
         },
         "type": "category"
        }
       }
      },
      "text/html": [
       "<div>                            <div id=\"89112d84-7c87-4382-b5cf-4a43fc9d74e2\" class=\"plotly-graph-div\" style=\"height:550px; width:900px;\"></div>            <script type=\"text/javascript\">                require([\"plotly\"], function(Plotly) {                    window.PLOTLYENV=window.PLOTLYENV || {};                                    if (document.getElementById(\"89112d84-7c87-4382-b5cf-4a43fc9d74e2\")) {                    Plotly.newPlot(                        \"89112d84-7c87-4382-b5cf-4a43fc9d74e2\",                        [{\"customdata\": [\"<b>Sex :</b><br />male\"], \"hovertemplate\": \"%{customdata}<br />Contribution: %{x:.4f}<extra></extra>\", \"marker\": {\"color\": \"rgba(74, 99, 138, 0.7)\", \"line\": {\"color\": \"rgba(27, 28, 28, 1.0)\", \"width\": 0.5}}, \"orientation\": \"h\", \"showlegend\": false, \"type\": \"bar\", \"x\": [-0.10324977592039636], \"y\": [\"<b>Sex :</b><br />male\"]}, {\"customdata\": [\"<b>Ticket class :</b><br />3\"], \"hovertemplate\": \"%{customdata}<br />Contribution: %{x:.4f}<extra></extra>\", \"marker\": {\"color\": \"rgba(74, 99, 138, 0.7)\", \"line\": {\"color\": \"rgba(27, 28, 28, 1.0)\", \"width\": 0.5}}, \"orientation\": \"h\", \"showlegend\": false, \"type\": \"bar\", \"x\": [-0.09629475617027913], \"y\": [\"<b>Ticket class :</b><br />3\"]}, {\"customdata\": [\"<b>Relatives like children or parents :</b><br />9.0\"], \"hovertemplate\": \"%{customdata}<br />Contribution: %{x:.4f}<extra></extra>\", \"marker\": {\"color\": \"rgba(74, 99, 138, 0.7)\", \"line\": {\"color\": \"rgba(27, 28, 28, 1.0)\", \"width\": 0.5}}, \"orientation\": \"h\", \"showlegend\": false, \"type\": \"bar\", \"x\": [-0.08943177548117015], \"y\": [\"<b>Relatives like children or parents :</b><br />9.0\"]}, {\"customdata\": [\"<b>Age :</b><br />28.0\"], \"hovertemplate\": \"%{customdata}<br />Contribution: %{x:.4f}<extra></extra>\", \"marker\": {\"color\": \"rgba(74, 99, 138, 0.7)\", \"line\": {\"color\": \"rgba(27, 28, 28, 1.0)\", \"width\": 0.5}}, \"orientation\": \"h\", \"showlegend\": false, \"type\": \"bar\", \"x\": [-0.04225645189370033], \"y\": [\"<b>Age :</b><br />28.0\"]}, {\"customdata\": [\"<b>Port of embarkation :</b><br />S\"], \"hovertemplate\": \"%{customdata}<br />Contribution: %{x:.4f}<extra></extra>\", \"marker\": {\"color\": \"rgba(74, 99, 138, 0.7)\", \"line\": {\"color\": \"rgba(27, 28, 28, 1.0)\", \"width\": 0.5}}, \"orientation\": \"h\", \"showlegend\": false, \"type\": \"bar\", \"x\": [-0.031136408699546245], \"y\": [\"<b>Port of embarkation :</b><br />S\"]}, {\"customdata\": [\"<b>Relatives such as brother or wife :</b><br />1.0\"], \"hovertemplate\": \"%{customdata}<br />Contribution: %{x:.4f}<extra></extra>\", \"marker\": {\"color\": \"rgba(74, 99, 138, 0.7)\", \"line\": {\"color\": \"rgba(27, 28, 28, 1.0)\", \"width\": 0.5}}, \"orientation\": \"h\", \"showlegend\": false, \"type\": \"bar\", \"x\": [-0.023056573861882267], \"y\": [\"<b>Relatives such as brother or wife :</b><br />1.0\"]}, {\"customdata\": [\"<b>Passenger fare :</b><br />69.55\"], \"hovertemplate\": \"%{customdata}<br />Contribution: %{x:.4f}<extra></extra>\", \"marker\": {\"color\": \"rgba(244, 192, 0, 1.0)\", \"line\": {\"color\": \"rgba(52, 55, 54, 0.8)\", \"width\": 0.5}}, \"orientation\": \"h\", \"showlegend\": false, \"type\": \"bar\", \"x\": [0.0192798291163558], \"y\": [\"<b>Passenger fare :</b><br />69.55\"]}],                        {\"barmode\": \"group\", \"height\": 550, \"hovermode\": \"closest\", \"margin\": {\"b\": 70, \"l\": 150, \"r\": 20, \"t\": 95}, \"template\": {\"data\": {\"scatter\": [{\"type\": \"scatter\"}]}}, \"title\": {\"font\": {\"color\": \"rgb(50, 50, 50)\", \"family\": \"Arial\", \"size\": 24}, \"text\": \"Local Explanation - Id: <b>1179</b><span style='font-size: 12px;'><br />Response: <b>Survived</b> - Proba: <b>0.0150</b></span>\", \"x\": 0.5, \"xanchor\": \"center\", \"y\": 0.9, \"yanchor\": \"middle\"}, \"width\": 900, \"xaxis\": {\"automargin\": true, \"title\": {\"font\": {\"color\": \"rgb(50, 50, 50)\", \"family\": \"Arial Black\", \"size\": 16}, \"text\": \"Contribution\"}}, \"yaxis\": {\"automargin\": true, \"title\": {\"font\": {\"color\": \"rgb(50, 50, 50)\", \"family\": \"Arial Black\", \"size\": 16}}, \"type\": \"category\"}},                        {\"responsive\": true}                    ).then(function(){\n",
       "                            \n",
       "var gd = document.getElementById('89112d84-7c87-4382-b5cf-4a43fc9d74e2');\n",
       "var x = new MutationObserver(function (mutations, observer) {{\n",
       "        var display = window.getComputedStyle(gd).display;\n",
       "        if (!display || display === 'none') {{\n",
       "            console.log([gd, 'removed!']);\n",
       "            Plotly.purge(gd);\n",
       "            observer.disconnect();\n",
       "        }}\n",
       "}});\n",
       "\n",
       "// Listen for the removal of the full notebook cells\n",
       "var notebookContainer = gd.closest('#notebook-container');\n",
       "if (notebookContainer) {{\n",
       "    x.observe(notebookContainer, {childList: true});\n",
       "}}\n",
       "\n",
       "// Listen for the clearing of the current output cell\n",
       "var outputEl = gd.closest('.output');\n",
       "if (outputEl) {{\n",
       "    x.observe(outputEl, {childList: true});\n",
       "}}\n",
       "\n",
       "                        })                };                });            </script>        </div>"
      ]
     },
     "metadata": {},
     "output_type": "display_data"
    }
   ],
   "source": [
    "#Local explanation from a random element of the sample\n",
    "import random\n",
    "id = random.choice(list(X_s.index))\n",
    "xpl.plot.local_plot(index=id)"
   ]
  },
  {
   "cell_type": "markdown",
   "metadata": {},
   "source": [
    "Jack and Rose\n",
    "==============\n",
    "\n",
    "Now comes Jack and Rose!\n",
    "We will evaluate the model with them.\n",
    "\n",
    "\n",
    "![Jack and Rose](https://img.20mn.fr/OTHEAkuxRsabSyyULbWmkg/640x410_leonardo-dicaprio-kate-winslet-film-titanic.jpg)"
   ]
  },
  {
   "cell_type": "code",
   "execution_count": 19,
   "metadata": {},
   "outputs": [
    {
     "data": {
      "text/html": [
       "<div>\n",
       "<style scoped>\n",
       "    .dataframe tbody tr th:only-of-type {\n",
       "        vertical-align: middle;\n",
       "    }\n",
       "\n",
       "    .dataframe tbody tr th {\n",
       "        vertical-align: top;\n",
       "    }\n",
       "\n",
       "    .dataframe thead th {\n",
       "        text-align: right;\n",
       "    }\n",
       "</style>\n",
       "<table border=\"1\" class=\"dataframe\">\n",
       "  <thead>\n",
       "    <tr style=\"text-align: right;\">\n",
       "      <th></th>\n",
       "      <th>sex</th>\n",
       "      <th>embarked</th>\n",
       "      <th>pclass</th>\n",
       "      <th>age</th>\n",
       "      <th>sibsp</th>\n",
       "      <th>parch</th>\n",
       "      <th>fare</th>\n",
       "    </tr>\n",
       "  </thead>\n",
       "  <tbody>\n",
       "    <tr>\n",
       "      <th>Rose</th>\n",
       "      <td>female</td>\n",
       "      <td>S</td>\n",
       "      <td>1</td>\n",
       "      <td>17</td>\n",
       "      <td>1</td>\n",
       "      <td>1</td>\n",
       "      <td>151.5</td>\n",
       "    </tr>\n",
       "    <tr>\n",
       "      <th>Jack</th>\n",
       "      <td>male</td>\n",
       "      <td>S</td>\n",
       "      <td>3</td>\n",
       "      <td>20</td>\n",
       "      <td>0</td>\n",
       "      <td>0</td>\n",
       "      <td>9.5</td>\n",
       "    </tr>\n",
       "  </tbody>\n",
       "</table>\n",
       "</div>"
      ],
      "text/plain": [
       "         sex embarked pclass age sibsp parch   fare\n",
       "Rose  female        S      1  17     1     1  151.5\n",
       "Jack    male        S      3  20     0     0    9.5"
      ]
     },
     "execution_count": 19,
     "metadata": {},
     "output_type": "execute_result"
    }
   ],
   "source": [
    "features = ['sex', 'embarked', 'pclass','age', 'sibsp', 'parch', 'fare']\n",
    "\n",
    "# Jack & Rose data\n",
    "\n",
    "personal_info = np.array([\n",
    "    ['female', 'S', 1, 17, 1, 1, 151.5],\n",
    "    ['male', 'S', 3, 20, 0, 0, 9.5],\n",
    "    ['male', 'S', 1, 20, 0, 0, 211.3],\n",
    "    ['male', 'S', 3, 5, 0, 1, 9.5],\n",
    "    ])\n",
    "\n",
    "df_test = pd.DataFrame(personal_info, index=['Rose','Jack','Jack_Rich','Jack_Boy'], columns=features)\n",
    "#df_test = pd.DataFrame(personal_info, index=['Rose'], columns=features)\n",
    "X_test = df_test.copy()\n",
    "df_test.head(2)"
   ]
  },
  {
   "cell_type": "code",
   "execution_count": 20,
   "metadata": {},
   "outputs": [
    {
     "data": {
      "text/html": [
       "<div>\n",
       "<style scoped>\n",
       "    .dataframe tbody tr th:only-of-type {\n",
       "        vertical-align: middle;\n",
       "    }\n",
       "\n",
       "    .dataframe tbody tr th {\n",
       "        vertical-align: top;\n",
       "    }\n",
       "\n",
       "    .dataframe thead th {\n",
       "        text-align: right;\n",
       "    }\n",
       "</style>\n",
       "<table border=\"1\" class=\"dataframe\">\n",
       "  <thead>\n",
       "    <tr style=\"text-align: right;\">\n",
       "      <th></th>\n",
       "      <th>sex</th>\n",
       "      <th>embarked</th>\n",
       "      <th>pclass</th>\n",
       "      <th>age</th>\n",
       "      <th>sibsp</th>\n",
       "      <th>parch</th>\n",
       "      <th>fare</th>\n",
       "    </tr>\n",
       "  </thead>\n",
       "  <tbody>\n",
       "    <tr>\n",
       "      <th>Rose</th>\n",
       "      <td>1</td>\n",
       "      <td>1</td>\n",
       "      <td>1</td>\n",
       "      <td>17</td>\n",
       "      <td>1</td>\n",
       "      <td>1</td>\n",
       "      <td>151.5</td>\n",
       "    </tr>\n",
       "    <tr>\n",
       "      <th>Jack</th>\n",
       "      <td>2</td>\n",
       "      <td>1</td>\n",
       "      <td>3</td>\n",
       "      <td>20</td>\n",
       "      <td>0</td>\n",
       "      <td>0</td>\n",
       "      <td>9.5</td>\n",
       "    </tr>\n",
       "    <tr>\n",
       "      <th>Jack_Rich</th>\n",
       "      <td>2</td>\n",
       "      <td>1</td>\n",
       "      <td>1</td>\n",
       "      <td>20</td>\n",
       "      <td>0</td>\n",
       "      <td>0</td>\n",
       "      <td>211.3</td>\n",
       "    </tr>\n",
       "    <tr>\n",
       "      <th>Jack_Boy</th>\n",
       "      <td>2</td>\n",
       "      <td>1</td>\n",
       "      <td>3</td>\n",
       "      <td>5</td>\n",
       "      <td>0</td>\n",
       "      <td>1</td>\n",
       "      <td>9.5</td>\n",
       "    </tr>\n",
       "  </tbody>\n",
       "</table>\n",
       "</div>"
      ],
      "text/plain": [
       "           sex  embarked pclass age sibsp parch   fare\n",
       "Rose         1         1      1  17     1     1  151.5\n",
       "Jack         2         1      3  20     0     0    9.5\n",
       "Jack_Rich    2         1      1  20     0     0  211.3\n",
       "Jack_Boy     2         1      3   5     0     1    9.5"
      ]
     },
     "execution_count": 20,
     "metadata": {},
     "output_type": "execute_result"
    }
   ],
   "source": [
    "#Encode categ features\n",
    "X_test = categ_encoding.transform(df_test.copy())\n",
    "X_test.head()"
   ]
  },
  {
   "cell_type": "code",
   "execution_count": 21,
   "metadata": {},
   "outputs": [
    {
     "data": {
      "text/html": [
       "<div>\n",
       "<style scoped>\n",
       "    .dataframe tbody tr th:only-of-type {\n",
       "        vertical-align: middle;\n",
       "    }\n",
       "\n",
       "    .dataframe tbody tr th {\n",
       "        vertical-align: top;\n",
       "    }\n",
       "\n",
       "    .dataframe thead th {\n",
       "        text-align: right;\n",
       "    }\n",
       "</style>\n",
       "<table border=\"1\" class=\"dataframe\">\n",
       "  <thead>\n",
       "    <tr style=\"text-align: right;\">\n",
       "      <th></th>\n",
       "      <th>pred</th>\n",
       "    </tr>\n",
       "  </thead>\n",
       "  <tbody>\n",
       "    <tr>\n",
       "      <th>Rose</th>\n",
       "      <td>1</td>\n",
       "    </tr>\n",
       "    <tr>\n",
       "      <th>Jack</th>\n",
       "      <td>0</td>\n",
       "    </tr>\n",
       "    <tr>\n",
       "      <th>Jack_Rich</th>\n",
       "      <td>0</td>\n",
       "    </tr>\n",
       "    <tr>\n",
       "      <th>Jack_Boy</th>\n",
       "      <td>1</td>\n",
       "    </tr>\n",
       "  </tbody>\n",
       "</table>\n",
       "</div>"
      ],
      "text/plain": [
       "           pred\n",
       "Rose          1\n",
       "Jack          0\n",
       "Jack_Rich     0\n",
       "Jack_Boy      1"
      ]
     },
     "execution_count": 21,
     "metadata": {},
     "output_type": "execute_result"
    }
   ],
   "source": [
    "y_pred = pd.DataFrame(rf.predict(X_test), columns=['pred'], index=X_test.index) #Build y_pred as pandas dataframe (not mandatory)\n",
    "y_pred"
   ]
  },
  {
   "cell_type": "code",
   "execution_count": 22,
   "metadata": {},
   "outputs": [
    {
     "data": {
      "text/html": [
       "<div>\n",
       "<style scoped>\n",
       "    .dataframe tbody tr th:only-of-type {\n",
       "        vertical-align: middle;\n",
       "    }\n",
       "\n",
       "    .dataframe tbody tr th {\n",
       "        vertical-align: top;\n",
       "    }\n",
       "\n",
       "    .dataframe thead th {\n",
       "        text-align: right;\n",
       "    }\n",
       "</style>\n",
       "<table border=\"1\" class=\"dataframe\">\n",
       "  <thead>\n",
       "    <tr style=\"text-align: right;\">\n",
       "      <th></th>\n",
       "      <th>0</th>\n",
       "      <th>1</th>\n",
       "    </tr>\n",
       "  </thead>\n",
       "  <tbody>\n",
       "    <tr>\n",
       "      <th>Rose</th>\n",
       "      <td>0.25</td>\n",
       "      <td>0.75</td>\n",
       "    </tr>\n",
       "    <tr>\n",
       "      <th>Jack</th>\n",
       "      <td>0.99</td>\n",
       "      <td>0.01</td>\n",
       "    </tr>\n",
       "    <tr>\n",
       "      <th>Jack_Rich</th>\n",
       "      <td>0.88</td>\n",
       "      <td>0.12</td>\n",
       "    </tr>\n",
       "    <tr>\n",
       "      <th>Jack_Boy</th>\n",
       "      <td>0.14</td>\n",
       "      <td>0.86</td>\n",
       "    </tr>\n",
       "  </tbody>\n",
       "</table>\n",
       "</div>"
      ],
      "text/plain": [
       "              0     1\n",
       "Rose       0.25  0.75\n",
       "Jack       0.99  0.01\n",
       "Jack_Rich  0.88  0.12\n",
       "Jack_Boy   0.14  0.86"
      ]
     },
     "execution_count": 22,
     "metadata": {},
     "output_type": "execute_result"
    }
   ],
   "source": [
    "#Build y_proba\n",
    "y_proba = pd.DataFrame(rf.predict_proba(X_test), index=X_test.index)\n",
    "y_proba"
   ]
  },
  {
   "cell_type": "markdown",
   "metadata": {},
   "source": [
    "## Will Rose survive (and why)?"
   ]
  },
  {
   "cell_type": "code",
   "execution_count": 23,
   "metadata": {},
   "outputs": [
    {
     "name": "stdout",
     "output_type": "stream",
     "text": [
      "Backend: Shap TreeExplainer\n"
     ]
    }
   ],
   "source": [
    "from shapash.explainer.smart_explainer import SmartExplainer\n",
    "xpl = SmartExplainer(label_dict=label_dict, features_dict=feature_dict)\n",
    "xpl.compile(x=X_test,\n",
    "            model=rf,\n",
    "            preprocessing=categ_encoding,\n",
    "            )"
   ]
  },
  {
   "cell_type": "code",
   "execution_count": 24,
   "metadata": {},
   "outputs": [
    {
     "data": {
      "application/vnd.plotly.v1+json": {
       "config": {
        "plotlyServerURL": "https://plot.ly"
       },
       "data": [
        {
         "customdata": [
          "<b>Port of embarkation :</b><br />S"
         ],
         "hovertemplate": "%{customdata}<br />Contribution: %{x:.4f}<extra></extra>",
         "marker": {
          "color": "rgba(74, 99, 138, 0.7)",
          "line": {
           "color": "rgba(27, 28, 28, 1.0)",
           "width": 0.5
          }
         },
         "orientation": "h",
         "showlegend": false,
         "type": "bar",
         "x": [
          -0.03859542576783241
         ],
         "y": [
          "<b>Port of embarkation :</b><br />S"
         ]
        },
        {
         "customdata": [
          "<b>Relatives such as brother or wife :</b><br />1"
         ],
         "hovertemplate": "%{customdata}<br />Contribution: %{x:.4f}<extra></extra>",
         "marker": {
          "color": "rgba(74, 99, 138, 0.7)",
          "line": {
           "color": "rgba(27, 28, 28, 1.0)",
           "width": 0.5
          }
         },
         "orientation": "h",
         "showlegend": false,
         "type": "bar",
         "x": [
          -0.03321775109650966
         ],
         "y": [
          "<b>Relatives such as brother or wife :</b><br />1"
         ]
        },
        {
         "customdata": [
          "<b>Age :</b><br />17"
         ],
         "hovertemplate": "%{customdata}<br />Contribution: %{x:.4f}<extra></extra>",
         "marker": {
          "color": "rgba(74, 99, 138, 0.7)",
          "line": {
           "color": "rgba(27, 28, 28, 1.0)",
           "width": 0.5
          }
         },
         "orientation": "h",
         "showlegend": false,
         "type": "bar",
         "x": [
          -0.0034669206368782876
         ],
         "y": [
          "<b>Age :</b><br />17"
         ]
        },
        {
         "customdata": [
          "<b>Passenger fare :</b><br />151.5"
         ],
         "hovertemplate": "%{customdata}<br />Contribution: %{x:.4f}<extra></extra>",
         "marker": {
          "color": "rgba(244, 192, 0, 1.0)",
          "line": {
           "color": "rgba(52, 55, 54, 0.8)",
           "width": 0.5
          }
         },
         "orientation": "h",
         "showlegend": false,
         "type": "bar",
         "x": [
          0.009744863551963181
         ],
         "y": [
          "<b>Passenger fare :</b><br />151.5"
         ]
        },
        {
         "customdata": [
          "<b>Relatives like children or parents :</b><br />1"
         ],
         "hovertemplate": "%{customdata}<br />Contribution: %{x:.4f}<extra></extra>",
         "marker": {
          "color": "rgba(244, 192, 0, 1.0)",
          "line": {
           "color": "rgba(52, 55, 54, 0.8)",
           "width": 0.5
          }
         },
         "orientation": "h",
         "showlegend": false,
         "type": "bar",
         "x": [
          0.04321822822617726
         ],
         "y": [
          "<b>Relatives like children or parents :</b><br />1"
         ]
        },
        {
         "customdata": [
          "<b>Ticket class :</b><br />1"
         ],
         "hovertemplate": "%{customdata}<br />Contribution: %{x:.4f}<extra></extra>",
         "marker": {
          "color": "rgba(244, 192, 0, 1.0)",
          "line": {
           "color": "rgba(52, 55, 54, 0.8)",
           "width": 0.5
          }
         },
         "orientation": "h",
         "showlegend": false,
         "type": "bar",
         "x": [
          0.13812029854094568
         ],
         "y": [
          "<b>Ticket class :</b><br />1"
         ]
        },
        {
         "customdata": [
          "<b>Sex :</b><br />female"
         ],
         "hovertemplate": "%{customdata}<br />Contribution: %{x:.4f}<extra></extra>",
         "marker": {
          "color": "rgba(244, 192, 0, 1.0)",
          "line": {
           "color": "rgba(52, 55, 54, 0.8)",
           "width": 0.5
          }
         },
         "orientation": "h",
         "showlegend": false,
         "type": "bar",
         "x": [
          0.25305079427151356
         ],
         "y": [
          "<b>Sex :</b><br />female"
         ]
        }
       ],
       "layout": {
        "barmode": "group",
        "height": 550,
        "hovermode": "closest",
        "margin": {
         "b": 70,
         "l": 150,
         "r": 20,
         "t": 95
        },
        "template": {
         "data": {
          "scatter": [
           {
            "type": "scatter"
           }
          ]
         }
        },
        "title": {
         "font": {
          "color": "rgb(50, 50, 50)",
          "family": "Arial",
          "size": 24
         },
         "text": "Local Explanation - Id: <b>Rose</b><span style='font-size: 12px;'><br />Response: <b>Survived</b> - Proba: <b>0.7500</b></span>",
         "x": 0.5,
         "xanchor": "center",
         "y": 0.9,
         "yanchor": "middle"
        },
        "width": 900,
        "xaxis": {
         "automargin": true,
         "title": {
          "font": {
           "color": "rgb(50, 50, 50)",
           "family": "Arial Black",
           "size": 16
          },
          "text": "Contribution"
         }
        },
        "yaxis": {
         "automargin": true,
         "title": {
          "font": {
           "color": "rgb(50, 50, 50)",
           "family": "Arial Black",
           "size": 16
          }
         },
         "type": "category"
        }
       }
      },
      "text/html": [
       "<div>                            <div id=\"674440bb-7d48-47ba-be20-47e97acfe66c\" class=\"plotly-graph-div\" style=\"height:550px; width:900px;\"></div>            <script type=\"text/javascript\">                require([\"plotly\"], function(Plotly) {                    window.PLOTLYENV=window.PLOTLYENV || {};                                    if (document.getElementById(\"674440bb-7d48-47ba-be20-47e97acfe66c\")) {                    Plotly.newPlot(                        \"674440bb-7d48-47ba-be20-47e97acfe66c\",                        [{\"customdata\": [\"<b>Port of embarkation :</b><br />S\"], \"hovertemplate\": \"%{customdata}<br />Contribution: %{x:.4f}<extra></extra>\", \"marker\": {\"color\": \"rgba(74, 99, 138, 0.7)\", \"line\": {\"color\": \"rgba(27, 28, 28, 1.0)\", \"width\": 0.5}}, \"orientation\": \"h\", \"showlegend\": false, \"type\": \"bar\", \"x\": [-0.03859542576783241], \"y\": [\"<b>Port of embarkation :</b><br />S\"]}, {\"customdata\": [\"<b>Relatives such as brother or wife :</b><br />1\"], \"hovertemplate\": \"%{customdata}<br />Contribution: %{x:.4f}<extra></extra>\", \"marker\": {\"color\": \"rgba(74, 99, 138, 0.7)\", \"line\": {\"color\": \"rgba(27, 28, 28, 1.0)\", \"width\": 0.5}}, \"orientation\": \"h\", \"showlegend\": false, \"type\": \"bar\", \"x\": [-0.03321775109650966], \"y\": [\"<b>Relatives such as brother or wife :</b><br />1\"]}, {\"customdata\": [\"<b>Age :</b><br />17\"], \"hovertemplate\": \"%{customdata}<br />Contribution: %{x:.4f}<extra></extra>\", \"marker\": {\"color\": \"rgba(74, 99, 138, 0.7)\", \"line\": {\"color\": \"rgba(27, 28, 28, 1.0)\", \"width\": 0.5}}, \"orientation\": \"h\", \"showlegend\": false, \"type\": \"bar\", \"x\": [-0.0034669206368782876], \"y\": [\"<b>Age :</b><br />17\"]}, {\"customdata\": [\"<b>Passenger fare :</b><br />151.5\"], \"hovertemplate\": \"%{customdata}<br />Contribution: %{x:.4f}<extra></extra>\", \"marker\": {\"color\": \"rgba(244, 192, 0, 1.0)\", \"line\": {\"color\": \"rgba(52, 55, 54, 0.8)\", \"width\": 0.5}}, \"orientation\": \"h\", \"showlegend\": false, \"type\": \"bar\", \"x\": [0.009744863551963181], \"y\": [\"<b>Passenger fare :</b><br />151.5\"]}, {\"customdata\": [\"<b>Relatives like children or parents :</b><br />1\"], \"hovertemplate\": \"%{customdata}<br />Contribution: %{x:.4f}<extra></extra>\", \"marker\": {\"color\": \"rgba(244, 192, 0, 1.0)\", \"line\": {\"color\": \"rgba(52, 55, 54, 0.8)\", \"width\": 0.5}}, \"orientation\": \"h\", \"showlegend\": false, \"type\": \"bar\", \"x\": [0.04321822822617726], \"y\": [\"<b>Relatives like children or parents :</b><br />1\"]}, {\"customdata\": [\"<b>Ticket class :</b><br />1\"], \"hovertemplate\": \"%{customdata}<br />Contribution: %{x:.4f}<extra></extra>\", \"marker\": {\"color\": \"rgba(244, 192, 0, 1.0)\", \"line\": {\"color\": \"rgba(52, 55, 54, 0.8)\", \"width\": 0.5}}, \"orientation\": \"h\", \"showlegend\": false, \"type\": \"bar\", \"x\": [0.13812029854094568], \"y\": [\"<b>Ticket class :</b><br />1\"]}, {\"customdata\": [\"<b>Sex :</b><br />female\"], \"hovertemplate\": \"%{customdata}<br />Contribution: %{x:.4f}<extra></extra>\", \"marker\": {\"color\": \"rgba(244, 192, 0, 1.0)\", \"line\": {\"color\": \"rgba(52, 55, 54, 0.8)\", \"width\": 0.5}}, \"orientation\": \"h\", \"showlegend\": false, \"type\": \"bar\", \"x\": [0.25305079427151356], \"y\": [\"<b>Sex :</b><br />female\"]}],                        {\"barmode\": \"group\", \"height\": 550, \"hovermode\": \"closest\", \"margin\": {\"b\": 70, \"l\": 150, \"r\": 20, \"t\": 95}, \"template\": {\"data\": {\"scatter\": [{\"type\": \"scatter\"}]}}, \"title\": {\"font\": {\"color\": \"rgb(50, 50, 50)\", \"family\": \"Arial\", \"size\": 24}, \"text\": \"Local Explanation - Id: <b>Rose</b><span style='font-size: 12px;'><br />Response: <b>Survived</b> - Proba: <b>0.7500</b></span>\", \"x\": 0.5, \"xanchor\": \"center\", \"y\": 0.9, \"yanchor\": \"middle\"}, \"width\": 900, \"xaxis\": {\"automargin\": true, \"title\": {\"font\": {\"color\": \"rgb(50, 50, 50)\", \"family\": \"Arial Black\", \"size\": 16}, \"text\": \"Contribution\"}}, \"yaxis\": {\"automargin\": true, \"title\": {\"font\": {\"color\": \"rgb(50, 50, 50)\", \"family\": \"Arial Black\", \"size\": 16}}, \"type\": \"category\"}},                        {\"responsive\": true}                    ).then(function(){\n",
       "                            \n",
       "var gd = document.getElementById('674440bb-7d48-47ba-be20-47e97acfe66c');\n",
       "var x = new MutationObserver(function (mutations, observer) {{\n",
       "        var display = window.getComputedStyle(gd).display;\n",
       "        if (!display || display === 'none') {{\n",
       "            console.log([gd, 'removed!']);\n",
       "            Plotly.purge(gd);\n",
       "            observer.disconnect();\n",
       "        }}\n",
       "}});\n",
       "\n",
       "// Listen for the removal of the full notebook cells\n",
       "var notebookContainer = gd.closest('#notebook-container');\n",
       "if (notebookContainer) {{\n",
       "    x.observe(notebookContainer, {childList: true});\n",
       "}}\n",
       "\n",
       "// Listen for the clearing of the current output cell\n",
       "var outputEl = gd.closest('.output');\n",
       "if (outputEl) {{\n",
       "    x.observe(outputEl, {childList: true});\n",
       "}}\n",
       "\n",
       "                        })                };                });            </script>        </div>"
      ]
     },
     "metadata": {},
     "output_type": "display_data"
    }
   ],
   "source": [
    "idx = 'Rose'\n",
    "xpl.plot.local_plot(index=idx)"
   ]
  },
  {
   "cell_type": "markdown",
   "metadata": {},
   "source": [
    "## What about Jack?"
   ]
  },
  {
   "cell_type": "code",
   "execution_count": 25,
   "metadata": {},
   "outputs": [
    {
     "data": {
      "application/vnd.plotly.v1+json": {
       "config": {
        "plotlyServerURL": "https://plot.ly"
       },
       "data": [
        {
         "customdata": [
          "<b>Sex :</b><br />male"
         ],
         "hovertemplate": "%{customdata}<br />Contribution: %{x:.4f}<extra></extra>",
         "marker": {
          "color": "rgba(74, 99, 138, 0.7)",
          "line": {
           "color": "rgba(27, 28, 28, 1.0)",
           "width": 0.5
          }
         },
         "orientation": "h",
         "showlegend": false,
         "type": "bar",
         "x": [
          -0.113793481032379
         ],
         "y": [
          "<b>Sex :</b><br />male"
         ]
        },
        {
         "customdata": [
          "<b>Ticket class :</b><br />3"
         ],
         "hovertemplate": "%{customdata}<br />Contribution: %{x:.4f}<extra></extra>",
         "marker": {
          "color": "rgba(74, 99, 138, 0.7)",
          "line": {
           "color": "rgba(27, 28, 28, 1.0)",
           "width": 0.5
          }
         },
         "orientation": "h",
         "showlegend": false,
         "type": "bar",
         "x": [
          -0.07456397573941122
         ],
         "y": [
          "<b>Ticket class :</b><br />3"
         ]
        },
        {
         "customdata": [
          "<b>Passenger fare :</b><br />9.5"
         ],
         "hovertemplate": "%{customdata}<br />Contribution: %{x:.4f}<extra></extra>",
         "marker": {
          "color": "rgba(74, 99, 138, 0.7)",
          "line": {
           "color": "rgba(27, 28, 28, 1.0)",
           "width": 0.5
          }
         },
         "orientation": "h",
         "showlegend": false,
         "type": "bar",
         "x": [
          -0.07128489444087227
         ],
         "y": [
          "<b>Passenger fare :</b><br />9.5"
         ]
        },
        {
         "customdata": [
          "<b>Age :</b><br />20"
         ],
         "hovertemplate": "%{customdata}<br />Contribution: %{x:.4f}<extra></extra>",
         "marker": {
          "color": "rgba(74, 99, 138, 0.7)",
          "line": {
           "color": "rgba(27, 28, 28, 1.0)",
           "width": 0.5
          }
         },
         "orientation": "h",
         "showlegend": false,
         "type": "bar",
         "x": [
          -0.04755792987922754
         ],
         "y": [
          "<b>Age :</b><br />20"
         ]
        },
        {
         "customdata": [
          "<b>Port of embarkation :</b><br />S"
         ],
         "hovertemplate": "%{customdata}<br />Contribution: %{x:.4f}<extra></extra>",
         "marker": {
          "color": "rgba(74, 99, 138, 0.7)",
          "line": {
           "color": "rgba(27, 28, 28, 1.0)",
           "width": 0.5
          }
         },
         "orientation": "h",
         "showlegend": false,
         "type": "bar",
         "x": [
          -0.04728221514579034
         ],
         "y": [
          "<b>Port of embarkation :</b><br />S"
         ]
        },
        {
         "customdata": [
          "<b>Relatives like children or parents :</b><br />0"
         ],
         "hovertemplate": "%{customdata}<br />Contribution: %{x:.4f}<extra></extra>",
         "marker": {
          "color": "rgba(74, 99, 138, 0.7)",
          "line": {
           "color": "rgba(27, 28, 28, 1.0)",
           "width": 0.5
          }
         },
         "orientation": "h",
         "showlegend": false,
         "type": "bar",
         "x": [
          -0.016455537334087396
         ],
         "y": [
          "<b>Relatives like children or parents :</b><br />0"
         ]
        },
        {
         "customdata": [
          "<b>Relatives such as brother or wife :</b><br />0"
         ],
         "hovertemplate": "%{customdata}<br />Contribution: %{x:.4f}<extra></extra>",
         "marker": {
          "color": "rgba(74, 99, 138, 0.7)",
          "line": {
           "color": "rgba(27, 28, 28, 1.0)",
           "width": 0.5
          }
         },
         "orientation": "h",
         "showlegend": false,
         "type": "bar",
         "x": [
          -0.00020787933885073857
         ],
         "y": [
          "<b>Relatives such as brother or wife :</b><br />0"
         ]
        }
       ],
       "layout": {
        "barmode": "group",
        "height": 550,
        "hovermode": "closest",
        "margin": {
         "b": 70,
         "l": 150,
         "r": 20,
         "t": 95
        },
        "template": {
         "data": {
          "scatter": [
           {
            "type": "scatter"
           }
          ]
         }
        },
        "title": {
         "font": {
          "color": "rgb(50, 50, 50)",
          "family": "Arial",
          "size": 24
         },
         "text": "Local Explanation - Id: <b>Jack</b><span style='font-size: 12px;'><br />Response: <b>Survived</b> - Proba: <b>0.0100</b></span>",
         "x": 0.5,
         "xanchor": "center",
         "y": 0.9,
         "yanchor": "middle"
        },
        "width": 900,
        "xaxis": {
         "automargin": true,
         "title": {
          "font": {
           "color": "rgb(50, 50, 50)",
           "family": "Arial Black",
           "size": 16
          },
          "text": "Contribution"
         }
        },
        "yaxis": {
         "automargin": true,
         "title": {
          "font": {
           "color": "rgb(50, 50, 50)",
           "family": "Arial Black",
           "size": 16
          }
         },
         "type": "category"
        }
       }
      },
      "text/html": [
       "<div>                            <div id=\"808283d4-6b2a-47b4-8145-dce14dcaa052\" class=\"plotly-graph-div\" style=\"height:550px; width:900px;\"></div>            <script type=\"text/javascript\">                require([\"plotly\"], function(Plotly) {                    window.PLOTLYENV=window.PLOTLYENV || {};                                    if (document.getElementById(\"808283d4-6b2a-47b4-8145-dce14dcaa052\")) {                    Plotly.newPlot(                        \"808283d4-6b2a-47b4-8145-dce14dcaa052\",                        [{\"customdata\": [\"<b>Sex :</b><br />male\"], \"hovertemplate\": \"%{customdata}<br />Contribution: %{x:.4f}<extra></extra>\", \"marker\": {\"color\": \"rgba(74, 99, 138, 0.7)\", \"line\": {\"color\": \"rgba(27, 28, 28, 1.0)\", \"width\": 0.5}}, \"orientation\": \"h\", \"showlegend\": false, \"type\": \"bar\", \"x\": [-0.113793481032379], \"y\": [\"<b>Sex :</b><br />male\"]}, {\"customdata\": [\"<b>Ticket class :</b><br />3\"], \"hovertemplate\": \"%{customdata}<br />Contribution: %{x:.4f}<extra></extra>\", \"marker\": {\"color\": \"rgba(74, 99, 138, 0.7)\", \"line\": {\"color\": \"rgba(27, 28, 28, 1.0)\", \"width\": 0.5}}, \"orientation\": \"h\", \"showlegend\": false, \"type\": \"bar\", \"x\": [-0.07456397573941122], \"y\": [\"<b>Ticket class :</b><br />3\"]}, {\"customdata\": [\"<b>Passenger fare :</b><br />9.5\"], \"hovertemplate\": \"%{customdata}<br />Contribution: %{x:.4f}<extra></extra>\", \"marker\": {\"color\": \"rgba(74, 99, 138, 0.7)\", \"line\": {\"color\": \"rgba(27, 28, 28, 1.0)\", \"width\": 0.5}}, \"orientation\": \"h\", \"showlegend\": false, \"type\": \"bar\", \"x\": [-0.07128489444087227], \"y\": [\"<b>Passenger fare :</b><br />9.5\"]}, {\"customdata\": [\"<b>Age :</b><br />20\"], \"hovertemplate\": \"%{customdata}<br />Contribution: %{x:.4f}<extra></extra>\", \"marker\": {\"color\": \"rgba(74, 99, 138, 0.7)\", \"line\": {\"color\": \"rgba(27, 28, 28, 1.0)\", \"width\": 0.5}}, \"orientation\": \"h\", \"showlegend\": false, \"type\": \"bar\", \"x\": [-0.04755792987922754], \"y\": [\"<b>Age :</b><br />20\"]}, {\"customdata\": [\"<b>Port of embarkation :</b><br />S\"], \"hovertemplate\": \"%{customdata}<br />Contribution: %{x:.4f}<extra></extra>\", \"marker\": {\"color\": \"rgba(74, 99, 138, 0.7)\", \"line\": {\"color\": \"rgba(27, 28, 28, 1.0)\", \"width\": 0.5}}, \"orientation\": \"h\", \"showlegend\": false, \"type\": \"bar\", \"x\": [-0.04728221514579034], \"y\": [\"<b>Port of embarkation :</b><br />S\"]}, {\"customdata\": [\"<b>Relatives like children or parents :</b><br />0\"], \"hovertemplate\": \"%{customdata}<br />Contribution: %{x:.4f}<extra></extra>\", \"marker\": {\"color\": \"rgba(74, 99, 138, 0.7)\", \"line\": {\"color\": \"rgba(27, 28, 28, 1.0)\", \"width\": 0.5}}, \"orientation\": \"h\", \"showlegend\": false, \"type\": \"bar\", \"x\": [-0.016455537334087396], \"y\": [\"<b>Relatives like children or parents :</b><br />0\"]}, {\"customdata\": [\"<b>Relatives such as brother or wife :</b><br />0\"], \"hovertemplate\": \"%{customdata}<br />Contribution: %{x:.4f}<extra></extra>\", \"marker\": {\"color\": \"rgba(74, 99, 138, 0.7)\", \"line\": {\"color\": \"rgba(27, 28, 28, 1.0)\", \"width\": 0.5}}, \"orientation\": \"h\", \"showlegend\": false, \"type\": \"bar\", \"x\": [-0.00020787933885073857], \"y\": [\"<b>Relatives such as brother or wife :</b><br />0\"]}],                        {\"barmode\": \"group\", \"height\": 550, \"hovermode\": \"closest\", \"margin\": {\"b\": 70, \"l\": 150, \"r\": 20, \"t\": 95}, \"template\": {\"data\": {\"scatter\": [{\"type\": \"scatter\"}]}}, \"title\": {\"font\": {\"color\": \"rgb(50, 50, 50)\", \"family\": \"Arial\", \"size\": 24}, \"text\": \"Local Explanation - Id: <b>Jack</b><span style='font-size: 12px;'><br />Response: <b>Survived</b> - Proba: <b>0.0100</b></span>\", \"x\": 0.5, \"xanchor\": \"center\", \"y\": 0.9, \"yanchor\": \"middle\"}, \"width\": 900, \"xaxis\": {\"automargin\": true, \"title\": {\"font\": {\"color\": \"rgb(50, 50, 50)\", \"family\": \"Arial Black\", \"size\": 16}, \"text\": \"Contribution\"}}, \"yaxis\": {\"automargin\": true, \"title\": {\"font\": {\"color\": \"rgb(50, 50, 50)\", \"family\": \"Arial Black\", \"size\": 16}}, \"type\": \"category\"}},                        {\"responsive\": true}                    ).then(function(){\n",
       "                            \n",
       "var gd = document.getElementById('808283d4-6b2a-47b4-8145-dce14dcaa052');\n",
       "var x = new MutationObserver(function (mutations, observer) {{\n",
       "        var display = window.getComputedStyle(gd).display;\n",
       "        if (!display || display === 'none') {{\n",
       "            console.log([gd, 'removed!']);\n",
       "            Plotly.purge(gd);\n",
       "            observer.disconnect();\n",
       "        }}\n",
       "}});\n",
       "\n",
       "// Listen for the removal of the full notebook cells\n",
       "var notebookContainer = gd.closest('#notebook-container');\n",
       "if (notebookContainer) {{\n",
       "    x.observe(notebookContainer, {childList: true});\n",
       "}}\n",
       "\n",
       "// Listen for the clearing of the current output cell\n",
       "var outputEl = gd.closest('.output');\n",
       "if (outputEl) {{\n",
       "    x.observe(outputEl, {childList: true});\n",
       "}}\n",
       "\n",
       "                        })                };                });            </script>        </div>"
      ]
     },
     "metadata": {},
     "output_type": "display_data"
    }
   ],
   "source": [
    "idx = 'Jack'\n",
    "xpl.plot.local_plot(index=idx)"
   ]
  },
  {
   "cell_type": "markdown",
   "metadata": {},
   "source": [
    "## What if Jack would be richer?\n",
    "Jack would now travel in pclass 1 with an high fare ticket."
   ]
  },
  {
   "cell_type": "code",
   "execution_count": 26,
   "metadata": {},
   "outputs": [
    {
     "data": {
      "application/vnd.plotly.v1+json": {
       "config": {
        "plotlyServerURL": "https://plot.ly"
       },
       "data": [
        {
         "customdata": [
          "<b>Sex :</b><br />male"
         ],
         "hovertemplate": "%{customdata}<br />Contribution: %{x:.4f}<extra></extra>",
         "marker": {
          "color": "rgba(74, 99, 138, 0.7)",
          "line": {
           "color": "rgba(27, 28, 28, 1.0)",
           "width": 0.5
          }
         },
         "orientation": "h",
         "showlegend": false,
         "type": "bar",
         "x": [
          -0.25945132117650016
         ],
         "y": [
          "<b>Sex :</b><br />male"
         ]
        },
        {
         "customdata": [
          "<b>Port of embarkation :</b><br />S"
         ],
         "hovertemplate": "%{customdata}<br />Contribution: %{x:.4f}<extra></extra>",
         "marker": {
          "color": "rgba(74, 99, 138, 0.7)",
          "line": {
           "color": "rgba(27, 28, 28, 1.0)",
           "width": 0.5
          }
         },
         "orientation": "h",
         "showlegend": false,
         "type": "bar",
         "x": [
          -0.01582369387252191
         ],
         "y": [
          "<b>Port of embarkation :</b><br />S"
         ]
        },
        {
         "customdata": [
          "<b>Relatives such as brother or wife :</b><br />0"
         ],
         "hovertemplate": "%{customdata}<br />Contribution: %{x:.4f}<extra></extra>",
         "marker": {
          "color": "rgba(74, 99, 138, 0.7)",
          "line": {
           "color": "rgba(27, 28, 28, 1.0)",
           "width": 0.5
          }
         },
         "orientation": "h",
         "showlegend": false,
         "type": "bar",
         "x": [
          -0.014124891454937493
         ],
         "y": [
          "<b>Relatives such as brother or wife :</b><br />0"
         ]
        },
        {
         "customdata": [
          "<b>Relatives like children or parents :</b><br />0"
         ],
         "hovertemplate": "%{customdata}<br />Contribution: %{x:.4f}<extra></extra>",
         "marker": {
          "color": "rgba(74, 99, 138, 0.7)",
          "line": {
           "color": "rgba(27, 28, 28, 1.0)",
           "width": 0.5
          }
         },
         "orientation": "h",
         "showlegend": false,
         "type": "bar",
         "x": [
          -0.013797394701611723
         ],
         "y": [
          "<b>Relatives like children or parents :</b><br />0"
         ]
        },
        {
         "customdata": [
          "<b>Age :</b><br />20"
         ],
         "hovertemplate": "%{customdata}<br />Contribution: %{x:.4f}<extra></extra>",
         "marker": {
          "color": "rgba(74, 99, 138, 0.7)",
          "line": {
           "color": "rgba(27, 28, 28, 1.0)",
           "width": 0.5
          }
         },
         "orientation": "h",
         "showlegend": false,
         "type": "bar",
         "x": [
          -0.006364098191293138
         ],
         "y": [
          "<b>Age :</b><br />20"
         ]
        },
        {
         "customdata": [
          "<b>Passenger fare :</b><br />211.3"
         ],
         "hovertemplate": "%{customdata}<br />Contribution: %{x:.4f}<extra></extra>",
         "marker": {
          "color": "rgba(244, 192, 0, 1.0)",
          "line": {
           "color": "rgba(52, 55, 54, 0.8)",
           "width": 0.5
          }
         },
         "orientation": "h",
         "showlegend": false,
         "type": "bar",
         "x": [
          0.0066954659087565494
         ],
         "y": [
          "<b>Passenger fare :</b><br />211.3"
         ]
        },
        {
         "customdata": [
          "<b>Ticket class :</b><br />1"
         ],
         "hovertemplate": "%{customdata}<br />Contribution: %{x:.4f}<extra></extra>",
         "marker": {
          "color": "rgba(244, 192, 0, 1.0)",
          "line": {
           "color": "rgba(52, 55, 54, 0.8)",
           "width": 0.5
          }
         },
         "orientation": "h",
         "showlegend": false,
         "type": "bar",
         "x": [
          0.04172002057748964
         ],
         "y": [
          "<b>Ticket class :</b><br />1"
         ]
        }
       ],
       "layout": {
        "barmode": "group",
        "height": 550,
        "hovermode": "closest",
        "margin": {
         "b": 70,
         "l": 150,
         "r": 20,
         "t": 95
        },
        "template": {
         "data": {
          "scatter": [
           {
            "type": "scatter"
           }
          ]
         }
        },
        "title": {
         "font": {
          "color": "rgb(50, 50, 50)",
          "family": "Arial",
          "size": 24
         },
         "text": "Local Explanation - Id: <b>Jack_Rich</b><span style='font-size: 12px;'><br />Response: <b>Survived</b> - Proba: <b>0.1200</b></span>",
         "x": 0.5,
         "xanchor": "center",
         "y": 0.9,
         "yanchor": "middle"
        },
        "width": 900,
        "xaxis": {
         "automargin": true,
         "title": {
          "font": {
           "color": "rgb(50, 50, 50)",
           "family": "Arial Black",
           "size": 16
          },
          "text": "Contribution"
         }
        },
        "yaxis": {
         "automargin": true,
         "title": {
          "font": {
           "color": "rgb(50, 50, 50)",
           "family": "Arial Black",
           "size": 16
          }
         },
         "type": "category"
        }
       }
      },
      "text/html": [
       "<div>                            <div id=\"3825a749-3367-4fd0-bdc4-1bb82787ab1a\" class=\"plotly-graph-div\" style=\"height:550px; width:900px;\"></div>            <script type=\"text/javascript\">                require([\"plotly\"], function(Plotly) {                    window.PLOTLYENV=window.PLOTLYENV || {};                                    if (document.getElementById(\"3825a749-3367-4fd0-bdc4-1bb82787ab1a\")) {                    Plotly.newPlot(                        \"3825a749-3367-4fd0-bdc4-1bb82787ab1a\",                        [{\"customdata\": [\"<b>Sex :</b><br />male\"], \"hovertemplate\": \"%{customdata}<br />Contribution: %{x:.4f}<extra></extra>\", \"marker\": {\"color\": \"rgba(74, 99, 138, 0.7)\", \"line\": {\"color\": \"rgba(27, 28, 28, 1.0)\", \"width\": 0.5}}, \"orientation\": \"h\", \"showlegend\": false, \"type\": \"bar\", \"x\": [-0.25945132117650016], \"y\": [\"<b>Sex :</b><br />male\"]}, {\"customdata\": [\"<b>Port of embarkation :</b><br />S\"], \"hovertemplate\": \"%{customdata}<br />Contribution: %{x:.4f}<extra></extra>\", \"marker\": {\"color\": \"rgba(74, 99, 138, 0.7)\", \"line\": {\"color\": \"rgba(27, 28, 28, 1.0)\", \"width\": 0.5}}, \"orientation\": \"h\", \"showlegend\": false, \"type\": \"bar\", \"x\": [-0.01582369387252191], \"y\": [\"<b>Port of embarkation :</b><br />S\"]}, {\"customdata\": [\"<b>Relatives such as brother or wife :</b><br />0\"], \"hovertemplate\": \"%{customdata}<br />Contribution: %{x:.4f}<extra></extra>\", \"marker\": {\"color\": \"rgba(74, 99, 138, 0.7)\", \"line\": {\"color\": \"rgba(27, 28, 28, 1.0)\", \"width\": 0.5}}, \"orientation\": \"h\", \"showlegend\": false, \"type\": \"bar\", \"x\": [-0.014124891454937493], \"y\": [\"<b>Relatives such as brother or wife :</b><br />0\"]}, {\"customdata\": [\"<b>Relatives like children or parents :</b><br />0\"], \"hovertemplate\": \"%{customdata}<br />Contribution: %{x:.4f}<extra></extra>\", \"marker\": {\"color\": \"rgba(74, 99, 138, 0.7)\", \"line\": {\"color\": \"rgba(27, 28, 28, 1.0)\", \"width\": 0.5}}, \"orientation\": \"h\", \"showlegend\": false, \"type\": \"bar\", \"x\": [-0.013797394701611723], \"y\": [\"<b>Relatives like children or parents :</b><br />0\"]}, {\"customdata\": [\"<b>Age :</b><br />20\"], \"hovertemplate\": \"%{customdata}<br />Contribution: %{x:.4f}<extra></extra>\", \"marker\": {\"color\": \"rgba(74, 99, 138, 0.7)\", \"line\": {\"color\": \"rgba(27, 28, 28, 1.0)\", \"width\": 0.5}}, \"orientation\": \"h\", \"showlegend\": false, \"type\": \"bar\", \"x\": [-0.006364098191293138], \"y\": [\"<b>Age :</b><br />20\"]}, {\"customdata\": [\"<b>Passenger fare :</b><br />211.3\"], \"hovertemplate\": \"%{customdata}<br />Contribution: %{x:.4f}<extra></extra>\", \"marker\": {\"color\": \"rgba(244, 192, 0, 1.0)\", \"line\": {\"color\": \"rgba(52, 55, 54, 0.8)\", \"width\": 0.5}}, \"orientation\": \"h\", \"showlegend\": false, \"type\": \"bar\", \"x\": [0.0066954659087565494], \"y\": [\"<b>Passenger fare :</b><br />211.3\"]}, {\"customdata\": [\"<b>Ticket class :</b><br />1\"], \"hovertemplate\": \"%{customdata}<br />Contribution: %{x:.4f}<extra></extra>\", \"marker\": {\"color\": \"rgba(244, 192, 0, 1.0)\", \"line\": {\"color\": \"rgba(52, 55, 54, 0.8)\", \"width\": 0.5}}, \"orientation\": \"h\", \"showlegend\": false, \"type\": \"bar\", \"x\": [0.04172002057748964], \"y\": [\"<b>Ticket class :</b><br />1\"]}],                        {\"barmode\": \"group\", \"height\": 550, \"hovermode\": \"closest\", \"margin\": {\"b\": 70, \"l\": 150, \"r\": 20, \"t\": 95}, \"template\": {\"data\": {\"scatter\": [{\"type\": \"scatter\"}]}}, \"title\": {\"font\": {\"color\": \"rgb(50, 50, 50)\", \"family\": \"Arial\", \"size\": 24}, \"text\": \"Local Explanation - Id: <b>Jack_Rich</b><span style='font-size: 12px;'><br />Response: <b>Survived</b> - Proba: <b>0.1200</b></span>\", \"x\": 0.5, \"xanchor\": \"center\", \"y\": 0.9, \"yanchor\": \"middle\"}, \"width\": 900, \"xaxis\": {\"automargin\": true, \"title\": {\"font\": {\"color\": \"rgb(50, 50, 50)\", \"family\": \"Arial Black\", \"size\": 16}, \"text\": \"Contribution\"}}, \"yaxis\": {\"automargin\": true, \"title\": {\"font\": {\"color\": \"rgb(50, 50, 50)\", \"family\": \"Arial Black\", \"size\": 16}}, \"type\": \"category\"}},                        {\"responsive\": true}                    ).then(function(){\n",
       "                            \n",
       "var gd = document.getElementById('3825a749-3367-4fd0-bdc4-1bb82787ab1a');\n",
       "var x = new MutationObserver(function (mutations, observer) {{\n",
       "        var display = window.getComputedStyle(gd).display;\n",
       "        if (!display || display === 'none') {{\n",
       "            console.log([gd, 'removed!']);\n",
       "            Plotly.purge(gd);\n",
       "            observer.disconnect();\n",
       "        }}\n",
       "}});\n",
       "\n",
       "// Listen for the removal of the full notebook cells\n",
       "var notebookContainer = gd.closest('#notebook-container');\n",
       "if (notebookContainer) {{\n",
       "    x.observe(notebookContainer, {childList: true});\n",
       "}}\n",
       "\n",
       "// Listen for the clearing of the current output cell\n",
       "var outputEl = gd.closest('.output');\n",
       "if (outputEl) {{\n",
       "    x.observe(outputEl, {childList: true});\n",
       "}}\n",
       "\n",
       "                        })                };                });            </script>        </div>"
      ]
     },
     "metadata": {},
     "output_type": "display_data"
    }
   ],
   "source": [
    "idx = 'Jack_Rich'\n",
    "xpl.plot.local_plot(index=idx)"
   ]
  },
  {
   "cell_type": "markdown",
   "metadata": {},
   "source": [
    "## If Jack was a litle boy?\n",
    "Jack is now a litle boy (5 years old) travelling with his mother (parch=1) in class 3."
   ]
  },
  {
   "cell_type": "code",
   "execution_count": 27,
   "metadata": {},
   "outputs": [
    {
     "data": {
      "application/vnd.plotly.v1+json": {
       "config": {
        "plotlyServerURL": "https://plot.ly"
       },
       "data": [
        {
         "customdata": [
          "<b>Sex :</b><br />male"
         ],
         "hovertemplate": "%{customdata}<br />Contribution: %{x:.4f}<extra></extra>",
         "marker": {
          "color": "rgba(74, 99, 138, 0.7)",
          "line": {
           "color": "rgba(27, 28, 28, 1.0)",
           "width": 0.5
          }
         },
         "orientation": "h",
         "showlegend": false,
         "type": "bar",
         "x": [
          -0.0500842956734119
         ],
         "y": [
          "<b>Sex :</b><br />male"
         ]
        },
        {
         "customdata": [
          "<b>Ticket class :</b><br />3"
         ],
         "hovertemplate": "%{customdata}<br />Contribution: %{x:.4f}<extra></extra>",
         "marker": {
          "color": "rgba(74, 99, 138, 0.7)",
          "line": {
           "color": "rgba(27, 28, 28, 1.0)",
           "width": 0.5
          }
         },
         "orientation": "h",
         "showlegend": false,
         "type": "bar",
         "x": [
          -0.016624993894762633
         ],
         "y": [
          "<b>Ticket class :</b><br />3"
         ]
        },
        {
         "customdata": [
          "<b>Port of embarkation :</b><br />S"
         ],
         "hovertemplate": "%{customdata}<br />Contribution: %{x:.4f}<extra></extra>",
         "marker": {
          "color": "rgba(74, 99, 138, 0.7)",
          "line": {
           "color": "rgba(27, 28, 28, 1.0)",
           "width": 0.5
          }
         },
         "orientation": "h",
         "showlegend": false,
         "type": "bar",
         "x": [
          -0.006610033336237899
         ],
         "y": [
          "<b>Port of embarkation :</b><br />S"
         ]
        },
        {
         "customdata": [
          "<b>Passenger fare :</b><br />9.5"
         ],
         "hovertemplate": "%{customdata}<br />Contribution: %{x:.4f}<extra></extra>",
         "marker": {
          "color": "rgba(244, 192, 0, 1.0)",
          "line": {
           "color": "rgba(52, 55, 54, 0.8)",
           "width": 0.5
          }
         },
         "orientation": "h",
         "showlegend": false,
         "type": "bar",
         "x": [
          0.029156091963949055
         ],
         "y": [
          "<b>Passenger fare :</b><br />9.5"
         ]
        },
        {
         "customdata": [
          "<b>Relatives such as brother or wife :</b><br />0"
         ],
         "hovertemplate": "%{customdata}<br />Contribution: %{x:.4f}<extra></extra>",
         "marker": {
          "color": "rgba(244, 192, 0, 1.0)",
          "line": {
           "color": "rgba(52, 55, 54, 0.8)",
           "width": 0.5
          }
         },
         "orientation": "h",
         "showlegend": false,
         "type": "bar",
         "x": [
          0.06278309044546299
         ],
         "y": [
          "<b>Relatives such as brother or wife :</b><br />0"
         ]
        },
        {
         "customdata": [
          "<b>Relatives like children or parents :</b><br />1"
         ],
         "hovertemplate": "%{customdata}<br />Contribution: %{x:.4f}<extra></extra>",
         "marker": {
          "color": "rgba(244, 192, 0, 1.0)",
          "line": {
           "color": "rgba(52, 55, 54, 0.8)",
           "width": 0.5
          }
         },
         "orientation": "h",
         "showlegend": false,
         "type": "bar",
         "x": [
          0.11654318181296243
         ],
         "y": [
          "<b>Relatives like children or parents :</b><br />1"
         ]
        },
        {
         "customdata": [
          "<b>Age :</b><br />5"
         ],
         "hovertemplate": "%{customdata}<br />Contribution: %{x:.4f}<extra></extra>",
         "marker": {
          "color": "rgba(244, 192, 0, 1.0)",
          "line": {
           "color": "rgba(52, 55, 54, 0.8)",
           "width": 0.5
          }
         },
         "orientation": "h",
         "showlegend": false,
         "type": "bar",
         "x": [
          0.34369104577141885
         ],
         "y": [
          "<b>Age :</b><br />5"
         ]
        }
       ],
       "layout": {
        "barmode": "group",
        "height": 550,
        "hovermode": "closest",
        "margin": {
         "b": 70,
         "l": 150,
         "r": 20,
         "t": 95
        },
        "template": {
         "data": {
          "scatter": [
           {
            "type": "scatter"
           }
          ]
         }
        },
        "title": {
         "font": {
          "color": "rgb(50, 50, 50)",
          "family": "Arial",
          "size": 24
         },
         "text": "Local Explanation - Id: <b>Jack_Boy</b><span style='font-size: 12px;'><br />Response: <b>Survived</b> - Proba: <b>0.8600</b></span>",
         "x": 0.5,
         "xanchor": "center",
         "y": 0.9,
         "yanchor": "middle"
        },
        "width": 900,
        "xaxis": {
         "automargin": true,
         "title": {
          "font": {
           "color": "rgb(50, 50, 50)",
           "family": "Arial Black",
           "size": 16
          },
          "text": "Contribution"
         }
        },
        "yaxis": {
         "automargin": true,
         "title": {
          "font": {
           "color": "rgb(50, 50, 50)",
           "family": "Arial Black",
           "size": 16
          }
         },
         "type": "category"
        }
       }
      },
      "text/html": [
       "<div>                            <div id=\"aac19d44-3080-4815-aa50-a98f4266a938\" class=\"plotly-graph-div\" style=\"height:550px; width:900px;\"></div>            <script type=\"text/javascript\">                require([\"plotly\"], function(Plotly) {                    window.PLOTLYENV=window.PLOTLYENV || {};                                    if (document.getElementById(\"aac19d44-3080-4815-aa50-a98f4266a938\")) {                    Plotly.newPlot(                        \"aac19d44-3080-4815-aa50-a98f4266a938\",                        [{\"customdata\": [\"<b>Sex :</b><br />male\"], \"hovertemplate\": \"%{customdata}<br />Contribution: %{x:.4f}<extra></extra>\", \"marker\": {\"color\": \"rgba(74, 99, 138, 0.7)\", \"line\": {\"color\": \"rgba(27, 28, 28, 1.0)\", \"width\": 0.5}}, \"orientation\": \"h\", \"showlegend\": false, \"type\": \"bar\", \"x\": [-0.0500842956734119], \"y\": [\"<b>Sex :</b><br />male\"]}, {\"customdata\": [\"<b>Ticket class :</b><br />3\"], \"hovertemplate\": \"%{customdata}<br />Contribution: %{x:.4f}<extra></extra>\", \"marker\": {\"color\": \"rgba(74, 99, 138, 0.7)\", \"line\": {\"color\": \"rgba(27, 28, 28, 1.0)\", \"width\": 0.5}}, \"orientation\": \"h\", \"showlegend\": false, \"type\": \"bar\", \"x\": [-0.016624993894762633], \"y\": [\"<b>Ticket class :</b><br />3\"]}, {\"customdata\": [\"<b>Port of embarkation :</b><br />S\"], \"hovertemplate\": \"%{customdata}<br />Contribution: %{x:.4f}<extra></extra>\", \"marker\": {\"color\": \"rgba(74, 99, 138, 0.7)\", \"line\": {\"color\": \"rgba(27, 28, 28, 1.0)\", \"width\": 0.5}}, \"orientation\": \"h\", \"showlegend\": false, \"type\": \"bar\", \"x\": [-0.006610033336237899], \"y\": [\"<b>Port of embarkation :</b><br />S\"]}, {\"customdata\": [\"<b>Passenger fare :</b><br />9.5\"], \"hovertemplate\": \"%{customdata}<br />Contribution: %{x:.4f}<extra></extra>\", \"marker\": {\"color\": \"rgba(244, 192, 0, 1.0)\", \"line\": {\"color\": \"rgba(52, 55, 54, 0.8)\", \"width\": 0.5}}, \"orientation\": \"h\", \"showlegend\": false, \"type\": \"bar\", \"x\": [0.029156091963949055], \"y\": [\"<b>Passenger fare :</b><br />9.5\"]}, {\"customdata\": [\"<b>Relatives such as brother or wife :</b><br />0\"], \"hovertemplate\": \"%{customdata}<br />Contribution: %{x:.4f}<extra></extra>\", \"marker\": {\"color\": \"rgba(244, 192, 0, 1.0)\", \"line\": {\"color\": \"rgba(52, 55, 54, 0.8)\", \"width\": 0.5}}, \"orientation\": \"h\", \"showlegend\": false, \"type\": \"bar\", \"x\": [0.06278309044546299], \"y\": [\"<b>Relatives such as brother or wife :</b><br />0\"]}, {\"customdata\": [\"<b>Relatives like children or parents :</b><br />1\"], \"hovertemplate\": \"%{customdata}<br />Contribution: %{x:.4f}<extra></extra>\", \"marker\": {\"color\": \"rgba(244, 192, 0, 1.0)\", \"line\": {\"color\": \"rgba(52, 55, 54, 0.8)\", \"width\": 0.5}}, \"orientation\": \"h\", \"showlegend\": false, \"type\": \"bar\", \"x\": [0.11654318181296243], \"y\": [\"<b>Relatives like children or parents :</b><br />1\"]}, {\"customdata\": [\"<b>Age :</b><br />5\"], \"hovertemplate\": \"%{customdata}<br />Contribution: %{x:.4f}<extra></extra>\", \"marker\": {\"color\": \"rgba(244, 192, 0, 1.0)\", \"line\": {\"color\": \"rgba(52, 55, 54, 0.8)\", \"width\": 0.5}}, \"orientation\": \"h\", \"showlegend\": false, \"type\": \"bar\", \"x\": [0.34369104577141885], \"y\": [\"<b>Age :</b><br />5\"]}],                        {\"barmode\": \"group\", \"height\": 550, \"hovermode\": \"closest\", \"margin\": {\"b\": 70, \"l\": 150, \"r\": 20, \"t\": 95}, \"template\": {\"data\": {\"scatter\": [{\"type\": \"scatter\"}]}}, \"title\": {\"font\": {\"color\": \"rgb(50, 50, 50)\", \"family\": \"Arial\", \"size\": 24}, \"text\": \"Local Explanation - Id: <b>Jack_Boy</b><span style='font-size: 12px;'><br />Response: <b>Survived</b> - Proba: <b>0.8600</b></span>\", \"x\": 0.5, \"xanchor\": \"center\", \"y\": 0.9, \"yanchor\": \"middle\"}, \"width\": 900, \"xaxis\": {\"automargin\": true, \"title\": {\"font\": {\"color\": \"rgb(50, 50, 50)\", \"family\": \"Arial Black\", \"size\": 16}, \"text\": \"Contribution\"}}, \"yaxis\": {\"automargin\": true, \"title\": {\"font\": {\"color\": \"rgb(50, 50, 50)\", \"family\": \"Arial Black\", \"size\": 16}}, \"type\": \"category\"}},                        {\"responsive\": true}                    ).then(function(){\n",
       "                            \n",
       "var gd = document.getElementById('aac19d44-3080-4815-aa50-a98f4266a938');\n",
       "var x = new MutationObserver(function (mutations, observer) {{\n",
       "        var display = window.getComputedStyle(gd).display;\n",
       "        if (!display || display === 'none') {{\n",
       "            console.log([gd, 'removed!']);\n",
       "            Plotly.purge(gd);\n",
       "            observer.disconnect();\n",
       "        }}\n",
       "}});\n",
       "\n",
       "// Listen for the removal of the full notebook cells\n",
       "var notebookContainer = gd.closest('#notebook-container');\n",
       "if (notebookContainer) {{\n",
       "    x.observe(notebookContainer, {childList: true});\n",
       "}}\n",
       "\n",
       "// Listen for the clearing of the current output cell\n",
       "var outputEl = gd.closest('.output');\n",
       "if (outputEl) {{\n",
       "    x.observe(outputEl, {childList: true});\n",
       "}}\n",
       "\n",
       "                        })                };                });            </script>        </div>"
      ]
     },
     "metadata": {},
     "output_type": "display_data"
    }
   ],
   "source": [
    "idx = 'Jack_Boy'\n",
    "xpl.plot.local_plot(index=idx)"
   ]
  },
  {
   "cell_type": "code",
   "execution_count": 28,
   "metadata": {},
   "outputs": [
    {
     "name": "stdout",
     "output_type": "stream",
     "text": [
      "Dash is running on http://0.0.0.0:8050/\n",
      "\n"
     ]
    },
    {
     "name": "stderr",
     "output_type": "stream",
     "text": [
      "/home/tlevy/.cache/pypoetry/virtualenvs/explainability-ZpE4ZdDW-py3.8/lib/python3.8/site-packages/shapash/webapp/smart_app.py:307: FutureWarning:\n",
      "\n",
      "Using short name for 'orient' is deprecated. Only the options: ('dict', list, 'series', 'split', 'records', 'index') will be used in a future version. Use one of the above to silence this warning.\n",
      "\n",
      "INFO:root:Your Shapash application run on http://LAPTOP-6PNC4SFU:8050/\n",
      "INFO:shapash.webapp.smart_app:Dash is running on http://0.0.0.0:8050/\n",
      "\n"
     ]
    },
    {
     "name": "stdout",
     "output_type": "stream",
     "text": [
      " * Serving Flask app 'shapash.webapp.smart_app' (lazy loading)\n"
     ]
    },
    {
     "name": "stderr",
     "output_type": "stream",
     "text": [
      "INFO:root:Use the method .kill() to down your app.\n"
     ]
    },
    {
     "name": "stdout",
     "output_type": "stream",
     "text": [
      " * Environment: production\n",
      "\u001b[31m   WARNING: This is a development server. Do not use it in a production deployment.\u001b[0m\n",
      "\u001b[2m   Use a production WSGI server instead.\u001b[0m\n",
      " * Debug mode: off\n"
     ]
    }
   ],
   "source": [
    "#Test the web app\n",
    "app = xpl.run_app()"
   ]
  },
  {
   "cell_type": "code",
   "execution_count": 29,
   "metadata": {},
   "outputs": [
    {
     "name": "stderr",
     "output_type": "stream",
     "text": [
      "WARNING:werkzeug: * Running on all addresses.\n",
      "   WARNING: This is a development server. Do not use it in a production deployment.\n",
      "INFO:werkzeug: * Running on http://172.26.37.159:8050/ (Press CTRL+C to quit)\n"
     ]
    }
   ],
   "source": [
    "#Stop the webapp\n",
    "app.kill()"
   ]
  },
  {
   "cell_type": "code",
   "execution_count": 30,
   "metadata": {},
   "outputs": [
    {
     "data": {
      "text/html": [
       "<div>\n",
       "<style scoped>\n",
       "    .dataframe tbody tr th:only-of-type {\n",
       "        vertical-align: middle;\n",
       "    }\n",
       "\n",
       "    .dataframe tbody tr th {\n",
       "        vertical-align: top;\n",
       "    }\n",
       "\n",
       "    .dataframe thead th {\n",
       "        text-align: right;\n",
       "    }\n",
       "</style>\n",
       "<table border=\"1\" class=\"dataframe\">\n",
       "  <thead>\n",
       "    <tr style=\"text-align: right;\">\n",
       "      <th></th>\n",
       "      <th>pred</th>\n",
       "      <th>proba</th>\n",
       "      <th>feature_1</th>\n",
       "      <th>value_1</th>\n",
       "      <th>contribution_1</th>\n",
       "      <th>feature_2</th>\n",
       "      <th>value_2</th>\n",
       "      <th>contribution_2</th>\n",
       "      <th>feature_3</th>\n",
       "      <th>value_3</th>\n",
       "      <th>contribution_3</th>\n",
       "    </tr>\n",
       "  </thead>\n",
       "  <tbody>\n",
       "    <tr>\n",
       "      <th>Rose</th>\n",
       "      <td>Survived</td>\n",
       "      <td>0.75</td>\n",
       "      <td>Sex</td>\n",
       "      <td>female</td>\n",
       "      <td>0.253051</td>\n",
       "      <td>Ticket class</td>\n",
       "      <td>1</td>\n",
       "      <td>0.13812</td>\n",
       "      <td>Relatives like children or parents</td>\n",
       "      <td>1</td>\n",
       "      <td>0.043218</td>\n",
       "    </tr>\n",
       "    <tr>\n",
       "      <th>Jack</th>\n",
       "      <td>Not Survived</td>\n",
       "      <td>0.99</td>\n",
       "      <td>Sex</td>\n",
       "      <td>male</td>\n",
       "      <td>0.113793</td>\n",
       "      <td>Ticket class</td>\n",
       "      <td>3</td>\n",
       "      <td>0.074564</td>\n",
       "      <td>Passenger fare</td>\n",
       "      <td>9.5</td>\n",
       "      <td>0.071285</td>\n",
       "    </tr>\n",
       "    <tr>\n",
       "      <th>Jack_Rich</th>\n",
       "      <td>Not Survived</td>\n",
       "      <td>0.88</td>\n",
       "      <td>Sex</td>\n",
       "      <td>male</td>\n",
       "      <td>0.259451</td>\n",
       "      <td>Ticket class</td>\n",
       "      <td>1</td>\n",
       "      <td>-0.04172</td>\n",
       "      <td>Port of embarkation</td>\n",
       "      <td>S</td>\n",
       "      <td>0.015824</td>\n",
       "    </tr>\n",
       "    <tr>\n",
       "      <th>Jack_Boy</th>\n",
       "      <td>Survived</td>\n",
       "      <td>0.86</td>\n",
       "      <td>Age</td>\n",
       "      <td>5</td>\n",
       "      <td>0.343691</td>\n",
       "      <td>Relatives like children or parents</td>\n",
       "      <td>1</td>\n",
       "      <td>0.116543</td>\n",
       "      <td>Relatives such as brother or wife</td>\n",
       "      <td>0</td>\n",
       "      <td>0.062783</td>\n",
       "    </tr>\n",
       "  </tbody>\n",
       "</table>\n",
       "</div>"
      ],
      "text/plain": [
       "                   pred  proba feature_1 value_1 contribution_1  \\\n",
       "Rose           Survived   0.75       Sex  female       0.253051   \n",
       "Jack       Not Survived   0.99       Sex    male       0.113793   \n",
       "Jack_Rich  Not Survived   0.88       Sex    male       0.259451   \n",
       "Jack_Boy       Survived   0.86       Age       5       0.343691   \n",
       "\n",
       "                                    feature_2 value_2 contribution_2  \\\n",
       "Rose                             Ticket class       1        0.13812   \n",
       "Jack                             Ticket class       3       0.074564   \n",
       "Jack_Rich                        Ticket class       1       -0.04172   \n",
       "Jack_Boy   Relatives like children or parents       1       0.116543   \n",
       "\n",
       "                                    feature_3 value_3 contribution_3  \n",
       "Rose       Relatives like children or parents       1       0.043218  \n",
       "Jack                           Passenger fare     9.5       0.071285  \n",
       "Jack_Rich                 Port of embarkation       S       0.015824  \n",
       "Jack_Boy    Relatives such as brother or wife       0       0.062783  "
      ]
     },
     "execution_count": 30,
     "metadata": {},
     "output_type": "execute_result"
    }
   ],
   "source": [
    "#Summary of all the local predictions\n",
    "xpl.add(y_pred=y_pred)\n",
    "summary_df = xpl.to_pandas(max_contrib=3,proba=True)\n",
    "summary_df"
   ]
  },
  {
   "cell_type": "markdown",
   "metadata": {},
   "source": []
  }
 ],
 "metadata": {
  "instance_type": "ml.t3.medium",
  "interpreter": {
   "hash": "8cee627ed98e60d56b69a368f7974d11c4374b2fb8986b61676cc872791d5f0b"
  },
  "kernelspec": {
   "display_name": "Python 3 (SageMaker JumpStart Data Science 1.0)",
   "language": "python",
   "name": "python3"
  },
  "language_info": {
   "codemirror_mode": {
    "name": "ipython",
    "version": 3
   },
   "file_extension": ".py",
   "mimetype": "text/x-python",
   "name": "python",
   "nbconvert_exporter": "python",
   "pygments_lexer": "ipython3",
   "version": "3.8.13"
  }
 },
 "nbformat": 4,
 "nbformat_minor": 4
}
