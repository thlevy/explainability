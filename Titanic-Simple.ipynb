{
 "cells": [
  {
   "cell_type": "markdown",
   "metadata": {},
   "source": [
    "# Exemple entrainement classifier sur Titanic"
   ]
  },
  {
   "cell_type": "code",
   "execution_count": 34,
   "metadata": {},
   "outputs": [
    {
     "data": {
      "text/plain": [
       "'0.24.2'"
      ]
     },
     "execution_count": 34,
     "metadata": {},
     "output_type": "execute_result"
    }
   ],
   "source": [
    "#import des librairies publiques\n",
    "import pandas as pd\n",
    "import numpy as np\n",
    "import sklearn\n",
    "from sklearn.metrics import classification_report, confusion_matrix, accuracy_score\n",
    "from sklearn.ensemble import RandomForestClassifier\n",
    "from category_encoders import OrdinalEncoder \n",
    "from sklearn.model_selection import train_test_split\n",
    "from sklearn.pipeline import make_pipeline\n",
    "from sklearn import set_config\n",
    "from joblib import dump \n",
    "sklearn.__version__"
   ]
  },
  {
   "cell_type": "code",
   "execution_count": 24,
   "metadata": {},
   "outputs": [
    {
     "data": {
      "text/html": [
       "<div>\n",
       "<style scoped>\n",
       "    .dataframe tbody tr th:only-of-type {\n",
       "        vertical-align: middle;\n",
       "    }\n",
       "\n",
       "    .dataframe tbody tr th {\n",
       "        vertical-align: top;\n",
       "    }\n",
       "\n",
       "    .dataframe thead th {\n",
       "        text-align: right;\n",
       "    }\n",
       "</style>\n",
       "<table border=\"1\" class=\"dataframe\">\n",
       "  <thead>\n",
       "    <tr style=\"text-align: right;\">\n",
       "      <th></th>\n",
       "      <th>Unnamed: 0</th>\n",
       "      <th>pclass</th>\n",
       "      <th>name</th>\n",
       "      <th>sex</th>\n",
       "      <th>age</th>\n",
       "      <th>sibsp</th>\n",
       "      <th>parch</th>\n",
       "      <th>ticket</th>\n",
       "      <th>fare</th>\n",
       "      <th>cabin</th>\n",
       "      <th>embarked</th>\n",
       "      <th>boat</th>\n",
       "      <th>body</th>\n",
       "      <th>home.dest</th>\n",
       "      <th>survived</th>\n",
       "    </tr>\n",
       "  </thead>\n",
       "  <tbody>\n",
       "    <tr>\n",
       "      <th>0</th>\n",
       "      <td>0</td>\n",
       "      <td>1.0</td>\n",
       "      <td>Allen, Miss. Elisabeth Walton</td>\n",
       "      <td>female</td>\n",
       "      <td>29.0000</td>\n",
       "      <td>0.0</td>\n",
       "      <td>0.0</td>\n",
       "      <td>24160</td>\n",
       "      <td>211.3375</td>\n",
       "      <td>B5</td>\n",
       "      <td>S</td>\n",
       "      <td>2</td>\n",
       "      <td>NaN</td>\n",
       "      <td>St Louis, MO</td>\n",
       "      <td>1</td>\n",
       "    </tr>\n",
       "    <tr>\n",
       "      <th>1</th>\n",
       "      <td>1</td>\n",
       "      <td>1.0</td>\n",
       "      <td>Allison, Master. Hudson Trevor</td>\n",
       "      <td>male</td>\n",
       "      <td>0.9167</td>\n",
       "      <td>1.0</td>\n",
       "      <td>2.0</td>\n",
       "      <td>113781</td>\n",
       "      <td>151.5500</td>\n",
       "      <td>C22 C26</td>\n",
       "      <td>S</td>\n",
       "      <td>11</td>\n",
       "      <td>NaN</td>\n",
       "      <td>Montreal, PQ / Chesterville, ON</td>\n",
       "      <td>1</td>\n",
       "    </tr>\n",
       "    <tr>\n",
       "      <th>2</th>\n",
       "      <td>2</td>\n",
       "      <td>1.0</td>\n",
       "      <td>Allison, Miss. Helen Loraine</td>\n",
       "      <td>female</td>\n",
       "      <td>2.0000</td>\n",
       "      <td>1.0</td>\n",
       "      <td>2.0</td>\n",
       "      <td>113781</td>\n",
       "      <td>151.5500</td>\n",
       "      <td>C22 C26</td>\n",
       "      <td>S</td>\n",
       "      <td>NaN</td>\n",
       "      <td>NaN</td>\n",
       "      <td>Montreal, PQ / Chesterville, ON</td>\n",
       "      <td>0</td>\n",
       "    </tr>\n",
       "    <tr>\n",
       "      <th>3</th>\n",
       "      <td>3</td>\n",
       "      <td>1.0</td>\n",
       "      <td>Allison, Mr. Hudson Joshua Creighton</td>\n",
       "      <td>male</td>\n",
       "      <td>30.0000</td>\n",
       "      <td>1.0</td>\n",
       "      <td>2.0</td>\n",
       "      <td>113781</td>\n",
       "      <td>151.5500</td>\n",
       "      <td>C22 C26</td>\n",
       "      <td>S</td>\n",
       "      <td>NaN</td>\n",
       "      <td>135.0</td>\n",
       "      <td>Montreal, PQ / Chesterville, ON</td>\n",
       "      <td>0</td>\n",
       "    </tr>\n",
       "    <tr>\n",
       "      <th>4</th>\n",
       "      <td>4</td>\n",
       "      <td>1.0</td>\n",
       "      <td>Allison, Mrs. Hudson J C (Bessie Waldo Daniels)</td>\n",
       "      <td>female</td>\n",
       "      <td>25.0000</td>\n",
       "      <td>1.0</td>\n",
       "      <td>2.0</td>\n",
       "      <td>113781</td>\n",
       "      <td>151.5500</td>\n",
       "      <td>C22 C26</td>\n",
       "      <td>S</td>\n",
       "      <td>NaN</td>\n",
       "      <td>NaN</td>\n",
       "      <td>Montreal, PQ / Chesterville, ON</td>\n",
       "      <td>0</td>\n",
       "    </tr>\n",
       "  </tbody>\n",
       "</table>\n",
       "</div>"
      ],
      "text/plain": [
       "   Unnamed: 0  pclass                                             name  \\\n",
       "0           0     1.0                    Allen, Miss. Elisabeth Walton   \n",
       "1           1     1.0                   Allison, Master. Hudson Trevor   \n",
       "2           2     1.0                     Allison, Miss. Helen Loraine   \n",
       "3           3     1.0             Allison, Mr. Hudson Joshua Creighton   \n",
       "4           4     1.0  Allison, Mrs. Hudson J C (Bessie Waldo Daniels)   \n",
       "\n",
       "      sex      age  sibsp  parch  ticket      fare    cabin embarked boat  \\\n",
       "0  female  29.0000    0.0    0.0   24160  211.3375       B5        S    2   \n",
       "1    male   0.9167    1.0    2.0  113781  151.5500  C22 C26        S   11   \n",
       "2  female   2.0000    1.0    2.0  113781  151.5500  C22 C26        S  NaN   \n",
       "3    male  30.0000    1.0    2.0  113781  151.5500  C22 C26        S  NaN   \n",
       "4  female  25.0000    1.0    2.0  113781  151.5500  C22 C26        S  NaN   \n",
       "\n",
       "    body                        home.dest  survived  \n",
       "0    NaN                     St Louis, MO         1  \n",
       "1    NaN  Montreal, PQ / Chesterville, ON         1  \n",
       "2    NaN  Montreal, PQ / Chesterville, ON         0  \n",
       "3  135.0  Montreal, PQ / Chesterville, ON         0  \n",
       "4    NaN  Montreal, PQ / Chesterville, ON         0  "
      ]
     },
     "execution_count": 24,
     "metadata": {},
     "output_type": "execute_result"
    }
   ],
   "source": [
    "# import des jeux de donnees\n",
    "# données numériques & categorielles\n",
    "df = pd.read_csv('data_test/titanic.csv')\n",
    "df.head()"
   ]
  },
  {
   "cell_type": "markdown",
   "metadata": {},
   "source": [
    "## Préparation des données"
   ]
  },
  {
   "cell_type": "code",
   "execution_count": 25,
   "metadata": {},
   "outputs": [
    {
     "name": "stdout",
     "output_type": "stream",
     "text": [
      "<class 'pandas.core.frame.DataFrame'>\n",
      "RangeIndex: 1309 entries, 0 to 1308\n",
      "Data columns (total 8 columns):\n",
      " #   Column    Non-Null Count  Dtype  \n",
      "---  ------    --------------  -----  \n",
      " 0   pclass    1309 non-null   int64  \n",
      " 1   sex       1309 non-null   object \n",
      " 2   embarked  1307 non-null   object \n",
      " 3   age       1046 non-null   float64\n",
      " 4   sibsp     1309 non-null   float64\n",
      " 5   parch     1309 non-null   float64\n",
      " 6   fare      1308 non-null   float64\n",
      " 7   survived  1309 non-null   int64  \n",
      "dtypes: float64(4), int64(2), object(2)\n",
      "memory usage: 81.9+ KB\n"
     ]
    }
   ],
   "source": [
    "#On décide d'utiliser 7 variables pour prédire si un passager va survivre\n",
    "target_var = ['survived']\n",
    "x_var = ['pclass', 'sex', 'embarked', 'age', 'sibsp', 'parch', 'fare']\n",
    "df = df[x_var+target_var].copy()\n",
    "df['pclass'] = df['pclass'].astype('int')\n",
    "df.info()"
   ]
  },
  {
   "cell_type": "code",
   "execution_count": 4,
   "metadata": {},
   "outputs": [
    {
     "name": "stdout",
     "output_type": "stream",
     "text": [
      "<class 'pandas.core.frame.DataFrame'>\n",
      "Int64Index: 1306 entries, 0 to 1308\n",
      "Data columns (total 8 columns):\n",
      " #   Column    Non-Null Count  Dtype  \n",
      "---  ------    --------------  -----  \n",
      " 0   pclass    1306 non-null   int64  \n",
      " 1   sex       1306 non-null   object \n",
      " 2   embarked  1306 non-null   object \n",
      " 3   age       1306 non-null   float64\n",
      " 4   sibsp     1306 non-null   float64\n",
      " 5   parch     1306 non-null   float64\n",
      " 6   fare      1306 non-null   float64\n",
      " 7   survived  1306 non-null   int64  \n",
      "dtypes: float64(4), int64(2), object(2)\n",
      "memory usage: 91.8+ KB\n"
     ]
    }
   ],
   "source": [
    "# Traitement des var manquantes\n",
    "\n",
    "#Remplacement age manquant par mediane\n",
    "df['age'] = df['age'].fillna(df['age'].median())\n",
    "\n",
    "#On drop les lignes avec d'autres valeurs manquantes (qui sont tres peu nombreuses)\n",
    "df = df.dropna(axis=0, how='any')\n",
    "df.info()"
   ]
  },
  {
   "cell_type": "code",
   "execution_count": 15,
   "metadata": {},
   "outputs": [
    {
     "name": "stdout",
     "output_type": "stream",
     "text": [
      "<class 'pandas.core.frame.DataFrame'>\n",
      "Int64Index: 1306 entries, 0 to 1308\n",
      "Data columns (total 7 columns):\n",
      " #   Column    Non-Null Count  Dtype  \n",
      "---  ------    --------------  -----  \n",
      " 0   pclass    1306 non-null   int64  \n",
      " 1   sex       1306 non-null   object \n",
      " 2   embarked  1306 non-null   object \n",
      " 3   age       1306 non-null   float64\n",
      " 4   sibsp     1306 non-null   float64\n",
      " 5   parch     1306 non-null   float64\n",
      " 6   fare      1306 non-null   float64\n",
      "dtypes: float64(4), int64(1), object(2)\n",
      "memory usage: 81.6+ KB\n"
     ]
    }
   ],
   "source": [
    "#Creation X et y\n",
    "X = df[x_var].copy()\n",
    "y = df[target_var].values.reshape(-1)\n",
    "X.head()\n",
    "X.info()"
   ]
  },
  {
   "cell_type": "markdown",
   "metadata": {},
   "source": [
    "# Entrainement du modele"
   ]
  },
  {
   "cell_type": "code",
   "execution_count": 27,
   "metadata": {},
   "outputs": [
    {
     "data": {
      "text/plain": [
       "(1044,)"
      ]
     },
     "execution_count": 27,
     "metadata": {},
     "output_type": "execute_result"
    }
   ],
   "source": [
    "#separation train/test pour entrainer (et valider le modele)\n",
    "x_train, x_test, y_train, y_test = train_test_split(X, y, test_size=0.2, random_state=0)\n",
    "x_train.shape\n",
    "y_train.shape"
   ]
  },
  {
   "cell_type": "code",
   "execution_count": 36,
   "metadata": {},
   "outputs": [
    {
     "data": {
      "text/html": [
       "<style>#sk-8b62aedf-6211-4b85-82f9-2f74475b3ee0 {color: black;background-color: white;}#sk-8b62aedf-6211-4b85-82f9-2f74475b3ee0 pre{padding: 0;}#sk-8b62aedf-6211-4b85-82f9-2f74475b3ee0 div.sk-toggleable {background-color: white;}#sk-8b62aedf-6211-4b85-82f9-2f74475b3ee0 label.sk-toggleable__label {cursor: pointer;display: block;width: 100%;margin-bottom: 0;padding: 0.2em 0.3em;box-sizing: border-box;text-align: center;}#sk-8b62aedf-6211-4b85-82f9-2f74475b3ee0 div.sk-toggleable__content {max-height: 0;max-width: 0;overflow: hidden;text-align: left;background-color: #f0f8ff;}#sk-8b62aedf-6211-4b85-82f9-2f74475b3ee0 div.sk-toggleable__content pre {margin: 0.2em;color: black;border-radius: 0.25em;background-color: #f0f8ff;}#sk-8b62aedf-6211-4b85-82f9-2f74475b3ee0 input.sk-toggleable__control:checked~div.sk-toggleable__content {max-height: 200px;max-width: 100%;overflow: auto;}#sk-8b62aedf-6211-4b85-82f9-2f74475b3ee0 div.sk-estimator input.sk-toggleable__control:checked~label.sk-toggleable__label {background-color: #d4ebff;}#sk-8b62aedf-6211-4b85-82f9-2f74475b3ee0 div.sk-label input.sk-toggleable__control:checked~label.sk-toggleable__label {background-color: #d4ebff;}#sk-8b62aedf-6211-4b85-82f9-2f74475b3ee0 input.sk-hidden--visually {border: 0;clip: rect(1px 1px 1px 1px);clip: rect(1px, 1px, 1px, 1px);height: 1px;margin: -1px;overflow: hidden;padding: 0;position: absolute;width: 1px;}#sk-8b62aedf-6211-4b85-82f9-2f74475b3ee0 div.sk-estimator {font-family: monospace;background-color: #f0f8ff;margin: 0.25em 0.25em;border: 1px dotted black;border-radius: 0.25em;box-sizing: border-box;}#sk-8b62aedf-6211-4b85-82f9-2f74475b3ee0 div.sk-estimator:hover {background-color: #d4ebff;}#sk-8b62aedf-6211-4b85-82f9-2f74475b3ee0 div.sk-parallel-item::after {content: \"\";width: 100%;border-bottom: 1px solid gray;flex-grow: 1;}#sk-8b62aedf-6211-4b85-82f9-2f74475b3ee0 div.sk-label:hover label.sk-toggleable__label {background-color: #d4ebff;}#sk-8b62aedf-6211-4b85-82f9-2f74475b3ee0 div.sk-serial::before {content: \"\";position: absolute;border-left: 1px solid gray;box-sizing: border-box;top: 2em;bottom: 0;left: 50%;}#sk-8b62aedf-6211-4b85-82f9-2f74475b3ee0 div.sk-serial {display: flex;flex-direction: column;align-items: center;background-color: white;}#sk-8b62aedf-6211-4b85-82f9-2f74475b3ee0 div.sk-item {z-index: 1;}#sk-8b62aedf-6211-4b85-82f9-2f74475b3ee0 div.sk-parallel {display: flex;align-items: stretch;justify-content: center;background-color: white;}#sk-8b62aedf-6211-4b85-82f9-2f74475b3ee0 div.sk-parallel-item {display: flex;flex-direction: column;position: relative;background-color: white;}#sk-8b62aedf-6211-4b85-82f9-2f74475b3ee0 div.sk-parallel-item:first-child::after {align-self: flex-end;width: 50%;}#sk-8b62aedf-6211-4b85-82f9-2f74475b3ee0 div.sk-parallel-item:last-child::after {align-self: flex-start;width: 50%;}#sk-8b62aedf-6211-4b85-82f9-2f74475b3ee0 div.sk-parallel-item:only-child::after {width: 0;}#sk-8b62aedf-6211-4b85-82f9-2f74475b3ee0 div.sk-dashed-wrapped {border: 1px dashed gray;margin: 0.2em;box-sizing: border-box;padding-bottom: 0.1em;background-color: white;position: relative;}#sk-8b62aedf-6211-4b85-82f9-2f74475b3ee0 div.sk-label label {font-family: monospace;font-weight: bold;background-color: white;display: inline-block;line-height: 1.2em;}#sk-8b62aedf-6211-4b85-82f9-2f74475b3ee0 div.sk-label-container {position: relative;z-index: 2;text-align: center;}#sk-8b62aedf-6211-4b85-82f9-2f74475b3ee0 div.sk-container {display: inline-block;position: relative;}</style><div id=\"sk-8b62aedf-6211-4b85-82f9-2f74475b3ee0\" class\"sk-top-container\"><div class=\"sk-container\"><div class=\"sk-item\"><div class=\"sk-estimator sk-toggleable\"><input class=\"sk-toggleable__control sk-hidden--visually\" id=\"77f2cefa-b7ff-4827-b7b1-fac99738f785\" type=\"checkbox\" checked><label class=\"sk-toggleable__label\" for=\"77f2cefa-b7ff-4827-b7b1-fac99738f785\">OrdinalEncoder</label><div class=\"sk-toggleable__content\"><pre>OrdinalEncoder(cols=['sex', 'embarked'])</pre></div></div></div></div></div>"
      ],
      "text/plain": [
       "OrdinalEncoder(cols=['sex', 'embarked'])"
      ]
     },
     "execution_count": 36,
     "metadata": {},
     "output_type": "execute_result"
    }
   ],
   "source": [
    "#Creation d'un encoder pour les vars categorielles\n",
    "categorical_columns = ['sex', 'embarked']\n",
    "encoder = OrdinalEncoder(cols=categorical_columns, return_df=True)\n",
    "encoder"
   ]
  },
  {
   "cell_type": "code",
   "execution_count": 37,
   "metadata": {},
   "outputs": [
    {
     "data": {
      "text/html": [
       "<style>#sk-001b1679-a966-4977-83b7-46c76ae843a9 {color: black;background-color: white;}#sk-001b1679-a966-4977-83b7-46c76ae843a9 pre{padding: 0;}#sk-001b1679-a966-4977-83b7-46c76ae843a9 div.sk-toggleable {background-color: white;}#sk-001b1679-a966-4977-83b7-46c76ae843a9 label.sk-toggleable__label {cursor: pointer;display: block;width: 100%;margin-bottom: 0;padding: 0.2em 0.3em;box-sizing: border-box;text-align: center;}#sk-001b1679-a966-4977-83b7-46c76ae843a9 div.sk-toggleable__content {max-height: 0;max-width: 0;overflow: hidden;text-align: left;background-color: #f0f8ff;}#sk-001b1679-a966-4977-83b7-46c76ae843a9 div.sk-toggleable__content pre {margin: 0.2em;color: black;border-radius: 0.25em;background-color: #f0f8ff;}#sk-001b1679-a966-4977-83b7-46c76ae843a9 input.sk-toggleable__control:checked~div.sk-toggleable__content {max-height: 200px;max-width: 100%;overflow: auto;}#sk-001b1679-a966-4977-83b7-46c76ae843a9 div.sk-estimator input.sk-toggleable__control:checked~label.sk-toggleable__label {background-color: #d4ebff;}#sk-001b1679-a966-4977-83b7-46c76ae843a9 div.sk-label input.sk-toggleable__control:checked~label.sk-toggleable__label {background-color: #d4ebff;}#sk-001b1679-a966-4977-83b7-46c76ae843a9 input.sk-hidden--visually {border: 0;clip: rect(1px 1px 1px 1px);clip: rect(1px, 1px, 1px, 1px);height: 1px;margin: -1px;overflow: hidden;padding: 0;position: absolute;width: 1px;}#sk-001b1679-a966-4977-83b7-46c76ae843a9 div.sk-estimator {font-family: monospace;background-color: #f0f8ff;margin: 0.25em 0.25em;border: 1px dotted black;border-radius: 0.25em;box-sizing: border-box;}#sk-001b1679-a966-4977-83b7-46c76ae843a9 div.sk-estimator:hover {background-color: #d4ebff;}#sk-001b1679-a966-4977-83b7-46c76ae843a9 div.sk-parallel-item::after {content: \"\";width: 100%;border-bottom: 1px solid gray;flex-grow: 1;}#sk-001b1679-a966-4977-83b7-46c76ae843a9 div.sk-label:hover label.sk-toggleable__label {background-color: #d4ebff;}#sk-001b1679-a966-4977-83b7-46c76ae843a9 div.sk-serial::before {content: \"\";position: absolute;border-left: 1px solid gray;box-sizing: border-box;top: 2em;bottom: 0;left: 50%;}#sk-001b1679-a966-4977-83b7-46c76ae843a9 div.sk-serial {display: flex;flex-direction: column;align-items: center;background-color: white;}#sk-001b1679-a966-4977-83b7-46c76ae843a9 div.sk-item {z-index: 1;}#sk-001b1679-a966-4977-83b7-46c76ae843a9 div.sk-parallel {display: flex;align-items: stretch;justify-content: center;background-color: white;}#sk-001b1679-a966-4977-83b7-46c76ae843a9 div.sk-parallel-item {display: flex;flex-direction: column;position: relative;background-color: white;}#sk-001b1679-a966-4977-83b7-46c76ae843a9 div.sk-parallel-item:first-child::after {align-self: flex-end;width: 50%;}#sk-001b1679-a966-4977-83b7-46c76ae843a9 div.sk-parallel-item:last-child::after {align-self: flex-start;width: 50%;}#sk-001b1679-a966-4977-83b7-46c76ae843a9 div.sk-parallel-item:only-child::after {width: 0;}#sk-001b1679-a966-4977-83b7-46c76ae843a9 div.sk-dashed-wrapped {border: 1px dashed gray;margin: 0.2em;box-sizing: border-box;padding-bottom: 0.1em;background-color: white;position: relative;}#sk-001b1679-a966-4977-83b7-46c76ae843a9 div.sk-label label {font-family: monospace;font-weight: bold;background-color: white;display: inline-block;line-height: 1.2em;}#sk-001b1679-a966-4977-83b7-46c76ae843a9 div.sk-label-container {position: relative;z-index: 2;text-align: center;}#sk-001b1679-a966-4977-83b7-46c76ae843a9 div.sk-container {display: inline-block;position: relative;}</style><div id=\"sk-001b1679-a966-4977-83b7-46c76ae843a9\" class\"sk-top-container\"><div class=\"sk-container\"><div class=\"sk-item\"><div class=\"sk-estimator sk-toggleable\"><input class=\"sk-toggleable__control sk-hidden--visually\" id=\"ab481207-07dd-4365-9af1-0a2d7a695fcb\" type=\"checkbox\" checked><label class=\"sk-toggleable__label\" for=\"ab481207-07dd-4365-9af1-0a2d7a695fcb\">RandomForestClassifier</label><div class=\"sk-toggleable__content\"><pre>RandomForestClassifier(random_state=0)</pre></div></div></div></div></div>"
      ],
      "text/plain": [
       "RandomForestClassifier(random_state=0)"
      ]
     },
     "execution_count": 37,
     "metadata": {},
     "output_type": "execute_result"
    }
   ],
   "source": [
    "#Creation RandomForestClassifier\n",
    "rf = RandomForestClassifier(random_state=0)\n",
    "rf"
   ]
  },
  {
   "cell_type": "code",
   "execution_count": 38,
   "metadata": {},
   "outputs": [
    {
     "data": {
      "text/html": [
       "<style>#sk-36a0c7c4-a3a4-4b14-b08d-3b0ec40420c3 {color: black;background-color: white;}#sk-36a0c7c4-a3a4-4b14-b08d-3b0ec40420c3 pre{padding: 0;}#sk-36a0c7c4-a3a4-4b14-b08d-3b0ec40420c3 div.sk-toggleable {background-color: white;}#sk-36a0c7c4-a3a4-4b14-b08d-3b0ec40420c3 label.sk-toggleable__label {cursor: pointer;display: block;width: 100%;margin-bottom: 0;padding: 0.2em 0.3em;box-sizing: border-box;text-align: center;}#sk-36a0c7c4-a3a4-4b14-b08d-3b0ec40420c3 div.sk-toggleable__content {max-height: 0;max-width: 0;overflow: hidden;text-align: left;background-color: #f0f8ff;}#sk-36a0c7c4-a3a4-4b14-b08d-3b0ec40420c3 div.sk-toggleable__content pre {margin: 0.2em;color: black;border-radius: 0.25em;background-color: #f0f8ff;}#sk-36a0c7c4-a3a4-4b14-b08d-3b0ec40420c3 input.sk-toggleable__control:checked~div.sk-toggleable__content {max-height: 200px;max-width: 100%;overflow: auto;}#sk-36a0c7c4-a3a4-4b14-b08d-3b0ec40420c3 div.sk-estimator input.sk-toggleable__control:checked~label.sk-toggleable__label {background-color: #d4ebff;}#sk-36a0c7c4-a3a4-4b14-b08d-3b0ec40420c3 div.sk-label input.sk-toggleable__control:checked~label.sk-toggleable__label {background-color: #d4ebff;}#sk-36a0c7c4-a3a4-4b14-b08d-3b0ec40420c3 input.sk-hidden--visually {border: 0;clip: rect(1px 1px 1px 1px);clip: rect(1px, 1px, 1px, 1px);height: 1px;margin: -1px;overflow: hidden;padding: 0;position: absolute;width: 1px;}#sk-36a0c7c4-a3a4-4b14-b08d-3b0ec40420c3 div.sk-estimator {font-family: monospace;background-color: #f0f8ff;margin: 0.25em 0.25em;border: 1px dotted black;border-radius: 0.25em;box-sizing: border-box;}#sk-36a0c7c4-a3a4-4b14-b08d-3b0ec40420c3 div.sk-estimator:hover {background-color: #d4ebff;}#sk-36a0c7c4-a3a4-4b14-b08d-3b0ec40420c3 div.sk-parallel-item::after {content: \"\";width: 100%;border-bottom: 1px solid gray;flex-grow: 1;}#sk-36a0c7c4-a3a4-4b14-b08d-3b0ec40420c3 div.sk-label:hover label.sk-toggleable__label {background-color: #d4ebff;}#sk-36a0c7c4-a3a4-4b14-b08d-3b0ec40420c3 div.sk-serial::before {content: \"\";position: absolute;border-left: 1px solid gray;box-sizing: border-box;top: 2em;bottom: 0;left: 50%;}#sk-36a0c7c4-a3a4-4b14-b08d-3b0ec40420c3 div.sk-serial {display: flex;flex-direction: column;align-items: center;background-color: white;}#sk-36a0c7c4-a3a4-4b14-b08d-3b0ec40420c3 div.sk-item {z-index: 1;}#sk-36a0c7c4-a3a4-4b14-b08d-3b0ec40420c3 div.sk-parallel {display: flex;align-items: stretch;justify-content: center;background-color: white;}#sk-36a0c7c4-a3a4-4b14-b08d-3b0ec40420c3 div.sk-parallel-item {display: flex;flex-direction: column;position: relative;background-color: white;}#sk-36a0c7c4-a3a4-4b14-b08d-3b0ec40420c3 div.sk-parallel-item:first-child::after {align-self: flex-end;width: 50%;}#sk-36a0c7c4-a3a4-4b14-b08d-3b0ec40420c3 div.sk-parallel-item:last-child::after {align-self: flex-start;width: 50%;}#sk-36a0c7c4-a3a4-4b14-b08d-3b0ec40420c3 div.sk-parallel-item:only-child::after {width: 0;}#sk-36a0c7c4-a3a4-4b14-b08d-3b0ec40420c3 div.sk-dashed-wrapped {border: 1px dashed gray;margin: 0.2em;box-sizing: border-box;padding-bottom: 0.1em;background-color: white;position: relative;}#sk-36a0c7c4-a3a4-4b14-b08d-3b0ec40420c3 div.sk-label label {font-family: monospace;font-weight: bold;background-color: white;display: inline-block;line-height: 1.2em;}#sk-36a0c7c4-a3a4-4b14-b08d-3b0ec40420c3 div.sk-label-container {position: relative;z-index: 2;text-align: center;}#sk-36a0c7c4-a3a4-4b14-b08d-3b0ec40420c3 div.sk-container {display: inline-block;position: relative;}</style><div id=\"sk-36a0c7c4-a3a4-4b14-b08d-3b0ec40420c3\" class\"sk-top-container\"><div class=\"sk-container\"><div class=\"sk-item sk-dashed-wrapped\"><div class=\"sk-label-container\"><div class=\"sk-label sk-toggleable\"><input class=\"sk-toggleable__control sk-hidden--visually\" id=\"9ac08a31-ab8a-456c-9708-f62030289bc3\" type=\"checkbox\" ><label class=\"sk-toggleable__label\" for=\"9ac08a31-ab8a-456c-9708-f62030289bc3\">Pipeline</label><div class=\"sk-toggleable__content\"><pre>Pipeline(steps=[('ordinalencoder',\n",
       "                 OrdinalEncoder(cols=['sex', 'embarked'],\n",
       "                                mapping=[{'col': 'sex', 'data_type': dtype('O'),\n",
       "                                          'mapping': male      1\n",
       "female    2\n",
       "NaN      -2\n",
       "dtype: int64},\n",
       "                                         {'col': 'embarked',\n",
       "                                          'data_type': dtype('O'),\n",
       "                                          'mapping': S      1\n",
       "C      2\n",
       "Q      3\n",
       "NaN   -2\n",
       "dtype: int64}])),\n",
       "                ('randomforestclassifier',\n",
       "                 RandomForestClassifier(random_state=0))])</pre></div></div></div><div class=\"sk-serial\"><div class=\"sk-item\"><div class=\"sk-estimator sk-toggleable\"><input class=\"sk-toggleable__control sk-hidden--visually\" id=\"f6464031-a51e-43ea-a1db-94af9155b376\" type=\"checkbox\" ><label class=\"sk-toggleable__label\" for=\"f6464031-a51e-43ea-a1db-94af9155b376\">OrdinalEncoder</label><div class=\"sk-toggleable__content\"><pre>OrdinalEncoder(cols=['sex', 'embarked'],\n",
       "               mapping=[{'col': 'sex', 'data_type': dtype('O'),\n",
       "                         'mapping': male      1\n",
       "female    2\n",
       "NaN      -2\n",
       "dtype: int64},\n",
       "                        {'col': 'embarked', 'data_type': dtype('O'),\n",
       "                         'mapping': S      1\n",
       "C      2\n",
       "Q      3\n",
       "NaN   -2\n",
       "dtype: int64}])</pre></div></div></div><div class=\"sk-item\"><div class=\"sk-estimator sk-toggleable\"><input class=\"sk-toggleable__control sk-hidden--visually\" id=\"668a051a-243e-47da-96e0-12ba3ea6d4a0\" type=\"checkbox\" ><label class=\"sk-toggleable__label\" for=\"668a051a-243e-47da-96e0-12ba3ea6d4a0\">RandomForestClassifier</label><div class=\"sk-toggleable__content\"><pre>RandomForestClassifier(random_state=0)</pre></div></div></div></div></div></div></div>"
      ],
      "text/plain": [
       "Pipeline(steps=[('ordinalencoder',\n",
       "                 OrdinalEncoder(cols=['sex', 'embarked'],\n",
       "                                mapping=[{'col': 'sex', 'data_type': dtype('O'),\n",
       "                                          'mapping': male      1\n",
       "female    2\n",
       "NaN      -2\n",
       "dtype: int64},\n",
       "                                         {'col': 'embarked',\n",
       "                                          'data_type': dtype('O'),\n",
       "                                          'mapping': S      1\n",
       "C      2\n",
       "Q      3\n",
       "NaN   -2\n",
       "dtype: int64}])),\n",
       "                ('randomforestclassifier',\n",
       "                 RandomForestClassifier(random_state=0))])"
      ]
     },
     "execution_count": 38,
     "metadata": {},
     "output_type": "execute_result"
    }
   ],
   "source": [
    "#Creation et entrainement du pipeline\n",
    "from sklearn.pipeline import make_pipeline\n",
    "from sklearn import set_config\n",
    "pipe = make_pipeline(encoder, rf)\n",
    "set_config(display=\"diagram\")\n",
    "pipe.fit(x_train, y_train)\n",
    "\n"
   ]
  },
  {
   "cell_type": "code",
   "execution_count": 30,
   "metadata": {},
   "outputs": [],
   "source": [
    "#Evaluation sur données de test\n",
    "y_pred = pipe.predict(x_test)"
   ]
  },
  {
   "cell_type": "code",
   "execution_count": 39,
   "metadata": {},
   "outputs": [
    {
     "name": "stdout",
     "output_type": "stream",
     "text": [
      "Accuracy:  0.8015267175572519\n",
      "              precision    recall  f1-score   support\n",
      "\n",
      "           0       0.84      0.83      0.83       157\n",
      "           1       0.75      0.76      0.75       105\n",
      "\n",
      "    accuracy                           0.80       262\n",
      "   macro avg       0.79      0.79      0.79       262\n",
      "weighted avg       0.80      0.80      0.80       262\n",
      "\n"
     ]
    }
   ],
   "source": [
    "#Calcul de certaines metriques\n",
    "print(\"Accuracy: \",accuracy_score(y_test, y_pred))\n",
    "print(classification_report(y_test, y_pred))"
   ]
  },
  {
   "cell_type": "markdown",
   "metadata": {},
   "source": [
    "## Sauvegarde du modele"
   ]
  },
  {
   "cell_type": "code",
   "execution_count": 40,
   "metadata": {},
   "outputs": [
    {
     "data": {
      "text/plain": [
       "['pipe.joblib']"
      ]
     },
     "execution_count": 40,
     "metadata": {},
     "output_type": "execute_result"
    }
   ],
   "source": [
    "#Sauvegarde du modele pipe\n",
    "dump(pipe, 'pipe.joblib')"
   ]
  }
 ],
 "metadata": {
  "kernelspec": {
   "display_name": "Python 3.8.13 ('explainability-ZpE4ZdDW-py3.8')",
   "language": "python",
   "name": "python3"
  },
  "language_info": {
   "codemirror_mode": {
    "name": "ipython",
    "version": 3
   },
   "file_extension": ".py",
   "mimetype": "text/x-python",
   "name": "python",
   "nbconvert_exporter": "python",
   "pygments_lexer": "ipython3",
   "version": "3.8.13"
  },
  "orig_nbformat": 4,
  "vscode": {
   "interpreter": {
    "hash": "8cee627ed98e60d56b69a368f7974d11c4374b2fb8986b61676cc872791d5f0b"
   }
  }
 },
 "nbformat": 4,
 "nbformat_minor": 2
}
